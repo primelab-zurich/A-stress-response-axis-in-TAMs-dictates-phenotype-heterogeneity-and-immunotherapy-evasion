{
 "cells": [
  {
   "cell_type": "markdown",
   "id": "37c3b755-d4bf-4dee-9986-89be3a6adfe8",
   "metadata": {},
   "source": [
    "# Keap tumors WT vs KO\n",
    "Python analysis using scanpy 1.9 Docker image: cr.gitlab.uzh.ch/elena.duerst/docker-images/scanpy1p9_bioc:0.5"
   ]
  },
  {
   "cell_type": "code",
   "execution_count": null,
   "id": "2dfee9d4-668c-46d6-9416-4fbffd889f1d",
   "metadata": {},
   "outputs": [],
   "source": [
    "import numpy as np\n",
    "import pandas as pd\n",
    "import scanpy as sc\n",
    "import seaborn as sns\n",
    "import matplotlib.pyplot as plt\n",
    "import scipy\n",
    "import pathlib\n",
    "import anndata as anndata\n",
    "import scvelo as scv\n",
    "import matplotlib as mpl\n",
    "import decoupler as dc"
   ]
  },
  {
   "cell_type": "code",
   "execution_count": null,
   "id": "f648fe68-0f9a-40c8-92b9-f788020454ca",
   "metadata": {},
   "outputs": [],
   "source": [
    "import sys\n",
    "sys.path.insert(0, \"../../shared/src\")\n",
    "import decoupler_helpers\n",
    "import scanpy_cluster_proportions"
   ]
  },
  {
   "cell_type": "code",
   "execution_count": null,
   "id": "709b81f4-08e4-491e-808a-d2370471fd77",
   "metadata": {},
   "outputs": [],
   "source": [
    "new_rc_params = {'text.usetex': False,\n",
    "\"svg.fonttype\": 'none'\n",
    "}\n",
    "mpl.rcParams.update(new_rc_params)"
   ]
  },
  {
   "cell_type": "code",
   "execution_count": null,
   "id": "b1c60147-130e-48dc-8ad3-e959757b6b20",
   "metadata": {},
   "outputs": [],
   "source": [
    "sc.settings.verbosity = 3             # verbosity: errors (0), warnings (1), info (2), hints (3)\n",
    "sc.logging.print_header()\n",
    "sc.settings.set_figure_params(dpi=100, facecolor='white', figsize = (4,4), dpi_save=300, frameon = False)\n",
    "path_to_results = pathlib.Path('../results/')\n",
    "sc.settings.figdir = path_to_results\n",
    "umap_point_size = 30\n",
    "umap_transparency = 0.3\n",
    "umap_continuous_point_size = 30\n",
    "umap_continuous_transparency = 0.7\n",
    "aspect_ratio = 1\n",
    "save_figure = False"
   ]
  },
  {
   "cell_type": "code",
   "execution_count": null,
   "id": "9e0f230b-e174-41c7-97bc-2c6c0d0fca0e",
   "metadata": {},
   "outputs": [],
   "source": [
    "intermediate_data_path = pathlib.Path('../data/intermediate/')\n",
    "intermediate_data_path.mkdir(parents=True, exist_ok=True)\n",
    "results_file = pathlib.Path(intermediate_data_path) / 'preprocessed.h5ad'\n",
    "data_path = pathlib.Path('../data/raw')"
   ]
  },
  {
   "cell_type": "markdown",
   "id": "8f5f0589-0eae-4fdc-80a2-fdc8667987d8",
   "metadata": {},
   "source": [
    "# Data import"
   ]
  },
  {
   "cell_type": "code",
   "execution_count": null,
   "id": "898c0475-cb48-429b-a731-47283657718c",
   "metadata": {},
   "outputs": [],
   "source": [
    "samples = ['KeapWT1_day5', 'KeapWT1_day1', 'KeapWT3_day5', 'KeapKO_day5', 'KeapKO_day1', 'KeapWT3_day1'] # in order to get the exact same result, it is necessary to use this order"
   ]
  },
  {
   "cell_type": "code",
   "execution_count": null,
   "id": "b7264638-68d6-4227-a685-3f623b8e3584",
   "metadata": {},
   "outputs": [],
   "source": [
    "adatas = {}\n",
    "for sam in samples:\n",
    "    adata = sc.read_10x_h5(data_path / '{}_sample_filtered_feature_bc_matrix.h5'.format(sam))\n",
    "    adata.obs['sample'] = sam\n",
    "    day = sam.split('_')[1]\n",
    "    adata.obs['day'] = day\n",
    "    genotype = 'WT' if 'WT' in sam else 'KO'\n",
    "    print(genotype)\n",
    "    #sample_type = sam.split('_')[1]\n",
    "    #adata.obs['sample_type'] = sample_type\n",
    "    adata.obs['genotype'] = genotype\n",
    "    adata.obs['genotype_day'] = genotype + '_' + day\n",
    "    print(genotype + '_' + day)\n",
    "    print(adata.shape)\n",
    "    adata.var_names_make_unique()\n",
    "    adatas[sam] = adata"
   ]
  },
  {
   "cell_type": "markdown",
   "id": "2a74ebe1-2201-4d6f-b29d-34fbce72c5e4",
   "metadata": {},
   "source": [
    "# QC"
   ]
  },
  {
   "cell_type": "code",
   "execution_count": null,
   "id": "36b570b7-5dfb-4b22-86f0-0165b6ea6df1",
   "metadata": {},
   "outputs": [],
   "source": [
    " for name,adata in adatas.items():\n",
    "    adata.var['mt'] = adata.var_names.str.startswith('mt-')\n",
    "    sc.pp.calculate_qc_metrics(adata, qc_vars=['mt'], percent_top=None, log1p=False, inplace=True)\n",
    "    adata.var['Rp'] = adata.var_names.str.startswith('Rp') \n",
    "    sc.pp.calculate_qc_metrics(adata, qc_vars=['Rp'], percent_top=None, log1p=False, inplace=True)"
   ]
  },
  {
   "cell_type": "code",
   "execution_count": null,
   "id": "62735ede-741b-4588-ba78-68e6036d95ee",
   "metadata": {},
   "outputs": [],
   "source": [
    " for name, ad in adatas.items():\n",
    "    print(name)\n",
    "    sc.pl.violin(adata, ['n_genes_by_counts', 'total_counts', 'pct_counts_mt', 'pct_counts_Rp'],\n",
    "             jitter=0.4, multi_panel=True, save = f\"{name}.png\" if save_figure else None)"
   ]
  },
  {
   "cell_type": "code",
   "execution_count": null,
   "id": "c52d0eae-3a76-48c4-9dbe-0d7338e67c9f",
   "metadata": {},
   "outputs": [],
   "source": [
    "for name, adata in adatas.items():\n",
    "    print(name)\n",
    "    sc.pl.scatter(adata, x='total_counts', y='pct_counts_mt', color= 'n_genes_by_counts')\n",
    "    sc.pl.scatter(adata, x='total_counts', y='n_genes_by_counts', color = \"pct_counts_mt\")\n",
    "    sc.pl.scatter(adata, x='pct_counts_mt', y='pct_counts_Rp', color = 'n_genes_by_counts')"
   ]
  },
  {
   "cell_type": "code",
   "execution_count": null,
   "id": "51d459f3-077d-4d46-8e4f-ae7ff490411e",
   "metadata": {},
   "outputs": [],
   "source": [
    "min_numof_genes = 200\n",
    "max_numof_genes = 8000#7000\n",
    "for name, adata in adatas.items():\n",
    "    fig, axs = plt.subplots(1, 4, figsize=(12, 3))\n",
    "    fig.suptitle(f\"Covariates for filtering: {name}\")\n",
    "\n",
    "    sns.histplot(adata.obs[\"total_counts\"], kde=False, ax=axs[0])\n",
    "    sns.histplot(\n",
    "        adata.obs[\"total_counts\"][adata.obs[\"total_counts\"] < 40000],\n",
    "        kde=False,\n",
    "        bins=40,\n",
    "        ax=axs[1],\n",
    "    )\n",
    "    plot = sns.histplot(adata.obs[\"n_genes_by_counts\"], kde=False, bins=60, ax=axs[2])\n",
    "    plot.axvline(x = min_numof_genes, color = 'red')\n",
    "    plot.axvline(x = max_numof_genes, color = 'red')\n",
    "    sns.histplot(\n",
    "        adata.obs[\"n_genes_by_counts\"][adata.obs[\"n_genes_by_counts\"] < min_numof_genes + 1000],\n",
    "        kde=False,\n",
    "        bins=60,\n",
    "        ax=axs[3],\n",
    "    )\n",
    "    plt.axvline(x = min_numof_genes, color = 'red')"
   ]
  },
  {
   "cell_type": "markdown",
   "id": "a3c0b438-1f2b-4e14-94cd-b7114337fd3f",
   "metadata": {},
   "source": [
    "# Filtering"
   ]
  },
  {
   "cell_type": "code",
   "execution_count": null,
   "id": "5cca172d-8d27-4d18-9336-53f46bfdaa54",
   "metadata": {},
   "outputs": [],
   "source": [
    "max_pct_mt = 5\n",
    "for name, adata in adatas.items():\n",
    "    adatas[name] = adata[adata.obs['pct_counts_mt'] < max_pct_mt , :]\n",
    "    #helpers.assert_all_finite(adata.X)"
   ]
  },
  {
   "cell_type": "code",
   "execution_count": null,
   "id": "e46f2b86-f620-482f-b1d4-b7b178dcb9c6",
   "metadata": {},
   "outputs": [],
   "source": [
    " for adata in adatas.values():\n",
    "    sc.pp.filter_cells(adata, min_genes = min_numof_genes)\n",
    "    sc.pp.filter_cells(adata, max_genes = max_numof_genes)\n",
    "    sc.pp.filter_genes(adata, min_cells = 1)\n",
    "    #helpers.assert_all_finite(adata.X)\n",
    "    print(adata.shape)"
   ]
  },
  {
   "cell_type": "markdown",
   "id": "0efe1334-28f6-4929-b52e-fe39a67b88c7",
   "metadata": {},
   "source": [
    "# QC after filtering"
   ]
  },
  {
   "cell_type": "code",
   "execution_count": null,
   "id": "5756cfab-5bdc-4dce-b643-13c06d3d110f",
   "metadata": {},
   "outputs": [],
   "source": [
    "for name, adata in adatas.items():\n",
    "    sc.pl.violin(adata, ['n_genes_by_counts', 'total_counts', 'pct_counts_mt', 'pct_counts_Rp'],\n",
    "             jitter=0.4, multi_panel=True, save = f\"{name}_filtered.png\" if save_figure else None)"
   ]
  },
  {
   "cell_type": "code",
   "execution_count": null,
   "id": "63da4045-3ba9-41b9-9b5d-9410125528ba",
   "metadata": {},
   "outputs": [],
   "source": [
    "adata = anndata.concat(adatas, join = \"outer\", fill_value=0)\n",
    "adata.obs_names_make_unique()"
   ]
  },
  {
   "cell_type": "code",
   "execution_count": null,
   "id": "6c5a59a7-e6d6-4cd0-b781-a4e6e189581b",
   "metadata": {},
   "outputs": [],
   "source": [
    "del adatas"
   ]
  },
  {
   "cell_type": "markdown",
   "id": "5f3ea472-3fa7-448e-9188-0499a9d2cae0",
   "metadata": {},
   "source": [
    "# Normalization, transformation"
   ]
  },
  {
   "cell_type": "code",
   "execution_count": null,
   "id": "cb8de832-f94e-4dd6-bd82-4d20a0c8ca10",
   "metadata": {},
   "outputs": [],
   "source": [
    "sc.pp.normalize_total(adata, target_sum=None)\n",
    "sc.pp.log1p(adata)"
   ]
  },
  {
   "cell_type": "markdown",
   "id": "1b3b1045-62d4-42ed-af72-30f713feeccd",
   "metadata": {},
   "source": [
    "# Dimensionality reduction & clustering"
   ]
  },
  {
   "cell_type": "code",
   "execution_count": null,
   "id": "e168b001-7443-464d-a30c-c843da3fdabe",
   "metadata": {},
   "outputs": [],
   "source": [
    "sc.pp.highly_variable_genes(adata)"
   ]
  },
  {
   "cell_type": "code",
   "execution_count": null,
   "id": "343d0db7-807b-4105-9b1c-3b7888c8d7fa",
   "metadata": {},
   "outputs": [],
   "source": [
    "sc.pp.pca(adata, n_comps = 20, use_highly_variable=True)"
   ]
  },
  {
   "cell_type": "code",
   "execution_count": null,
   "id": "d6dbbfda-95ab-4862-85c0-c7415c389636",
   "metadata": {},
   "outputs": [],
   "source": [
    "sc.pp.neighbors(adata)"
   ]
  },
  {
   "cell_type": "code",
   "execution_count": null,
   "id": "4d1057f5-a7e0-4e49-99d2-5434afdcc885",
   "metadata": {},
   "outputs": [],
   "source": [
    "sc.tl.umap(adata)"
   ]
  },
  {
   "cell_type": "code",
   "execution_count": null,
   "id": "8de281c2-61eb-40de-b192-8632924e9e28",
   "metadata": {},
   "outputs": [],
   "source": [
    "sc.tl.leiden(adata, resolution=0.8)"
   ]
  },
  {
   "cell_type": "code",
   "execution_count": null,
   "id": "3f0c9c03-7682-4de8-9141-508ff2e75584",
   "metadata": {},
   "outputs": [],
   "source": [
    "sc.tl.embedding_density(adata, groupby='genotype_day')"
   ]
  },
  {
   "cell_type": "code",
   "execution_count": null,
   "id": "32a7bdb7-c95b-4bc3-b4a8-564c8229351f",
   "metadata": {},
   "outputs": [],
   "source": [
    "for sam in adata.obs['sample'].cat.categories:\n",
    "    fig = sc.pl.embedding_density(adata, groupby='genotype_day', group = sam, color_map = 'Greys', return_fig=True)\n",
    "    fig.savefig(path_to_results / 'umap_density_sample_{}.png'.format(sam), transparent = True)"
   ]
  },
  {
   "cell_type": "markdown",
   "id": "3e90f324-6f3b-418a-b464-e6bf3680b9bf",
   "metadata": {},
   "source": [
    "# Cell type annotation"
   ]
  },
  {
   "cell_type": "code",
   "execution_count": null,
   "id": "0d80c6c4-2b7d-4eba-a2df-21786853cada",
   "metadata": {},
   "outputs": [],
   "source": [
    "cell_type_marker_genes = { \n",
    "                 'Macrophages': ['Ptprc','Cd68', 'Csf1r', 'Adgre1'],\n",
    "                 'Tumor cells': ['Twist1', 'Tead1'],\n",
    "                }"
   ]
  },
  {
   "cell_type": "code",
   "execution_count": null,
   "id": "4a7e5713-50f4-4aa1-8713-f8bd1cc4ce6c",
   "metadata": {},
   "outputs": [],
   "source": [
    "for cell_type in cell_type_marker_genes.keys():\n",
    "    print(cell_type)\n",
    "    for gene in cell_type_marker_genes[cell_type]:\n",
    "        fig, (ax1) = plt.subplots(1,1)\n",
    "        ax1.set_aspect('equal')\n",
    "        sc.pl.umap(adata, color = gene, size=umap_continuous_point_size, alpha = umap_continuous_transparency, ax = ax1, save = '_{}.png'.format(gene) if save_figure else None)"
   ]
  },
  {
   "cell_type": "code",
   "execution_count": null,
   "id": "5865009b-3857-4231-be54-03cb39d9c84c",
   "metadata": {},
   "outputs": [],
   "source": [
    "mac_clusters = ['5','8', '9', '11', '12', '13']"
   ]
  },
  {
   "cell_type": "code",
   "execution_count": null,
   "id": "ee285b68-d6b6-4935-a57b-571002d60588",
   "metadata": {},
   "outputs": [],
   "source": [
    "adata.obs['cell_type'] = np.where(adata.obs.leiden.isin(mac_clusters), 'Macrophages', 'TC')"
   ]
  },
  {
   "cell_type": "code",
   "execution_count": null,
   "id": "f59cf30c-46ee-4857-8c7b-6027a1b451ac",
   "metadata": {},
   "outputs": [],
   "source": [
    "fig, (ax1) = plt.subplots(1,1)\n",
    "ax1.set_aspect('equal')\n",
    "sc.pl.umap(adata, color = 'cell_type', size=umap_point_size, alpha = umap_transparency, ax = ax1, save = '_{}.png'.format(obs_key))"
   ]
  },
  {
   "cell_type": "markdown",
   "id": "937a015a-34e2-416c-98ea-89b5861b5cfd",
   "metadata": {},
   "source": [
    "# Tumor cell characterization"
   ]
  },
  {
   "cell_type": "code",
   "execution_count": null,
   "id": "f79c2b9e-2d76-4eb0-905a-ecbab7abc9bf",
   "metadata": {},
   "outputs": [],
   "source": [
    "ad_tc = adata[adata.obs.cell_type == 'TC']"
   ]
  },
  {
   "cell_type": "code",
   "execution_count": null,
   "id": "4b4eadb6-6d45-4f09-818b-f71d08f8f1e7",
   "metadata": {},
   "outputs": [],
   "source": [
    "sc.tl.leiden(ad_tc, resolution = 0.3)"
   ]
  },
  {
   "cell_type": "code",
   "execution_count": null,
   "id": "8ad6f074-3c8e-418c-aa05-daf9642dfc08",
   "metadata": {},
   "outputs": [],
   "source": [
    "fig, (ax1) = plt.subplots(1,1)\n",
    "ax1.set_aspect('equal')\n",
    "sc.pl.umap(ad_tc, color = 'leiden', size=umap_point_size, alpha = umap_transparency, ax = ax1, save = '_leiden.png')"
   ]
  },
  {
   "cell_type": "code",
   "execution_count": null,
   "id": "500324fe-e86c-4c2a-af54-596255011437",
   "metadata": {},
   "outputs": [],
   "source": [
    "sc.tl.rank_genes_groups(ad_tc, groupby='leiden', method = 'wilcoxon')"
   ]
  },
  {
   "cell_type": "code",
   "execution_count": null,
   "id": "c43cae25-7566-4e08-8ee2-b3b588d7beb6",
   "metadata": {},
   "outputs": [],
   "source": [
    "sc.pl.rank_genes_groups(ad_tc, sharey=False)"
   ]
  },
  {
   "cell_type": "code",
   "execution_count": null,
   "id": "63fd120b-49a5-4e14-b45c-069d74624c0c",
   "metadata": {},
   "outputs": [],
   "source": [
    "props = scanpy_cluster_proportions.get_cluster_proportions(ad_tc, cluster_key='leiden', sample_key='genotype_day')"
   ]
  },
  {
   "cell_type": "code",
   "execution_count": null,
   "id": "30147d0e-281a-4248-996b-b44d208e9f39",
   "metadata": {},
   "outputs": [],
   "source": [
    "fig = scanpy_cluster_proportions.plot_cluster_proportions(props)"
   ]
  },
  {
   "cell_type": "code",
   "execution_count": null,
   "id": "025a5010-5d97-4e87-a720-57e6ae977f26",
   "metadata": {},
   "outputs": [],
   "source": [
    "props.to_csv(path_to_results / 'leiden_proportions.csv')"
   ]
  },
  {
   "cell_type": "code",
   "execution_count": null,
   "id": "5298eb40-9448-46d8-90d2-4488a0709973",
   "metadata": {},
   "outputs": [],
   "source": [
    "gene_list = ['Vcan','Sparc','Fn1', 'Col3a1', 'Col6a1', 'Egln1', 'Mmp2', # EMT\n",
    "            'Top2a', 'Mki67', 'Cdc20'] # Proliferation"
   ]
  },
  {
   "cell_type": "code",
   "execution_count": null,
   "id": "9828769b-01ce-4037-bbd4-128169d8c335",
   "metadata": {},
   "outputs": [],
   "source": [
    "for gene in gene_list:\n",
    "    fig, (ax1) = plt.subplots(1,1)\n",
    "    ax1.set_aspect('equal')\n",
    "    sc.pl.umap(ad_tc, color = gene, size=umap_continuous_point_size, alpha= umap_continuous_transparency, vmin = 'p0.1', vmax = 'p99.9', ax = ax1, save = '_{}.png'.format(gene) if save_figure else None)"
   ]
  },
  {
   "cell_type": "markdown",
   "id": "dbd81493-5537-4e29-baaa-c9023c89ef8e",
   "metadata": {},
   "source": [
    "# Save file"
   ]
  },
  {
   "cell_type": "code",
   "execution_count": null,
   "id": "6bfe5eb4-bb15-4558-9cf1-dfb0bf624e95",
   "metadata": {},
   "outputs": [],
   "source": [
    "ad_mac.write(path_to_results / 'analysed_macrophages.h5ad')"
   ]
  },
  {
   "cell_type": "code",
   "execution_count": null,
   "id": "11842ae5-7fec-47fa-9a5c-6f710e0c1868",
   "metadata": {},
   "outputs": [],
   "source": [
    "ad_tc.write(path_to_results / 'analysed_tumor_cells.h5ad')"
   ]
  },
  {
   "cell_type": "code",
   "execution_count": null,
   "id": "d40d916a-1e15-40bd-9bd2-078d51e0f294",
   "metadata": {},
   "outputs": [],
   "source": []
  }
 ],
 "metadata": {
  "language_info": {
   "name": "python",
   "pygments_lexer": "ipython3"
  }
 },
 "nbformat": 4,
 "nbformat_minor": 5
}
