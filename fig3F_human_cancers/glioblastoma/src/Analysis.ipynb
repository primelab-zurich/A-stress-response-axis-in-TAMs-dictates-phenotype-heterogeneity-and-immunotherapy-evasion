{
 "cells": [
  {
   "cell_type": "code",
   "execution_count": null,
   "id": "c51d2a48-9f58-4e0c-a479-ee7cdbecb0aa",
   "metadata": {},
   "outputs": [],
   "source": [
    "import numpy as np\n",
    "import pandas as pd\n",
    "import scanpy as sc\n",
    "import matplotlib as mpl\n",
    "import anndata as anndata\n",
    "import pathlib\n",
    "import sys"
   ]
  },
  {
   "cell_type": "code",
   "execution_count": null,
   "id": "5f8a471c-5ed3-432f-ab39-5289d9a6850e",
   "metadata": {},
   "outputs": [],
   "source": [
    "sample_name = 'OMIX002713'\n",
    "use_fcgr1a = True"
   ]
  },
  {
   "cell_type": "code",
   "execution_count": null,
   "id": "34c8eda1-30b2-4223-897a-b98650a9b913",
   "metadata": {},
   "outputs": [],
   "source": [
    "def calculate_and_plot_score(adata: anndata.AnnData, gene_list, score_name, **kwargs):\n",
    "    sc.tl.score_genes(ad, gene_list = gene_list, score_name=score_name)\n",
    "    sc.pl.spatial(ad, color = score_name, img_key=None, size = 1.6, save = '_{}.png'.format(score_name), return_fig = False, **kwargs)\n"
   ]
  },
  {
   "cell_type": "code",
   "execution_count": null,
   "id": "f170b3e9-c758-4b61-af74-e0fd6312c4bb",
   "metadata": {},
   "outputs": [],
   "source": [
    "database_path = pathlib.Path('../../../shared/databases/')"
   ]
  },
  {
   "cell_type": "code",
   "execution_count": null,
   "id": "b6b64165-4ba5-438f-bf14-6f58b69610fa",
   "metadata": {},
   "outputs": [],
   "source": [
    "if use_fcgr1a:\n",
    "    MAC_GENES = ['CD163', 'LYZ', 'FCGR1A'] # APOE'CD68' is expressed almost everywhere: 'MRC1' not enough\n",
    "else:\n",
    "    MAC_GENES = ['CD163', 'LYZ']\n",
    "\n",
    "numof_genes = 150\n",
    "KOvsWT_down_genelist = pd.read_csv(database_path / '{}_KO--over--WT_Down-Regulated.csv'.format(numof_genes), header=0).gene_name.str.upper()\n",
    "KOvsWT_up_genelist = pd.read_csv(database_path / '{}_KO--over--WT_Up-Regulated.csv'.format(numof_genes), header=0).gene_name.str.upper()\n",
    "KOvsWT_down_genelist = KOvsWT_down_genelist.str.upper()\n",
    "KOvsWT_up_genelist = KOvsWT_up_genelist.str.upper()\n"
   ]
  },
  {
   "cell_type": "code",
   "execution_count": null,
   "id": "f670f58c-0f5c-456d-b0e9-041836e3ea3b",
   "metadata": {},
   "outputs": [],
   "source": [
    "print(len(KOvsWT_down_genelist))"
   ]
  },
  {
   "cell_type": "code",
   "execution_count": null,
   "id": "e0124d12-7f6b-462f-8b63-2e99946ef0a8",
   "metadata": {},
   "outputs": [],
   "source": [
    "sample_folder = pathlib.Path('../data/raw')\n",
    "\n",
    "path_to_results = pathlib.Path('../') / 'results'\n",
    "path_to_results.mkdir(parents=True, exist_ok=True)\n",
    "sc.settings.verbosity = 3             # verbosity: errors (0), warnings (1), info (2), hints (3)\n",
    "sc.logging.print_header()\n",
    "sc.settings.set_figure_params(dpi=100, facecolor='white', figsize = (4,4), dpi_save=300, frameon = False, vector_friendly = False)\n",
    "sc.settings.figdir = path_to_results\n",
    "spatial_dot_size = 1.6\n",
    "spot_size = 1.6\n",
    "spatial_transparency = 1"
   ]
  },
  {
   "cell_type": "code",
   "execution_count": null,
   "id": "77c1de14-9c80-4b57-a037-b8fdd40e0c76",
   "metadata": {},
   "outputs": [],
   "source": [
    "adata = sc.read(sample_folder / \"OMIX002713.h5ad\")"
   ]
  },
  {
   "cell_type": "code",
   "execution_count": null,
   "id": "063ebd00-f42b-4e25-84dd-452bdb63b7f0",
   "metadata": {},
   "outputs": [],
   "source": [
    "len(adata.obs['orig.ident'].cat.categories)"
   ]
  },
  {
   "cell_type": "code",
   "execution_count": null,
   "id": "0a881cd4-509a-4494-b52b-7392a009d675",
   "metadata": {},
   "outputs": [],
   "source": [
    "adata.obs['orig.ident'].cat.categories"
   ]
  },
  {
   "cell_type": "code",
   "execution_count": null,
   "id": "e601833e-58f8-41c3-805e-38c7189cfa54",
   "metadata": {},
   "outputs": [],
   "source": [
    "sc.pl.umap(adata, color = ['celltype', 'labels', 'histology'])"
   ]
  },
  {
   "cell_type": "code",
   "execution_count": null,
   "id": "bdf677f9-2bbb-4ee9-bd78-ab57a7b92d25",
   "metadata": {},
   "outputs": [],
   "source": [
    "sc.pl.umap(adata, color = MAC_GENES)"
   ]
  },
  {
   "cell_type": "code",
   "execution_count": null,
   "id": "86e32f43-b702-4842-af8a-f2c415685fdf",
   "metadata": {},
   "outputs": [],
   "source": [
    "sc.pl.umap(adata, color = MAC_GENES)"
   ]
  },
  {
   "cell_type": "code",
   "execution_count": null,
   "id": "9cc41260-2203-44aa-bf25-a276b6b94f09",
   "metadata": {},
   "outputs": [],
   "source": [
    "sc.tl.score_genes(adata, gene_list=KOvsWT_down_genelist, score_name='KOvsWT_down_score')"
   ]
  },
  {
   "cell_type": "code",
   "execution_count": null,
   "id": "db07bf17-ecc9-4716-9bd4-39fe409de1eb",
   "metadata": {},
   "outputs": [],
   "source": [
    "sc.tl.score_genes(adata, gene_list=KOvsWT_up_genelist, score_name='KOvsWT_up_score')"
   ]
  },
  {
   "cell_type": "code",
   "execution_count": null,
   "id": "d2936b7a-f5cc-4adc-92f9-dd7894184b34",
   "metadata": {},
   "outputs": [],
   "source": [
    "sc.pl.umap(adata, color = 'KOvsWT_down_score', cmap='Oranges')"
   ]
  },
  {
   "cell_type": "code",
   "execution_count": null,
   "id": "0ce33320-0381-41f4-b45f-1cff910ea71b",
   "metadata": {},
   "outputs": [],
   "source": [
    "sc.pl.umap(adata, color = 'KOvsWT_up_score', cmap='Oranges')"
   ]
  },
  {
   "cell_type": "code",
   "execution_count": null,
   "id": "b0198985-85b2-4bb0-8869-f574fa833f0b",
   "metadata": {},
   "outputs": [],
   "source": [
    "adata.obs['KOvsWT_up_minus_down_score'] = adata.obs['KOvsWT_up_score'] - adata.obs['KOvsWT_down_score']"
   ]
  },
  {
   "cell_type": "code",
   "execution_count": null,
   "id": "879f027a-88c3-4872-bd0c-5460d99bc96b",
   "metadata": {},
   "outputs": [],
   "source": [
    "vmax = adata.obs['KOvsWT_up_minus_down_score'].abs().quantile(0.99)\n",
    "vmin = -vmax\n",
    "sc.pl.umap(adata, color = 'KOvsWT_up_minus_down_score', vmax = vmax, vmin = vmin, cmap='bwr')"
   ]
  },
  {
   "cell_type": "markdown",
   "id": "ca2658c0-8a00-4c0a-a15a-de848e14cbe0",
   "metadata": {},
   "source": [
    "# Fig 1F"
   ]
  },
  {
   "cell_type": "code",
   "execution_count": null,
   "id": "cb0a9545-b787-4d99-900f-159428085542",
   "metadata": {},
   "outputs": [],
   "source": [
    "df = sc.get.obs_df(adata, keys = ['SPP1', 'CXCL10', 'CD74'])"
   ]
  },
  {
   "cell_type": "code",
   "execution_count": null,
   "id": "c8dc0184-69f6-4f73-83ca-2739bd95822e",
   "metadata": {},
   "outputs": [],
   "source": [
    "#define conditions\n",
    "conditions = [\n",
    "    (df['CXCL10'] > 0) & (df['SPP1'] > 0),\n",
    "    (df['CXCL10'] > 0) & (df['SPP1'] == 0),\n",
    "    (df['CXCL10'] == 0)& (df['SPP1'] > 0),\n",
    "    (df['CXCL10'] == 0)& (df['SPP1'] == 0),\n",
    "]\n",
    "\n",
    "#define results\n",
    "results = ['CXCL10 & SPP1', 'CXCL10', 'SPP1', 'none']\n",
    "\n",
    "#create new column based on conditions in column1 and column2\n",
    "adata.obs['CXCL10_SPP1'] = np.select(conditions, results)"
   ]
  },
  {
   "cell_type": "code",
   "execution_count": null,
   "id": "34ee3299-a373-4346-ab2b-1881f4c9449c",
   "metadata": {},
   "outputs": [],
   "source": [
    "Cxcl10_Spp1_colors= {'CXCL10':'#40E0D0', 'SPP1':'#FF1493', 'CXCL10 & SPP1': '#5D29A6', 'none': '#F2F2F2'}"
   ]
  },
  {
   "cell_type": "code",
   "execution_count": null,
   "id": "fbf1f65c-bbfd-479b-ac1a-b30bd3c253bb",
   "metadata": {},
   "outputs": [],
   "source": [
    "sc.pl.violin(adata, keys='KOvsWT_up_minus_down_score', groupby='CXCL10_SPP1',  palette = Cxcl10_Spp1_colors, stripplot = False, inner = 'box', rotation = 45)"
   ]
  },
  {
   "cell_type": "code",
   "execution_count": null,
   "id": "4afbb583-60eb-493b-8624-3db51ab4fbfe",
   "metadata": {},
   "outputs": [],
   "source": [
    "#define conditions\n",
    "conditions = [\n",
    "    (df['CD74'] > 0) & (df['SPP1'] > 0),\n",
    "    (df['CD74'] > 0) & (df['SPP1'] == 0),\n",
    "    (df['CD74'] == 0)& (df['SPP1'] > 0),\n",
    "    (df['CD74'] == 0)& (df['SPP1'] == 0),\n",
    "]\n",
    "\n",
    "#define results\n",
    "results = ['CD74 & SPP1', 'CD74', 'SPP1', 'none']\n",
    "\n",
    "#create new column based on conditions in column1 and column2\n",
    "adata.obs['CD74_SPP1'] = np.select(conditions, results)"
   ]
  },
  {
   "cell_type": "code",
   "execution_count": null,
   "id": "1bdfa0ad-6406-4323-a2a3-5f6f01cfcb22",
   "metadata": {},
   "outputs": [],
   "source": [
    "CD74_SPP1_colors= {'CD74':'#40E0D0', 'SPP1':'#FF1493', 'CD74 & SPP1': '#5D29A6', 'none': '#F2F2F2'}"
   ]
  },
  {
   "cell_type": "code",
   "execution_count": null,
   "id": "4e6287b2-c34d-4d21-8e1e-641d6e4f0563",
   "metadata": {},
   "outputs": [],
   "source": [
    "sc.pl.violin(adata, keys='KOvsWT_up_minus_down_score', groupby='CD74_SPP1', palette = CD74_SPP1_colors, stripplot = False, inner = 'box',rotation = 90)"
   ]
  },
  {
   "cell_type": "code",
   "execution_count": null,
   "id": "ce5b321c-51cb-466a-9d7a-c20f4d1ed50a",
   "metadata": {},
   "outputs": [],
   "source": []
  }
 ],
 "metadata": {
  "language_info": {
   "name": "python",
   "pygments_lexer": "ipython3"
  }
 },
 "nbformat": 4,
 "nbformat_minor": 5
}
