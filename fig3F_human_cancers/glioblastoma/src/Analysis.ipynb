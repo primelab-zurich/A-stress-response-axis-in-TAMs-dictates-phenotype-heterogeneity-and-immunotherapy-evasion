{
 "cells": [
  {
   "cell_type": "code",
   "execution_count": null,
   "id": "c51d2a48-9f58-4e0c-a479-ee7cdbecb0aa",
   "metadata": {},
   "outputs": [],
   "source": [
    "import numpy as np\n",
    "import pandas as pd\n",
    "import scanpy as sc\n",
    "import matplotlib as mpl\n",
    "import anndata as anndata\n",
    "import pathlib\n",
    "import sys\n",
    "import decoupler as dc\n",
    "import scipy\n",
    "import seaborn as sns"
   ]
  },
  {
   "cell_type": "code",
   "execution_count": null,
   "id": "5f8a471c-5ed3-432f-ab39-5289d9a6850e",
   "metadata": {},
   "outputs": [],
   "source": [
    "sample_name = 'OMIX002713'\n",
    "use_fcgr1a = True"
   ]
  },
  {
   "cell_type": "code",
   "execution_count": null,
   "id": "34c8eda1-30b2-4223-897a-b98650a9b913",
   "metadata": {},
   "outputs": [],
   "source": [
    "def calculate_and_plot_score(adata: anndata.AnnData, gene_list, score_name, **kwargs):\n",
    "    sc.tl.score_genes(ad, gene_list = gene_list, score_name=score_name)\n",
    "    sc.pl.spatial(ad, color = score_name, img_key=None, size = 1.6, save = '_{}.png'.format(score_name), return_fig = False, **kwargs)\n"
   ]
  },
  {
   "cell_type": "code",
   "execution_count": null,
   "id": "f170b3e9-c758-4b61-af74-e0fd6312c4bb",
   "metadata": {},
   "outputs": [],
   "source": [
    "database_path = pathlib.Path('../../../shared/databases/')"
   ]
  },
  {
   "cell_type": "code",
   "execution_count": null,
   "id": "b6b64165-4ba5-438f-bf14-6f58b69610fa",
   "metadata": {},
   "outputs": [],
   "source": [
    "if use_fcgr1a:\n",
    "    MAC_GENES = ['CD163', 'LYZ', 'FCGR1A'] # APOE'CD68' is expressed almost everywhere: 'MRC1' not enough\n",
    "else:\n",
    "    MAC_GENES = ['CD163', 'LYZ']\n",
    "\n",
    "numof_genes = 150\n",
    "KOvsWT_down_genelist = pd.read_csv(database_path / '{}_KO--over--WT_Down-Regulated.csv'.format(numof_genes), header=0).gene_name.str.upper()\n",
    "KOvsWT_up_genelist = pd.read_csv(database_path / '{}_KO--over--WT_Up-Regulated.csv'.format(numof_genes), header=0).gene_name.str.upper()\n",
    "KOvsWT_down_genelist = KOvsWT_down_genelist.str.upper()\n",
    "KOvsWT_up_genelist = KOvsWT_up_genelist.str.upper()\n"
   ]
  },
  {
   "cell_type": "code",
   "execution_count": null,
   "id": "f670f58c-0f5c-456d-b0e9-041836e3ea3b",
   "metadata": {},
   "outputs": [],
   "source": [
    "print(len(KOvsWT_down_genelist))"
   ]
  },
  {
   "cell_type": "code",
   "execution_count": null,
   "id": "e0124d12-7f6b-462f-8b63-2e99946ef0a8",
   "metadata": {},
   "outputs": [],
   "source": [
    "sample_folder = pathlib.Path('../data/raw')\n",
    "\n",
    "path_to_results = pathlib.Path('../') / 'results'\n",
    "path_to_results.mkdir(parents=True, exist_ok=True)\n",
    "sc.settings.verbosity = 3             # verbosity: errors (0), warnings (1), info (2), hints (3)\n",
    "sc.logging.print_header()\n",
    "sc.settings.set_figure_params(dpi=100, facecolor='white', figsize = (4,4), dpi_save=300, frameon = False, vector_friendly = False)\n",
    "sc.settings.figdir = path_to_results\n",
    "spatial_dot_size = 1.6\n",
    "spot_size = 1.6\n",
    "spatial_transparency = 1"
   ]
  },
  {
   "cell_type": "code",
   "execution_count": null,
   "id": "77c1de14-9c80-4b57-a037-b8fdd40e0c76",
   "metadata": {},
   "outputs": [],
   "source": [
    "adata = sc.read(sample_folder / \"OMIX002713.h5ad\")"
   ]
  },
  {
   "cell_type": "code",
   "execution_count": null,
   "id": "063ebd00-f42b-4e25-84dd-452bdb63b7f0",
   "metadata": {},
   "outputs": [],
   "source": [
    "len(adata.obs['orig.ident'].cat.categories)"
   ]
  },
  {
   "cell_type": "code",
   "execution_count": null,
   "id": "0a881cd4-509a-4494-b52b-7392a009d675",
   "metadata": {},
   "outputs": [],
   "source": [
    "adata.obs['orig.ident'].cat.categories"
   ]
  },
  {
   "cell_type": "code",
   "execution_count": null,
   "id": "e601833e-58f8-41c3-805e-38c7189cfa54",
   "metadata": {},
   "outputs": [],
   "source": [
    "sc.pl.umap(adata, color = ['celltype', 'labels', 'histology'])"
   ]
  },
  {
   "cell_type": "code",
   "execution_count": null,
   "id": "bdf677f9-2bbb-4ee9-bd78-ab57a7b92d25",
   "metadata": {},
   "outputs": [],
   "source": [
    "sc.pl.umap(adata, color = MAC_GENES)"
   ]
  },
  {
   "cell_type": "code",
   "execution_count": null,
   "id": "86e32f43-b702-4842-af8a-f2c415685fdf",
   "metadata": {},
   "outputs": [],
   "source": [
    "sc.pl.umap(adata, color = MAC_GENES)"
   ]
  },
  {
   "cell_type": "code",
   "execution_count": null,
   "id": "9cc41260-2203-44aa-bf25-a276b6b94f09",
   "metadata": {},
   "outputs": [],
   "source": [
    "sc.tl.score_genes(adata, gene_list=KOvsWT_down_genelist, score_name='KOvsWT_down_score')"
   ]
  },
  {
   "cell_type": "code",
   "execution_count": null,
   "id": "db07bf17-ecc9-4716-9bd4-39fe409de1eb",
   "metadata": {},
   "outputs": [],
   "source": [
    "sc.tl.score_genes(adata, gene_list=KOvsWT_up_genelist, score_name='KOvsWT_up_score')"
   ]
  },
  {
   "cell_type": "code",
   "execution_count": null,
   "id": "d2936b7a-f5cc-4adc-92f9-dd7894184b34",
   "metadata": {},
   "outputs": [],
   "source": [
    "sc.pl.umap(adata, color = 'KOvsWT_down_score', cmap='Oranges')"
   ]
  },
  {
   "cell_type": "code",
   "execution_count": null,
   "id": "0ce33320-0381-41f4-b45f-1cff910ea71b",
   "metadata": {},
   "outputs": [],
   "source": [
    "sc.pl.umap(adata, color = 'KOvsWT_up_score', cmap='Oranges')"
   ]
  },
  {
   "cell_type": "code",
   "execution_count": null,
   "id": "b0198985-85b2-4bb0-8869-f574fa833f0b",
   "metadata": {},
   "outputs": [],
   "source": [
    "adata.obs['KOvsWT_up_minus_down_score'] = adata.obs['KOvsWT_up_score'] - adata.obs['KOvsWT_down_score']"
   ]
  },
  {
   "cell_type": "code",
   "execution_count": null,
   "id": "879f027a-88c3-4872-bd0c-5460d99bc96b",
   "metadata": {},
   "outputs": [],
   "source": [
    "vmax = adata.obs['KOvsWT_up_minus_down_score'].abs().quantile(0.99)\n",
    "vmin = -vmax\n",
    "sc.pl.umap(adata, color = 'KOvsWT_up_minus_down_score', vmax = vmax, vmin = vmin, cmap='bwr')"
   ]
  },
  {
   "cell_type": "markdown",
   "id": "ca2658c0-8a00-4c0a-a15a-de848e14cbe0",
   "metadata": {},
   "source": [
    "# Fig 3F"
   ]
  },
  {
   "cell_type": "code",
   "execution_count": null,
   "id": "cb0a9545-b787-4d99-900f-159428085542",
   "metadata": {},
   "outputs": [],
   "source": [
    "df = sc.get.obs_df(adata, keys = ['SPP1', 'CXCL10', 'CD74'])"
   ]
  },
  {
   "cell_type": "code",
   "execution_count": null,
   "id": "c8dc0184-69f6-4f73-83ca-2739bd95822e",
   "metadata": {},
   "outputs": [],
   "source": [
    "#define conditions\n",
    "conditions = [\n",
    "    (df['CXCL10'] > 0) & (df['SPP1'] > 0),\n",
    "    (df['CXCL10'] > 0) & (df['SPP1'] == 0),\n",
    "    (df['CXCL10'] == 0)& (df['SPP1'] > 0),\n",
    "    (df['CXCL10'] == 0)& (df['SPP1'] == 0),\n",
    "]\n",
    "\n",
    "#define results\n",
    "results = ['CXCL10 & SPP1', 'CXCL10', 'SPP1', 'none']\n",
    "\n",
    "#create new column based on conditions in column1 and column2\n",
    "adata.obs['CXCL10_SPP1'] = np.select(conditions, results)"
   ]
  },
  {
   "cell_type": "code",
   "execution_count": null,
   "id": "34ee3299-a373-4346-ab2b-1881f4c9449c",
   "metadata": {},
   "outputs": [],
   "source": [
    "Cxcl10_Spp1_colors= {'CXCL10':'#40E0D0', 'SPP1':'#FF1493', 'CXCL10 & SPP1': '#5D29A6', 'none': '#F2F2F2'}"
   ]
  },
  {
   "cell_type": "code",
   "execution_count": null,
   "id": "fbf1f65c-bbfd-479b-ac1a-b30bd3c253bb",
   "metadata": {},
   "outputs": [],
   "source": [
    "sc.pl.violin(adata, keys='KOvsWT_up_minus_down_score', groupby='CXCL10_SPP1',  palette = Cxcl10_Spp1_colors, stripplot = False, inner = 'box', rotation = 45)"
   ]
  },
  {
   "cell_type": "code",
   "execution_count": null,
   "id": "4afbb583-60eb-493b-8624-3db51ab4fbfe",
   "metadata": {},
   "outputs": [],
   "source": [
    "#define conditions\n",
    "conditions = [\n",
    "    (df['CD74'] > 0) & (df['SPP1'] > 0),\n",
    "    (df['CD74'] > 0) & (df['SPP1'] == 0),\n",
    "    (df['CD74'] == 0)& (df['SPP1'] > 0),\n",
    "    (df['CD74'] == 0)& (df['SPP1'] == 0),\n",
    "]\n",
    "\n",
    "#define results\n",
    "results = ['CD74 & SPP1', 'CD74', 'SPP1', 'none']\n",
    "\n",
    "#create new column based on conditions in column1 and column2\n",
    "adata.obs['CD74_SPP1'] = np.select(conditions, results)"
   ]
  },
  {
   "cell_type": "code",
   "execution_count": null,
   "id": "1bdfa0ad-6406-4323-a2a3-5f6f01cfcb22",
   "metadata": {},
   "outputs": [],
   "source": [
    "CD74_SPP1_colors= {'CD74':'#40E0D0', 'SPP1':'#FF1493', 'CD74 & SPP1': '#5D29A6', 'none': '#F2F2F2'}"
   ]
  },
  {
   "cell_type": "code",
   "execution_count": null,
   "id": "4e6287b2-c34d-4d21-8e1e-641d6e4f0563",
   "metadata": {},
   "outputs": [],
   "source": [
    "sc.pl.violin(adata, keys='KOvsWT_up_minus_down_score', groupby='CD74_SPP1', palette = CD74_SPP1_colors, stripplot = False, inner = 'box',rotation = 90)"
   ]
  },
  {
   "cell_type": "code",
   "execution_count": null,
   "id": "61869ae5-8544-45e5-b7ec-b6001983b04a",
   "metadata": {},
   "outputs": [],
   "source": [
    "msigdb = dc.get_resource('MSigDB')\n",
    "msigdb"
   ]
  },
  {
   "cell_type": "code",
   "execution_count": null,
   "id": "dfd04caa-43a7-4660-b9b2-db2a9c47f858",
   "metadata": {},
   "outputs": [],
   "source": [
    "msigdb['collection'].unique()"
   ]
  },
  {
   "cell_type": "code",
   "execution_count": null,
   "id": "13e539ff-e67f-4a31-8cce-4c4740d51278",
   "metadata": {},
   "outputs": [],
   "source": [
    "# Filter by hallmark\n",
    "msigdb = msigdb[msigdb['collection']=='hallmark']\n",
    "\n",
    "# Remove duplicated entries\n",
    "msigdb = msigdb[~msigdb.duplicated(['geneset', 'genesymbol'])]\n",
    "msigdb"
   ]
  },
  {
   "cell_type": "code",
   "execution_count": null,
   "id": "2889622e-da4a-4f17-ae03-70f502e8cff4",
   "metadata": {},
   "outputs": [],
   "source": [
    "msigdb.geneset = msigdb.geneset.str.replace('HALLMARK_', '')"
   ]
  },
  {
   "cell_type": "code",
   "execution_count": null,
   "id": "3edb36f5-aa8b-4dbd-90c6-81568f5f7465",
   "metadata": {},
   "outputs": [],
   "source": [
    "msigdb"
   ]
  },
  {
   "cell_type": "code",
   "execution_count": null,
   "id": "912e88ed-695b-4352-b88d-8e51262f532c",
   "metadata": {},
   "outputs": [],
   "source": [
    "dc.run_aucell(adata, msigdb, source='geneset', target='genesymbol', use_raw=False)"
   ]
  },
  {
   "cell_type": "code",
   "execution_count": null,
   "id": "bbe4c3da-1abd-47bc-ba80-142d47baf64b",
   "metadata": {},
   "outputs": [],
   "source": [
    "terms = msigdb.geneset.unique()"
   ]
  },
  {
   "cell_type": "code",
   "execution_count": null,
   "id": "097bf37e-e907-4e0a-8c6e-ec0617168487",
   "metadata": {},
   "outputs": [],
   "source": [
    "adata.obsm['aucell_estimate']"
   ]
  },
  {
   "cell_type": "code",
   "execution_count": null,
   "id": "29eaa57f-6bdd-4225-8393-3480abe5c17a",
   "metadata": {},
   "outputs": [],
   "source": [
    "adata.obs[terms] = adata.obsm[\"aucell_estimate\"][terms]"
   ]
  },
  {
   "cell_type": "code",
   "execution_count": null,
   "id": "3d5ec01b-36d6-4883-be71-ac56f299ae5a",
   "metadata": {},
   "outputs": [],
   "source": [
    "important_terms = ['TNFA_SIGNALING_VIA_NFKB', 'INFLAMMATORY_RESPONSE', 'ALLOGRAFT_REJECTION',\n",
    " 'INTERFERON_GAMMA_RESPONSE',\n",
    " 'INTERFERON_ALPHA_RESPONSE',\n",
    " 'IL6_JAK_STAT3_SIGNALING']"
   ]
  },
  {
   "cell_type": "code",
   "execution_count": null,
   "id": "96c5f439-e6af-4a56-9271-2993b67a178c",
   "metadata": {},
   "outputs": [],
   "source": [
    "sc.pl.violin(adata, keys=important_terms, groupby='CXCL10_SPP1',  palette = Cxcl10_Spp1_colors, stripplot = False, inner = 'box', rotation = 45)"
   ]
  },
  {
   "cell_type": "code",
   "execution_count": null,
   "id": "8c8b36b6-e69f-41ae-92be-18fe6ddfc3ce",
   "metadata": {},
   "outputs": [],
   "source": [
    "zscore_important_terms = [ term + '_zscore' for term in important_terms]"
   ]
  },
  {
   "cell_type": "code",
   "execution_count": null,
   "id": "8b5df27a-15e8-4fbe-86ff-dbcf760221f5",
   "metadata": {},
   "outputs": [],
   "source": [
    "for term, zscore_term in zip(important_terms, zscore_important_terms):\n",
    "    adata.obs[zscore_term] = scipy.stats.zscore(adata.obs[term])"
   ]
  },
  {
   "cell_type": "code",
   "execution_count": null,
   "id": "3b8c8301-7bc1-4ea0-b36a-8db1e0757f1c",
   "metadata": {},
   "outputs": [],
   "source": [
    "sc.pl.violin(adata, keys=zscore_important_terms, groupby='CXCL10_SPP1',  palette = Cxcl10_Spp1_colors, stripplot = False, inner = 'box', rotation = 45)"
   ]
  },
  {
   "cell_type": "markdown",
   "id": "d0bb1667-38e5-4f14-afcc-7706dabd8f3a",
   "metadata": {},
   "source": [
    "categories_order = sorted(ad_mac_tumor.obs['sample'].cat.categories.tolist(), key = lambda x: x.split('_Day')[1]) # sort by day"
   ]
  },
  {
   "cell_type": "markdown",
   "id": "a951d24d-090c-4fe3-92de-5fce3a3e5956",
   "metadata": {},
   "source": [
    "sc.pl.matrixplot(adata_tc, zscore_important_terms, categories_order= categories_order, groupby='sample', vcenter = 0, swap_axes=True, cmap='coolwarm')"
   ]
  },
  {
   "cell_type": "markdown",
   "id": "c0cf422a-2dc3-4119-a550-2d0a70930a7e",
   "metadata": {},
   "source": [
    "sc.pl.dotplot(adata_tc, zscore_important_terms, categories_order= categories_order, groupby='sample', vcenter = 0, swap_axes=True, cmap='coolwarm')"
   ]
  },
  {
   "cell_type": "code",
   "execution_count": null,
   "id": "f0a9f7de-965f-49dd-b0c6-9f6bf44d0128",
   "metadata": {},
   "outputs": [],
   "source": [
    "important_terms_zscores_samples = sc.get.obs_df(adata, keys=zscore_important_terms + ['CXCL10_SPP1'])"
   ]
  },
  {
   "cell_type": "code",
   "execution_count": null,
   "id": "5f7a96a4-3dfb-430a-99cb-8d70ed4a41b8",
   "metadata": {},
   "outputs": [],
   "source": [
    "important_terms_zscores_samples = important_terms_zscores_samples[important_terms_zscores_samples['CXCL10_SPP1'].isin(['CXCL10', 'SPP1'])]\n",
    "important_terms_zscores_samples['CXCL10_SPP1'] = important_terms_zscores_samples['CXCL10_SPP1'].cat.remove_unused_categories()"
   ]
  },
  {
   "cell_type": "code",
   "execution_count": null,
   "id": "f98f77ca-7b00-4b6d-b80b-ba3ca5e8d8eb",
   "metadata": {},
   "outputs": [],
   "source": [
    "df_long = important_terms_zscores_samples.melt(id_vars='CXCL10_SPP1', var_name='Pathway', value_name='Zscore')"
   ]
  },
  {
   "cell_type": "code",
   "execution_count": null,
   "id": "12cbdb16-4a5b-46d9-87a0-833d74715558",
   "metadata": {},
   "outputs": [],
   "source": [
    "ci = 95\n",
    "alpha = 1 - (ci / 100)\n",
    "\n",
    "summary = df_long.groupby(['Pathway', 'CXCL10_SPP1']).agg(\n",
    "    mean=('Zscore', 'mean'),\n",
    "    std=('Zscore', 'std'),\n",
    "    count=('Zscore', 'count')\n",
    ").reset_index()\n",
    "\n",
    "summary['sem'] = summary['std'] / np.sqrt(summary['count'])\n",
    "\n",
    "# Compute t critical value and CI dynamically\n",
    "summary['t_crit'] = summary['count'].apply(lambda n: scipy.stats.t.ppf(1 - alpha / 2, df=n - 1))\n",
    "summary['ci'] = summary['sem'] * summary['t_crit']"
   ]
  },
  {
   "cell_type": "code",
   "execution_count": null,
   "id": "ef7bac2e-d59b-4216-996d-8e0b55cd5bf6",
   "metadata": {},
   "outputs": [],
   "source": [
    "import matplotlib.pyplot as plt"
   ]
  },
  {
   "cell_type": "code",
   "execution_count": null,
   "id": "48f92608-218c-45a8-a3e8-a5295e10a1d2",
   "metadata": {},
   "outputs": [],
   "source": [
    "for pathway in summary['Pathway'].unique():\n",
    "    data = summary[summary['Pathway'] == pathway]\n",
    "    \n",
    "    plt.figure(figsize=(6, 4))\n",
    "    sns.barplot(data=data, y='CXCL10_SPP1', x='mean', errorbar=None, palette=Cxcl10_Spp1_colors)\n",
    "    \n",
    "    # Add error bars\n",
    "    plt.errorbar(\n",
    "        y=np.arange(len(data)),\n",
    "        x=data['mean'],\n",
    "        xerr=data['ci'],\n",
    "        fmt='none',\n",
    "        color='black',\n",
    "        capsize=5\n",
    "    )\n",
    "    \n",
    "    plt.title(f'{pathway} Z-Score by Group ({ci}% CI)')\n",
    "    plt.ylabel('Mean Z-Score')\n",
    "    plt.tight_layout()\n",
    "    plt.savefig(path_to_results / 'glioblastoma_barplot_{}.pdf'.format(pathway))\n",
    "    plt.show()\n",
    "    "
   ]
  },
  {
   "cell_type": "code",
   "execution_count": null,
   "id": "39f8a57f-fc6c-4e6b-ac65-0822fe7537ae",
   "metadata": {},
   "outputs": [],
   "source": []
  }
 ],
 "metadata": {
  "language_info": {
   "name": "python",
   "pygments_lexer": "ipython3"
  }
 },
 "nbformat": 4,
 "nbformat_minor": 5
}
