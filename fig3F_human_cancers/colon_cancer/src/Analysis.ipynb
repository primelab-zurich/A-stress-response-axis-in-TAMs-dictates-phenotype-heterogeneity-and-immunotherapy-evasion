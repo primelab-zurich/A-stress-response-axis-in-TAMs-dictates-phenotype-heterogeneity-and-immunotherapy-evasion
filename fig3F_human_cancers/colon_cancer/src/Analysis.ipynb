{
 "cells": [
  {
   "cell_type": "markdown",
   "metadata": {},
   "source": [
    "# Human colon cancer data analysis\n",
    "Python analysis using scanpy.\n",
    "\n",
    "\n",
    "## Setup"
   ]
  },
  {
   "cell_type": "code",
   "execution_count": null,
   "metadata": {},
   "outputs": [],
   "source": [
    "import numpy as np\n",
    "import pandas as pd\n",
    "import scanpy as sc\n",
    "import seaborn as sns\n",
    "import matplotlib.pyplot as plt\n",
    "import scanorama\n",
    "import scipy\n",
    "import os\n",
    "import anndata as anndata\n",
    "import decoupler as dc\n",
    "from pathlib import Path\n",
    "import gzip, shutil"
   ]
  },
  {
   "cell_type": "code",
   "execution_count": null,
   "metadata": {},
   "outputs": [],
   "source": [
    "import matplotlib as mpl\n",
    "new_rc_params = {'text.usetex': False,\n",
    "\"svg.fonttype\": 'none'\n",
    "}\n",
    "mpl.rcParams.update(new_rc_params)"
   ]
  },
  {
   "cell_type": "code",
   "execution_count": null,
   "metadata": {},
   "outputs": [],
   "source": [
    "path_to_results = Path('../results/')\n",
    "path_to_results.mkdir(parents=True, exist_ok=True)\n",
    "sc.settings.verbosity = 3             # verbosity: errors (0), warnings (1), info (2), hints (3)\n",
    "sc.logging.print_header()\n",
    "sc.settings.set_figure_params(dpi=100, facecolor='white', figsize = (4,4), dpi_save=300, frameon = False)\n",
    "sc.settings.figdir = path_to_results\n",
    "umap_point_size = 10\n",
    "umap_transparency = 0.3\n",
    "umap_continuous_point_size = 50\n",
    "umap_continuous_transparency = 0.7\n",
    "aspect_ratio = 1\n",
    "save_figure = False"
   ]
  },
  {
   "cell_type": "markdown",
   "metadata": {},
   "source": [
    "# Data import\n",
    "#Read the 10X dataset with count matrices."
   ]
  },
  {
   "cell_type": "code",
   "execution_count": null,
   "metadata": {},
   "outputs": [],
   "source": [
    "results_file = '../data/intermediate/preprocessed.h5ad'\n",
    "data_path = Path('../data/raw/')\n",
    "data_path.mkdir(parents = True, exist_ok = True)\n",
    "intermediate_data_path = Path('../data/intermediate')\n",
    "intermediate_data_path.mkdir(parents = True, exist_ok = True)\n",
    "annotated_tpm_file = os.path.join(intermediate_data_path, 'tpm.h5ad')"
   ]
  },
  {
   "cell_type": "code",
   "execution_count": null,
   "metadata": {},
   "outputs": [],
   "source": [
    "adata = sc.read(data_path / 'adata_AllAnnotated.h5ad') # downloaded from  https://doi.org/10.6084/m9.figshare.25323397 ; article: https://www.nature.com/articles/s43018-024-00807-z"
   ]
  },
  {
   "cell_type": "code",
   "execution_count": null,
   "metadata": {},
   "outputs": [],
   "source": [
    "adata.obs.Sample.unique()"
   ]
  },
  {
   "cell_type": "code",
   "execution_count": null,
   "metadata": {},
   "outputs": [],
   "source": [
    "adata"
   ]
  },
  {
   "cell_type": "code",
   "execution_count": null,
   "metadata": {},
   "outputs": [],
   "source": [
    "adata.var_names"
   ]
  },
  {
   "cell_type": "code",
   "execution_count": null,
   "metadata": {},
   "outputs": [],
   "source": [
    "sc.pl.umap(adata, color = ['SubCluster'])"
   ]
  },
  {
   "cell_type": "code",
   "execution_count": null,
   "metadata": {},
   "outputs": [],
   "source": [
    "sc.pl.umap(adata, color = ['ParentalCluster'])"
   ]
  },
  {
   "cell_type": "code",
   "execution_count": null,
   "metadata": {},
   "outputs": [],
   "source": [
    "sc.pl.umap(adata, color = ['GrandparentalCluster'])"
   ]
  },
  {
   "cell_type": "code",
   "execution_count": null,
   "metadata": {},
   "outputs": [],
   "source": [
    "sc.pl.umap(adata, color = ['Dataset', 'Class', 'MMRstatus', 'Position', 'Site', 'Grade', 'nCount_RNA', 'nFeature_RNA'])"
   ]
  },
  {
   "cell_type": "markdown",
   "metadata": {},
   "source": [
    "# Get Macro/Mono"
   ]
  },
  {
   "cell_type": "code",
   "execution_count": null,
   "metadata": {},
   "outputs": [],
   "source": [
    "ad_mac = adata[adata.obs.ParentalCluster == 'Mono/Macro']"
   ]
  },
  {
   "cell_type": "code",
   "execution_count": null,
   "metadata": {},
   "outputs": [],
   "source": [
    "ad_mac"
   ]
  },
  {
   "cell_type": "markdown",
   "metadata": {},
   "source": [
    "for class_type in ad_mac.obs.Class.cat.categories:\n",
    "    ax = sc.pl.violin(ad_mac[ad_mac.obs.Class == class_type], keys='KOvsWT_up_minus_down_score', groupby='CXCL9_SPP1', rotation = 45, show=False)\n",
    "    ax.set_title(class_type)\n",
    "    plt.show()"
   ]
  },
  {
   "cell_type": "code",
   "execution_count": null,
   "metadata": {},
   "outputs": [],
   "source": [
    "ad_mac_tumor = ad_mac[ad_mac.obs.Class == 'T']"
   ]
  },
  {
   "cell_type": "code",
   "execution_count": null,
   "metadata": {},
   "outputs": [],
   "source": [
    "len(ad_mac_tumor.obs.Sample.unique())"
   ]
  },
  {
   "cell_type": "code",
   "execution_count": null,
   "metadata": {},
   "outputs": [],
   "source": [
    "database_path = Path('../../../shared/databases/')\n",
    "numof_genes = 150\n",
    "KOvsWT_down_genelist = pd.read_csv(database_path / '{}_KO--over--WT_Down-Regulated.csv'.format(numof_genes), header=0).gene_name\n",
    "KOvsWT_up_genelist = pd.read_csv(database_path / '{}_KO--over--WT_Up-Regulated.csv'.format(numof_genes), header=0).gene_name\n",
    "KOvsWT_down_genelist = KOvsWT_down_genelist.str.upper()\n",
    "KOvsWT_up_genelist = KOvsWT_up_genelist.str.upper()"
   ]
  },
  {
   "cell_type": "code",
   "execution_count": null,
   "metadata": {},
   "outputs": [],
   "source": [
    "sc.tl.score_genes(ad_mac_tumor, gene_list=KOvsWT_down_genelist, score_name='KOvsWT_down_score')"
   ]
  },
  {
   "cell_type": "code",
   "execution_count": null,
   "metadata": {},
   "outputs": [],
   "source": [
    "sc.tl.score_genes(ad_mac_tumor, gene_list=KOvsWT_up_genelist, score_name='KOvsWT_up_score')"
   ]
  },
  {
   "cell_type": "code",
   "execution_count": null,
   "metadata": {},
   "outputs": [],
   "source": [
    "ad_mac_tumor.obs['KOvsWT_up_minus_down_score'] = ad_mac_tumor.obs['KOvsWT_up_score'] - ad_mac_tumor.obs['KOvsWT_down_score']"
   ]
  },
  {
   "cell_type": "code",
   "execution_count": null,
   "metadata": {},
   "outputs": [],
   "source": [
    "df = sc.get.obs_df(ad_mac_tumor, keys = ['SPP1', 'CXCL9'])"
   ]
  },
  {
   "cell_type": "code",
   "execution_count": null,
   "metadata": {},
   "outputs": [],
   "source": [
    "#define conditions\n",
    "conditions = [\n",
    "    (df['CXCL9'] > 0) & (df['SPP1'] > 0),\n",
    "    (df['CXCL9'] > 0) & (df['SPP1'] == 0),\n",
    "    (df['CXCL9'] == 0)& (df['SPP1'] > 0),\n",
    "    (df['CXCL9'] == 0)& (df['SPP1'] == 0),\n",
    "]\n",
    "\n",
    "#define results\n",
    "results = ['CXCL9 & SPP1', 'CXCL9', 'SPP1', 'none']\n",
    "\n",
    "#create new column based on conditions in column1 and column2\n",
    "ad_mac_tumor.obs['CXCL9_SPP1'] = np.select(conditions, results)"
   ]
  },
  {
   "cell_type": "code",
   "execution_count": null,
   "metadata": {},
   "outputs": [],
   "source": [
    "Cxcl9_Spp1_colors= {'CXCL9':'#40E0D0', 'SPP1':'#FF1493', 'CXCL9 & SPP1': '#5D29A6', 'none': '#F2F2F2'}"
   ]
  },
  {
   "cell_type": "markdown",
   "metadata": {},
   "source": [
    "# Fig 1F"
   ]
  },
  {
   "cell_type": "code",
   "execution_count": null,
   "metadata": {},
   "outputs": [],
   "source": [
    "sc.pl.violin(ad_mac_tumor, keys='KOvsWT_up_minus_down_score', groupby='CXCL9_SPP1',  palette = Cxcl9_Spp1_colors, stripplot = False, inner = 'box', rotation = 45)"
   ]
  },
  {
   "cell_type": "code",
   "execution_count": null,
   "metadata": {},
   "outputs": [],
   "source": []
  },
  {
   "cell_type": "code",
   "execution_count": null,
   "metadata": {},
   "outputs": [],
   "source": [
    "msigdb = dc.get_resource('MSigDB')\n",
    "msigdb"
   ]
  },
  {
   "cell_type": "code",
   "execution_count": null,
   "metadata": {},
   "outputs": [],
   "source": [
    "msigdb['collection'].unique()"
   ]
  },
  {
   "cell_type": "code",
   "execution_count": null,
   "metadata": {},
   "outputs": [],
   "source": [
    "# Filter by hallmark\n",
    "msigdb = msigdb[msigdb['collection']=='hallmark']\n",
    "\n",
    "# Remove duplicated entries\n",
    "msigdb = msigdb[~msigdb.duplicated(['geneset', 'genesymbol'])]\n",
    "msigdb"
   ]
  },
  {
   "cell_type": "code",
   "execution_count": null,
   "metadata": {},
   "outputs": [],
   "source": [
    "msigdb.geneset = msigdb.geneset.str.replace('HALLMARK_', '')"
   ]
  },
  {
   "cell_type": "code",
   "execution_count": null,
   "metadata": {},
   "outputs": [],
   "source": [
    "msigdb"
   ]
  },
  {
   "cell_type": "code",
   "execution_count": null,
   "metadata": {},
   "outputs": [],
   "source": [
    "dc.run_aucell(ad_mac_tumor, msigdb, source='geneset', target='genesymbol', use_raw=False)"
   ]
  },
  {
   "cell_type": "code",
   "execution_count": null,
   "metadata": {},
   "outputs": [],
   "source": [
    "terms = msigdb.geneset.unique()"
   ]
  },
  {
   "cell_type": "code",
   "execution_count": null,
   "metadata": {},
   "outputs": [],
   "source": [
    "ad_mac_tumor.obsm['aucell_estimate']"
   ]
  },
  {
   "cell_type": "code",
   "execution_count": null,
   "metadata": {},
   "outputs": [],
   "source": [
    "ad_mac_tumor.obs[terms] = ad_mac_tumor.obsm[\"aucell_estimate\"][terms]"
   ]
  },
  {
   "cell_type": "code",
   "execution_count": null,
   "metadata": {},
   "outputs": [],
   "source": [
    "important_terms = ['TNFA_SIGNALING_VIA_NFKB', 'INFLAMMATORY_RESPONSE', 'ALLOGRAFT_REJECTION',\n",
    " 'INTERFERON_GAMMA_RESPONSE',\n",
    " 'INTERFERON_ALPHA_RESPONSE',\n",
    " 'IL6_JAK_STAT3_SIGNALING']"
   ]
  },
  {
   "cell_type": "code",
   "execution_count": null,
   "metadata": {},
   "outputs": [],
   "source": [
    "zscore_important_terms = [ term + '_zscore' for term in important_terms]"
   ]
  },
  {
   "cell_type": "code",
   "execution_count": null,
   "metadata": {},
   "outputs": [],
   "source": [
    "sc.pl.violin(ad_mac_tumor, keys=important_terms, groupby='CXCL9_SPP1',  palette = Cxcl9_Spp1_colors, stripplot = False, inner = 'box', rotation = 45)"
   ]
  },
  {
   "cell_type": "code",
   "execution_count": null,
   "metadata": {},
   "outputs": [],
   "source": [
    "for term, zscore_term in zip(important_terms, zscore_important_terms):\n",
    "    ad_mac_tumor.obs[zscore_term] = scipy.stats.zscore(ad_mac_tumor.obs[term])"
   ]
  },
  {
   "cell_type": "code",
   "execution_count": null,
   "metadata": {},
   "outputs": [],
   "source": [
    "sc.pl.violin(ad_mac_tumor, keys=zscore_important_terms, groupby='CXCL9_SPP1',  palette = Cxcl9_Spp1_colors, stripplot = False, inner = 'box', rotation = 45)"
   ]
  },
  {
   "cell_type": "code",
   "execution_count": null,
   "metadata": {},
   "outputs": [],
   "source": [
    "important_terms_zscores_samples = sc.get.obs_df(ad_mac_tumor, keys=zscore_important_terms + ['CXCL9_SPP1'])"
   ]
  },
  {
   "cell_type": "code",
   "execution_count": null,
   "metadata": {},
   "outputs": [],
   "source": [
    "important_terms_zscores_samples = important_terms_zscores_samples[important_terms_zscores_samples['CXCL9_SPP1'].isin(['CXCL9', 'SPP1'])]\n",
    "important_terms_zscores_samples['CXCL9_SPP1'] = important_terms_zscores_samples['CXCL9_SPP1'].cat.remove_unused_categories()"
   ]
  },
  {
   "cell_type": "code",
   "execution_count": null,
   "metadata": {},
   "outputs": [],
   "source": [
    "df_long = important_terms_zscores_samples.melt(id_vars='CXCL9_SPP1', var_name='Pathway', value_name='Zscore')"
   ]
  },
  {
   "cell_type": "code",
   "execution_count": null,
   "metadata": {},
   "outputs": [],
   "source": [
    "ci = 95\n",
    "alpha = 1 - (ci / 100)\n",
    "\n",
    "summary = df_long.groupby(['Pathway', 'CXCL9_SPP1']).agg(\n",
    "    mean=('Zscore', 'mean'),\n",
    "    std=('Zscore', 'std'),\n",
    "    count=('Zscore', 'count')\n",
    ").reset_index()\n",
    "\n",
    "summary['sem'] = summary['std'] / np.sqrt(summary['count'])\n",
    "\n",
    "# Compute t critical value and CI dynamically\n",
    "summary['t_crit'] = summary['count'].apply(lambda n: scipy.stats.t.ppf(1 - alpha / 2, df=n - 1))\n",
    "summary['ci'] = summary['sem'] * summary['t_crit']"
   ]
  },
  {
   "cell_type": "code",
   "execution_count": null,
   "metadata": {},
   "outputs": [],
   "source": [
    "for pathway in summary['Pathway'].unique():\n",
    "    data = summary[summary['Pathway'] == pathway]\n",
    "    \n",
    "    plt.figure(figsize=(6, 4))\n",
    "    sns.barplot(data=data, y='CXCL9_SPP1', x='mean', errorbar=None, palette=Cxcl9_Spp1_colors)\n",
    "    \n",
    "    # Add error bars\n",
    "    plt.errorbar(\n",
    "        y=np.arange(len(data)),\n",
    "        x=data['mean'],\n",
    "        xerr=data['ci'],\n",
    "        fmt='none',\n",
    "        color='black',\n",
    "        capsize=5\n",
    "    )\n",
    "    \n",
    "    plt.title(f'{pathway} Z-Score by Group ({ci}% CI)')\n",
    "    plt.xlabel('Mean Z-Score')\n",
    "    plt.tight_layout()\n",
    "    plt.savefig(path_to_results / 'colon_barplot_{}.pdf'.format(pathway))\n",
    "    plt.show()\n",
    "    "
   ]
  },
  {
   "cell_type": "code",
   "execution_count": null,
   "metadata": {},
   "outputs": [],
   "source": []
  }
 ],
 "metadata": {
  "language_info": {
   "name": "python",
   "pygments_lexer": "ipython3"
  }
 },
 "nbformat": 4,
 "nbformat_minor": 4
}
