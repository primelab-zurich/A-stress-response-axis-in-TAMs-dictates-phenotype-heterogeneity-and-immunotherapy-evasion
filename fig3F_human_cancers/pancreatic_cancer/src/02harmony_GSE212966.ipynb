{
 "cells": [
  {
   "cell_type": "code",
   "execution_count": null,
   "id": "dab525ca-fadc-4cb1-943d-dad1101e4c50",
   "metadata": {},
   "outputs": [],
   "source": [
    "import numpy as np\n",
    "import pandas as pd\n",
    "import scanpy as sc\n",
    "import seaborn as sns\n",
    "import matplotlib.pyplot as plt\n",
    "import scanorama\n",
    "import scipy\n",
    "import os\n",
    "import anndata as anndata\n",
    "import scvelo as scv\n",
    "#import scanpy_cluster_proportions\n",
    "import scanpy.external as sce"
   ]
  },
  {
   "cell_type": "code",
   "execution_count": null,
   "id": "bdf5ea25-e012-45dd-88bd-f8f9cf0a0423",
   "metadata": {},
   "outputs": [],
   "source": [
    "import matplotlib as mpl\n",
    "new_rc_params = {'text.usetex': False,\n",
    "\"svg.fonttype\": 'none'\n",
    "}\n",
    "mpl.rcParams.update(new_rc_params)"
   ]
  },
  {
   "cell_type": "code",
   "execution_count": null,
   "id": "45378e0c-e9d6-4131-8ab8-29ede8ae22de",
   "metadata": {},
   "outputs": [],
   "source": [
    "path_to_results = '../results/cell_type_annotation'\n",
    "sc.settings.verbosity = 3             # verbosity: errors (0), warnings (1), info (2), hints (3)\n",
    "sc.logging.print_header()\n",
    "sc.settings.set_figure_params(dpi=100, facecolor='white', figsize = (4,4), dpi_save=300, frameon = False)\n",
    "sc.settings.figdir = path_to_results\n",
    "umap_point_size = 10\n",
    "umap_transparency = 0.3\n",
    "umap_continuous_point_size = 50\n",
    "umap_continuous_transparency = 0.7\n",
    "aspect_ratio = 1\n",
    "save_figure = True"
   ]
  },
  {
   "cell_type": "code",
   "execution_count": null,
   "id": "821a9f10-c8d8-4c14-8fcd-57febfe93437",
   "metadata": {},
   "outputs": [],
   "source": [
    "adata = sc.read(os.path.join('../data/intermediate/GSE212966', 'preprocessed.h5ad'))\n",
    "adata.uns['log1p']['base'] = None"
   ]
  },
  {
   "cell_type": "markdown",
   "id": "dcb8b849-4e05-41d5-9a21-c39843bbd44d",
   "metadata": {},
   "source": [
    "# Integrate with harmony"
   ]
  },
  {
   "cell_type": "code",
   "execution_count": null,
   "id": "1457ba68-5100-4417-9265-e726c503b3ff",
   "metadata": {},
   "outputs": [],
   "source": [
    "sce.pp.harmony_integrate(adata, 'sample')"
   ]
  },
  {
   "cell_type": "markdown",
   "id": "8344fe7b-c951-41bc-b1ba-179547173e72",
   "metadata": {},
   "source": [
    "# Computing the neighborhood graph and embedding in UMAP"
   ]
  },
  {
   "cell_type": "code",
   "execution_count": null,
   "id": "49fe9e76-49c3-4f97-b5af-024b74b5494f",
   "metadata": {},
   "outputs": [],
   "source": [
    "sc.pp.neighbors(adata, use_rep = 'X_pca_harmony',\n",
    "                n_neighbors=15,\n",
    "                n_pcs=15\n",
    "               )"
   ]
  },
  {
   "cell_type": "code",
   "execution_count": null,
   "id": "b3caea8d-5030-4f89-85a4-4c6c6498cd38",
   "metadata": {},
   "outputs": [],
   "source": [
    "sc.tl.umap(adata)"
   ]
  },
  {
   "cell_type": "code",
   "execution_count": null,
   "id": "9a2c7bcc-04b1-48fc-a0c4-3d0ca91bf3ee",
   "metadata": {},
   "outputs": [],
   "source": [
    "sc.pl.umap(adata, color= ['n_genes_by_counts', 'total_counts', 'pct_counts_mt', 'pct_counts_Rp','sample'], wspace = 0.5, ncols = 3)"
   ]
  },
  {
   "cell_type": "markdown",
   "id": "f97adc79-7cd4-4194-be43-a72f58e59ed1",
   "metadata": {},
   "source": [
    "## Expression of marker genes"
   ]
  },
  {
   "cell_type": "code",
   "execution_count": null,
   "id": "db499038-335d-4997-9ed3-b0dd1534e4f8",
   "metadata": {},
   "outputs": [],
   "source": [
    "gene_list = ['PTPRC', 'CD68','MKI67', 'HMOX1', 'HSPA5', 'MARCO', 'CD74', 'SPP1']\n",
    "#gene_list = ['VEGFA','ELANE','FUT4','CD69', 'CD164', 'S100A8', #'CD15',\n",
    "#             'MPO','SLC7A11', 'SLC48A1','LAMP3', 'CCL22', 'TTF1', 'KRT18', 'KRT19', 'CLU', 'MMP7', 'SPP1', 'REG1A', 'CTRB2', 'PRSS1', 'DCN', 'LUM', 'CPA3', 'TPSAB1', 'CDH5', 'VWF', 'PLVAP', 'IRF7', 'RGS5',\n",
    "#             'PDGFRB', 'CD3E', 'NCAM1', 'NKG7', 'CD3D', 'CD14', 'HLA-DRA', 'GZMB', 'ITGAX', 'ITGAM', 'APOE', 'LYZ', 'IGJ', 'CD79A', 'MS4A1',\n",
    "#            'PTPRC','MKI67', 'HMOX1', 'HSPA5', 'MARCO', 'CD74', 'ARG1', 'MMP8',# 'MMP12',\n",
    "#             'PRDX1', 'GCLM', 'NQO1', 'GSTM1', 'SLC40A1']"
   ]
  },
  {
   "cell_type": "code",
   "execution_count": null,
   "id": "3480e636-dec1-4a35-b601-3b0b63659357",
   "metadata": {},
   "outputs": [],
   "source": [
    "for gene in gene_list:\n",
    "    fig, (ax1) = plt.subplots(1)\n",
    "    ax1.set_aspect(aspect_ratio)\n",
    "    sc.pl.umap(adata, color = gene, size = umap_continuous_point_size, alpha = umap_continuous_transparency, ax = ax1, save = '{}.png'.format(gene) if save_figure else None)"
   ]
  },
  {
   "cell_type": "code",
   "execution_count": null,
   "id": "2e36726f-d096-488d-a0a7-1b673b5d17af",
   "metadata": {},
   "outputs": [],
   "source": [
    "sc.tl.embedding_density(adata, basis='umap', groupby='sample', key_added='umap_density_condition')\n",
    "for sam in adata.obs['sample'].cat.categories:\n",
    "    fig = sc.pl.embedding_density(adata, basis = 'umap', group = sam, key = 'umap_density_condition', return_fig = True, frameon = False)\n",
    "    ax = plt.gca()\n",
    "    ax.set_aspect(aspect_ratio)\n",
    "    fig.canvas.draw()\n",
    "    if save_figure:\n",
    "        plt.savefig(os.path.join(path_to_results, 'density_{}.png'.format(sam)))"
   ]
  },
  {
   "cell_type": "markdown",
   "id": "64ea5842-b73d-426e-85c0-a630d38c7090",
   "metadata": {},
   "source": [
    "### Clustering the neighborhood graph"
   ]
  },
  {
   "cell_type": "code",
   "execution_count": null,
   "id": "eff6ecb6-9d84-4504-ac27-800629f921a5",
   "metadata": {},
   "outputs": [],
   "source": [
    "sc.tl.leiden(adata, resolution = 0.2)"
   ]
  },
  {
   "cell_type": "code",
   "execution_count": null,
   "id": "c003e644-febc-41b2-8413-681945d0381f",
   "metadata": {},
   "outputs": [],
   "source": [
    "fig, (ax1) = plt.subplots(1)\n",
    "ax1.set_aspect(aspect_ratio)\n",
    "sc.pl.umap(adata, color = ['leiden'], legend_loc='right margin', wspace=0.5, size = umap_point_size, alpha = umap_transparency, ax = ax1,save = 'leiden.png' if save_figure else None)"
   ]
  },
  {
   "cell_type": "code",
   "execution_count": null,
   "id": "43112db2-d075-41ad-806b-9672ed0c524b",
   "metadata": {},
   "outputs": [],
   "source": [
    "adata.uns['log1p']['base'] = None"
   ]
  },
  {
   "cell_type": "code",
   "execution_count": null,
   "id": "26156697-91d8-434b-8749-312b780454e0",
   "metadata": {},
   "outputs": [],
   "source": [
    "sc.tl.rank_genes_groups(adata, 'leiden', method='wilcoxon')\n",
    "sc.pl.rank_genes_groups(adata, n_genes=25, sharey=False)"
   ]
  },
  {
   "cell_type": "markdown",
   "id": "8995b607-1ee0-4a36-a857-33427210d228",
   "metadata": {},
   "source": [
    "# Cell type annotation"
   ]
  },
  {
   "cell_type": "code",
   "execution_count": null,
   "id": "bc3391a0-c4b7-4d5d-be2e-54316f4ce51b",
   "metadata": {},
   "outputs": [],
   "source": [
    "marker_genes_dict = {\n",
    "    'Macrophages': ['CD14', 'HLA-DRA', 'ITGAM', 'ITGAX', 'APOE', 'LYZ', 'SPP1'],\n",
    "    'paper': ['LAMP3', 'CCL22', 'TFF1', 'KRT18', 'KRT19', 'KRT8', 'CLU', 'MMP7', 'REG1A', 'CTRB2', 'PRSS1', 'DCN', 'LUM', 'CPA3', 'TPSAB1', 'CDH5', 'VWF', 'PLVAP', 'IRF7', 'RGS5',\n",
    "             'PDGFRB', 'CD3E', 'NCAM1', 'NKG7', 'CD3D', 'GZMB', 'IGJ', 'CD79A', 'MS4A1'],\n",
    "    'additional_from_Florence': ['ELANE', 'S100A8', 'MPO']\n",
    "}\n",
    "marker_genes = ['CD14', 'HLA-DRA', 'ITGAM', 'ITGAX', 'APOE', 'LYZ', 'CD68', 'CD163',#'SPP1', # mac markers\n",
    "                'LAMP3', 'CCL22', 'TFF1', 'KRT18', 'KRT19', 'KRT8', 'CLU', 'MMP7', 'REG1A', 'CTRB2', 'PRSS1', 'DCN', 'LUM', 'CPA3', 'TPSAB1', 'CDH5', 'VWF', 'PLVAP', 'IRF7', 'RGS5',\n",
    "                'PDGFRB', 'CD3E', 'NCAM1', 'NKG7', 'CD3D', 'GZMB', #'IGJ', \n",
    "                'CD79A', 'MS4A1', # from original papers excl. mac markers\n",
    "                'S100A8', #'ELANE', 'MPO' # additional markers for other cell types than mac\n",
    "               ]"
   ]
  },
  {
   "cell_type": "code",
   "execution_count": null,
   "id": "90deda5e-7ac6-4129-a1d6-ff1ad3ed59f6",
   "metadata": {},
   "outputs": [],
   "source": [
    "sc.tl.dendrogram(adata, groupby= 'leiden')\n",
    "sc.pl.dotplot(adata, marker_genes, groupby='leiden', dendrogram=True, var_group_positions=[(0,7)],\n",
    "              var_group_labels=['Macrophages'], var_group_rotation=0, save = '.svg' if save_figure else None)"
   ]
  },
  {
   "cell_type": "markdown",
   "id": "b5c858d1-a7da-4ddb-a713-3fc0a18b73bc",
   "metadata": {},
   "source": [
    "# save macrophages for further investigation"
   ]
  },
  {
   "cell_type": "code",
   "execution_count": null,
   "id": "d183c9f3-00c4-45fc-9643-b0d816d849f9",
   "metadata": {},
   "outputs": [],
   "source": [
    "mac_clusters = ['3', '6']\n",
    "adata_mac = adata[adata.obs.leiden.isin(mac_clusters)].copy()"
   ]
  },
  {
   "cell_type": "code",
   "execution_count": null,
   "id": "ca38fc71-1444-42bb-87c6-a8b09cf1dd61",
   "metadata": {},
   "outputs": [],
   "source": [
    "adata.obs['cell_type'] = np.where(adata.obs.leiden.isin(mac_clusters), 'Macrophages', 'other')"
   ]
  },
  {
   "cell_type": "code",
   "execution_count": null,
   "id": "8ae848e1-a172-4f79-aedc-13a62a9dbbf7",
   "metadata": {},
   "outputs": [],
   "source": [
    "fig, (ax1) = plt.subplots(1)\n",
    "ax1.set_aspect(aspect_ratio)\n",
    "sc.pl.umap(adata, color = 'cell_type', legend_loc='right margin', size = umap_point_size, alpha = umap_transparency, ax = ax1,save = '_cell_type.png' if save_figure else None)"
   ]
  },
  {
   "cell_type": "code",
   "execution_count": null,
   "id": "947216c8-01fa-4d91-8f44-0883052bffc0",
   "metadata": {},
   "outputs": [],
   "source": [
    "adata_mac.write('../data/intermediate/GSE212966/macrophages.h5ad')"
   ]
  },
  {
   "cell_type": "code",
   "execution_count": null,
   "id": "c8abd95d-98fb-40e3-9253-f070d18d3834",
   "metadata": {},
   "outputs": [],
   "source": []
  }
 ],
 "metadata": {
  "language_info": {
   "name": "python",
   "pygments_lexer": "ipython3"
  }
 },
 "nbformat": 4,
 "nbformat_minor": 5
}
