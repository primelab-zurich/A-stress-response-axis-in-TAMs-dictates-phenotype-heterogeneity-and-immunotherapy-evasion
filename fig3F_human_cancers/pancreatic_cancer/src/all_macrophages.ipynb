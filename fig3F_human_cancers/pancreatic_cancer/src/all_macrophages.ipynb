{
 "cells": [
  {
   "cell_type": "code",
   "execution_count": null,
   "id": "27c344bf-771d-44e9-a8e6-ba1f46716edd",
   "metadata": {},
   "outputs": [],
   "source": [
    "import numpy as np\n",
    "import pandas as pd\n",
    "import scanpy as sc\n",
    "import seaborn as sns\n",
    "import matplotlib.pyplot as plt\n",
    "import scipy\n",
    "import os\n",
    "import anndata as anndata\n",
    "import scvelo as scv\n",
    "import scanpy.external as sce\n",
    "from corr_dotplot import *"
   ]
  },
  {
   "cell_type": "code",
   "execution_count": null,
   "id": "4e16181f-ed04-4e49-ab83-fd036bfc32a5",
   "metadata": {},
   "outputs": [],
   "source": [
    "import matplotlib as mpl\n",
    "new_rc_params = {'text.usetex': False,\n",
    "\"svg.fonttype\": 'none'\n",
    "}\n",
    "mpl.rcParams.update(new_rc_params)"
   ]
  },
  {
   "cell_type": "code",
   "execution_count": null,
   "id": "5e11a178-d8c8-4744-aee2-e1967c2ed060",
   "metadata": {},
   "outputs": [],
   "source": [
    "path_to_results = '../results'\n",
    "path_to_root_dir = '../../'\n",
    "sc.settings.verbosity = 3             # verbosity: errors (0), warnings (1), info (2), hints (3)\n",
    "sc.logging.print_header()\n",
    "sc.settings.set_figure_params(dpi=100, facecolor='white', figsize = (4,4), dpi_save=300, frameon = False)\n",
    "sc.settings.figdir = path_to_results\n",
    "umap_point_size = 70\n",
    "umap_transparency = 0.7\n",
    "umap_continuous_point_size = 50\n",
    "umap_continuous_transparency = 0.7\n",
    "aspect_ratio = 1\n",
    "save_figure = True"
   ]
  },
  {
   "cell_type": "code",
   "execution_count": null,
   "id": "1524ac03-39d9-4f27-8d7c-d8c8da02c446",
   "metadata": {},
   "outputs": [],
   "source": [
    "studies = ['GSE155698', 'GSE212966']"
   ]
  },
  {
   "cell_type": "code",
   "execution_count": null,
   "id": "67d1c5cf-b6ba-4ec3-9b34-5bca9a5e49c7",
   "metadata": {},
   "outputs": [],
   "source": [
    "adatas = []\n",
    "for study in studies:\n",
    "    path = '../../{}/data/intermediate/macrophages.h5ad'.format(study)\n",
    "    print(path)\n",
    "    adata = sc.read(path)\n",
    "    adata.obs.study = study\n",
    "    adatas.append(adata)"
   ]
  },
  {
   "cell_type": "code",
   "execution_count": null,
   "id": "dc0264cc-c555-48f4-a032-a2c112ba545f",
   "metadata": {},
   "outputs": [],
   "source": [
    "adata = anndata.concat(adatas)"
   ]
  },
  {
   "cell_type": "code",
   "execution_count": null,
   "id": "3c429c74-cc98-4607-b01e-2ee51fd4c4b2",
   "metadata": {},
   "outputs": [],
   "source": [
    "adata.obs_names_make_unique()"
   ]
  },
  {
   "cell_type": "code",
   "execution_count": null,
   "id": "67eb52ca-da0f-4e3a-8917-6a9e41e0deb9",
   "metadata": {},
   "outputs": [],
   "source": [
    "sum(adata.obs.index.duplicated())"
   ]
  },
  {
   "cell_type": "markdown",
   "id": "ce0ec44c-a5cf-4537-b533-550e682cfe8f",
   "metadata": {},
   "source": [
    "# Integrate with harmony"
   ]
  },
  {
   "cell_type": "code",
   "execution_count": null,
   "id": "25bfa81f-28e7-43ca-9c6d-303f5c5b83a6",
   "metadata": {},
   "outputs": [],
   "source": [
    "sc.pp.highly_variable_genes(adata)"
   ]
  },
  {
   "cell_type": "code",
   "execution_count": null,
   "id": "0df88938-16cf-43d9-b952-96401783ab0a",
   "metadata": {},
   "outputs": [],
   "source": [
    "sc.pp.pca(adata, n_comps=50, use_highly_variable=True, svd_solver='arpack')"
   ]
  },
  {
   "cell_type": "code",
   "execution_count": null,
   "id": "8933d3b0-d090-4dc0-8247-d678a337819f",
   "metadata": {},
   "outputs": [],
   "source": [
    "sc.pl.pca_overview(adata, color = 'sample', components = ['1,2', '2,3', '3,4'], frameon = True)"
   ]
  },
  {
   "cell_type": "code",
   "execution_count": null,
   "id": "d6dbb02c-3f0b-43b9-994a-3a24031f4fb9",
   "metadata": {},
   "outputs": [],
   "source": [
    "sce.pp.harmony_integrate(adata, 'sample')"
   ]
  },
  {
   "cell_type": "markdown",
   "id": "808dd095-1448-474f-befd-8447ef76d34d",
   "metadata": {},
   "source": [
    "# Computing the neighborhood graph and embedding in UMAP"
   ]
  },
  {
   "cell_type": "code",
   "execution_count": null,
   "id": "e05e3124-befd-4ae0-a98d-85c8ab7b129d",
   "metadata": {},
   "outputs": [],
   "source": [
    "sc.pp.neighbors(adata, use_rep = 'X_pca_harmony',\n",
    "                n_neighbors=15,\n",
    "                n_pcs=15\n",
    "               )"
   ]
  },
  {
   "cell_type": "code",
   "execution_count": null,
   "id": "4fa94ba6-bc06-4555-b5a1-5cfd437382c9",
   "metadata": {},
   "outputs": [],
   "source": [
    "sc.tl.umap(adata)"
   ]
  },
  {
   "cell_type": "code",
   "execution_count": null,
   "id": "e8dbb6a2-25e1-43b0-b0c0-a74854534894",
   "metadata": {},
   "outputs": [],
   "source": [
    "sc.pl.umap(adata, color= ['n_genes_by_counts', 'total_counts', 'pct_counts_mt', 'pct_counts_Rp','sample'], wspace = 0.5, ncols = 3)"
   ]
  },
  {
   "cell_type": "markdown",
   "id": "50c9e98a-9e70-447d-82de-01cb3612a219",
   "metadata": {},
   "source": [
    "## Expression of marker genes"
   ]
  },
  {
   "cell_type": "code",
   "execution_count": null,
   "id": "624ef621-cadf-46a0-b88f-00155e8565ff",
   "metadata": {},
   "outputs": [],
   "source": [
    "gene_list = ['PTPRC', 'CD68','MKI67', 'HMOX1', 'HSPA5', 'MARCO', 'CD74', 'SPP1', 'CXCL9']\n",
    "#gene_list = ['VEGFA','ELANE','FUT4','CD69', 'CD164', 'S100A8', #'CD15',\n",
    "#             'MPO','SLC7A11', 'SLC48A1','LAMP3', 'CCL22', 'TTF1', 'KRT18', 'KRT19', 'CLU', 'MMP7', 'SPP1', 'REG1A', 'CTRB2', 'PRSS1', 'DCN', 'LUM', 'CPA3', 'TPSAB1', 'CDH5', 'VWF', 'PLVAP', 'IRF7', 'RGS5',\n",
    "#             'PDGFRB', 'CD3E', 'NCAM1', 'NKG7', 'CD3D', 'CD14', 'HLA-DRA', 'GZMB', 'ITGAX', 'ITGAM', 'APOE', 'LYZ', 'IGJ', 'CD79A', 'MS4A1',\n",
    "#            'PTPRC','MKI67', 'HMOX1', 'HSPA5', 'MARCO', 'CD74', 'ARG1', 'MMP8',# 'MMP12',\n",
    "#             'PRDX1', 'GCLM', 'NQO1', 'GSTM1', 'SLC40A1']"
   ]
  },
  {
   "cell_type": "code",
   "execution_count": null,
   "id": "448016e8-5460-4bdf-aa56-2d92356c0dd2",
   "metadata": {},
   "outputs": [],
   "source": [
    "for gene in gene_list:\n",
    "    fig, (ax1) = plt.subplots(1)\n",
    "    ax1.set_aspect(aspect_ratio)\n",
    "    sc.pl.umap(adata, color = gene, size = umap_continuous_point_size, alpha = umap_continuous_transparency, ax = ax1, save = '{}.png'.format(gene) if save_figure else None)"
   ]
  },
  {
   "cell_type": "code",
   "execution_count": null,
   "id": "49fc0177-1451-4fda-a644-475a7dc15d2a",
   "metadata": {},
   "outputs": [],
   "source": [
    "sc.tl.embedding_density(adata, basis='umap', groupby='sample', key_added='umap_density_condition')\n",
    "for sam in adata.obs['sample'].cat.categories:\n",
    "    fig = sc.pl.embedding_density(adata, basis = 'umap', group = sam, key = 'umap_density_condition', return_fig = True, frameon = False)\n",
    "    ax = plt.gca()\n",
    "    ax.set_aspect(aspect_ratio)\n",
    "    fig.canvas.draw()\n",
    "    if save_figure:\n",
    "        plt.savefig(os.path.join(path_to_results, 'density_{}.png'.format(sam)))"
   ]
  },
  {
   "cell_type": "markdown",
   "id": "92b32f37-ff3a-4ee5-8114-db4e1aff997e",
   "metadata": {},
   "source": [
    "### Clustering the neighborhood graph"
   ]
  },
  {
   "cell_type": "code",
   "execution_count": null,
   "id": "d02f2e24-874b-4a68-8778-244cddfc1d43",
   "metadata": {},
   "outputs": [],
   "source": [
    "sc.tl.leiden(adata, resolution = 0.2)"
   ]
  },
  {
   "cell_type": "code",
   "execution_count": null,
   "id": "a1ba4486-7c40-4224-b638-8d2710b1b32b",
   "metadata": {},
   "outputs": [],
   "source": [
    "fig, (ax1) = plt.subplots(1)\n",
    "ax1.set_aspect(aspect_ratio)\n",
    "sc.pl.umap(adata, color = ['leiden'], legend_loc='right margin', wspace=0.5, size = umap_point_size, alpha = umap_transparency, ax = ax1,save = 'leiden.png' if save_figure else None)"
   ]
  },
  {
   "cell_type": "code",
   "execution_count": null,
   "id": "be1a896c-daf1-4894-a6ca-fa28fe29b7ad",
   "metadata": {},
   "outputs": [],
   "source": [
    "genes_to_plot = ['SPP1', 'CXCL9']"
   ]
  },
  {
   "cell_type": "code",
   "execution_count": null,
   "id": "c33476e5-579e-468e-8478-0425b197775f",
   "metadata": {},
   "outputs": [],
   "source": [
    "spp1_cxcl9 = pd.DataFrame(adata[:, genes_to_plot].X.todense(), columns=genes_to_plot)"
   ]
  },
  {
   "cell_type": "code",
   "execution_count": null,
   "id": "ff78042b-17b0-41fa-af07-5d915953bdaa",
   "metadata": {},
   "outputs": [],
   "source": [
    "spp1_cxcl9"
   ]
  },
  {
   "cell_type": "code",
   "execution_count": null,
   "id": "2e7f5c91-27f3-4c8a-816e-392fe9d9c232",
   "metadata": {},
   "outputs": [],
   "source": [
    "sns.scatterplot(spp1_cxcl9, x = 'CXCL9', y = 'SPP1')"
   ]
  },
  {
   "cell_type": "markdown",
   "id": "a10590ab-c721-4c32-bd47-c2b6d6f5ed97",
   "metadata": {},
   "source": [
    "# Correlation of HMOX1, MARCO and SPP1"
   ]
  },
  {
   "cell_type": "code",
   "execution_count": null,
   "id": "6eeb88fb-304b-4c10-bf17-8cd832e2d6d2",
   "metadata": {},
   "outputs": [],
   "source": [
    "corr_per_sample = pd.DataFrame()\n",
    "genes = ['HMOX1', 'MARCO', 'SPP1', 'CD163']\n",
    "for cluster in adata.obs.leiden.cat.categories:\n",
    "    genes_adata = adata[adata.obs.leiden == cluster, adata.var_names.isin(genes)]\n",
    "    for sam in adata.obs['sample'].cat.categories:\n",
    "        genes_adata_sample = genes_adata[genes_adata.obs['sample'] == sam]\n",
    "        gene_df = pd.DataFrame.sparse.from_spmatrix(genes_adata_sample.X.astype(bool))\n",
    "        gene_df.columns = genes\n",
    "        corr = compute_correlation_data(gene_df, genes)\n",
    "        corr_sample = corr\n",
    "        corr_sample['sample'] = sam\n",
    "        corr_sample['cluster'] = cluster\n",
    "        corr_per_sample = corr_per_sample.append(corr_sample)\n",
    "        fig, ax = plt.subplots(1)\n",
    "        fig.set_size_inches(len(genes) * 2/3, len(genes) * 2/3 * 14/15)\n",
    "        heatmap(x=corr['x'], y = corr['y'], x_order=genes, y_order=genes,\n",
    "                color = corr['jaccard'].values.astype('float'), color_range = [0,1], size = corr['coexpression_ratio'].values.astype('float'), size_range = [0,1],\n",
    "            save = os.path.join(path_to_results, 'correlation_dotplot_cluster_{}_sample_{}.svg'.format(cluster, sam)) if save_figure else False, title = 'cluster {}, sample {}'.format(cluster, sam))"
   ]
  },
  {
   "cell_type": "code",
   "execution_count": null,
   "id": "b19e565c-9d89-4cbe-9f0a-b46b5fa621e5",
   "metadata": {},
   "outputs": [],
   "source": [
    "corr_per_sample.to_csv(os.path.join(path_to_results, 'correlation_data.csv'), index=False)"
   ]
  },
  {
   "cell_type": "markdown",
   "id": "1ee3d352-e5da-477c-9a19-7f42f8c0c95e",
   "metadata": {},
   "source": [
    "# KeapKOvsWT score"
   ]
  },
  {
   "cell_type": "code",
   "execution_count": null,
   "id": "e29443d8-0efe-4fb2-8c27-c4d77752dc0b",
   "metadata": {},
   "outputs": [],
   "source": [
    "import pathlib"
   ]
  },
  {
   "cell_type": "code",
   "execution_count": null,
   "id": "22eabe2c-831d-47ba-84a0-1b693333907e",
   "metadata": {},
   "outputs": [],
   "source": [
    "database_path = pathlib.Path('../../gsea_db/')\n",
    "numof_genes = 150\n",
    "KOvsWT_down_genelist = pd.read_csv(database_path / '{}_KO--over--WT_Down-Regulated.csv'.format(numof_genes), header=0).gene_name\n",
    "KOvsWT_up_genelist = pd.read_csv(database_path / '{}_KO--over--WT_Up-Regulated.csv'.format(numof_genes), header=0).gene_name\n",
    "KOvsWT_down_genelist = KOvsWT_down_genelist.str.upper()\n",
    "KOvsWT_up_genelist = KOvsWT_up_genelist.str.upper()"
   ]
  },
  {
   "cell_type": "code",
   "execution_count": null,
   "id": "9a9fb306-5a95-43a3-bc01-25738826693e",
   "metadata": {},
   "outputs": [],
   "source": [
    "sc.tl.score_genes(adata, gene_list=KOvsWT_down_genelist, score_name='KOvsWT_down_score')"
   ]
  },
  {
   "cell_type": "code",
   "execution_count": null,
   "id": "24379bdf-ae70-4504-b1fd-f9d03a9e2e09",
   "metadata": {},
   "outputs": [],
   "source": [
    "sc.tl.score_genes(adata, gene_list=KOvsWT_up_genelist, score_name='KOvsWT_up_score')"
   ]
  },
  {
   "cell_type": "code",
   "execution_count": null,
   "id": "ef8daee5-15bb-4cd1-b3e2-62d6368cb87e",
   "metadata": {},
   "outputs": [],
   "source": [
    "sc.pl.umap(adata, color = 'KOvsWT_down_score', cmap='Oranges')"
   ]
  },
  {
   "cell_type": "code",
   "execution_count": null,
   "id": "c8694f7a-d0c7-4cf4-ba4e-e9d70f5cee13",
   "metadata": {},
   "outputs": [],
   "source": [
    "sc.pl.umap(adata, color = 'KOvsWT_up_score', cmap='Oranges')"
   ]
  },
  {
   "cell_type": "code",
   "execution_count": null,
   "id": "799ae594-2f26-43cf-8dc3-4b64396366c7",
   "metadata": {},
   "outputs": [],
   "source": [
    "adata.obs['KOvsWT_up_minus_down_score'] = adata.obs['KOvsWT_up_score'] - adata.obs['KOvsWT_down_score']"
   ]
  },
  {
   "cell_type": "code",
   "execution_count": null,
   "id": "79f52513-3d9e-4c09-9b03-274852f75245",
   "metadata": {},
   "outputs": [],
   "source": [
    "vmax = adata.obs['KOvsWT_up_minus_down_score'].abs().quantile(0.99)\n",
    "vmin = -vmax\n",
    "sc.pl.umap(adata, color = 'KOvsWT_up_minus_down_score', vmax = vmax, vmin = vmin, cmap='bwr')"
   ]
  },
  {
   "cell_type": "code",
   "execution_count": null,
   "id": "80989319-dfea-403e-8e67-64db8c55ad71",
   "metadata": {},
   "outputs": [],
   "source": [
    "df = sc.get.obs_df(adata, keys = ['SPP1', 'CXCL9', 'CD74', 'CXCL10'])"
   ]
  },
  {
   "cell_type": "code",
   "execution_count": null,
   "id": "20bfae7f-78b8-4eea-8dd2-c1662a437f88",
   "metadata": {},
   "outputs": [],
   "source": [
    "#define conditions\n",
    "conditions = [\n",
    "    (df['CXCL9'] > 0) & (df['SPP1'] > 0),\n",
    "    (df['CXCL9'] > 0) & (df['SPP1'] == 0),\n",
    "    (df['CXCL9'] == 0)& (df['SPP1'] > 0),\n",
    "    (df['CXCL9'] == 0)& (df['SPP1'] == 0),\n",
    "]\n",
    "\n",
    "#define results\n",
    "results = ['CXCL9 & SPP1', 'CXCL9', 'SPP1', 'nothing']\n",
    "\n",
    "#create new column based on conditions in column1 and column2\n",
    "adata.obs['CXCL9_SPP1'] = np.select(conditions, results)"
   ]
  },
  {
   "cell_type": "code",
   "execution_count": null,
   "id": "9f7c9aae-dd3e-4fbe-9b99-a296738c97e0",
   "metadata": {},
   "outputs": [],
   "source": [
    "Cxcl9_Spp1_colors= {'CXCL9':'Yellow', 'SPP1':'Cyan', 'CXCL9 & SPP1': 'Magenta', 'nothing': 'lightgrey'}"
   ]
  },
  {
   "cell_type": "code",
   "execution_count": null,
   "id": "73095c84-853f-4da4-a8ef-9766daee6f89",
   "metadata": {},
   "outputs": [],
   "source": [
    "sc.pl.umap(adata, color = 'CXCL9_SPP1', palette=Cxcl9_Spp1_colors, sort_order=False, save = '_Cxcl9_Spp1_coexpression.png')"
   ]
  },
  {
   "cell_type": "code",
   "execution_count": null,
   "id": "d079e137-19cf-46b7-9309-c630a1951d52",
   "metadata": {},
   "outputs": [],
   "source": [
    "sc.pl.violin(adata, keys='KOvsWT_up_minus_down_score', groupby='CXCL9_SPP1')"
   ]
  },
  {
   "cell_type": "code",
   "execution_count": null,
   "id": "50abcc44-7b89-47b0-9aa7-068b425027fe",
   "metadata": {},
   "outputs": [],
   "source": [
    "#define conditions\n",
    "conditions = [\n",
    "    (df['CXCL10'] > 0) & (df['SPP1'] > 0),\n",
    "    (df['CXCL10'] > 0) & (df['SPP1'] == 0),\n",
    "    (df['CXCL10'] == 0)& (df['SPP1'] > 0),\n",
    "    (df['CXCL10'] == 0)& (df['SPP1'] == 0),\n",
    "]\n",
    "\n",
    "#define results\n",
    "results = ['CXCL10 & SPP1', 'CXCL10', 'SPP1', 'nothing']\n",
    "\n",
    "#create new column based on conditions in column1 and column2\n",
    "adata.obs['CXCL10_SPP1'] = np.select(conditions, results)"
   ]
  },
  {
   "cell_type": "code",
   "execution_count": null,
   "id": "ecc4f447-6e12-4d69-ac02-a766db5e70f8",
   "metadata": {},
   "outputs": [],
   "source": [
    "Cxcl10_Spp1_colors= {'CXCL10':'Yellow', 'SPP1':'Cyan', 'CXCL10 & SPP1': 'Magenta', 'nothing': 'lightgrey'}"
   ]
  },
  {
   "cell_type": "code",
   "execution_count": null,
   "id": "e67d66b2-ef97-49f4-941a-e9b3969f950c",
   "metadata": {},
   "outputs": [],
   "source": [
    "sc.pl.umap(adata, color = 'CXCL10_SPP1', palette=Cxcl10_Spp1_colors, sort_order=False, save = '_Cxcl10_Spp1_coexpression.png')"
   ]
  },
  {
   "cell_type": "code",
   "execution_count": null,
   "id": "1f4b4a57-51d5-42f6-9afd-0dd20f495f01",
   "metadata": {},
   "outputs": [],
   "source": [
    "sc.pl.violin(adata, keys='KOvsWT_up_minus_down_score', groupby='CXCL10_SPP1')"
   ]
  },
  {
   "cell_type": "code",
   "execution_count": null,
   "id": "45be95a7-9e75-459c-b8ab-c834302fbcee",
   "metadata": {},
   "outputs": [],
   "source": [
    "#define conditions\n",
    "conditions = [\n",
    "    (df['CD74'] > 0) & (df['SPP1'] > 0),\n",
    "    (df['CD74'] > 0) & (df['SPP1'] == 0),\n",
    "    (df['CD74'] == 0)& (df['SPP1'] > 0),\n",
    "    (df['CD74'] == 0)& (df['SPP1'] == 0),\n",
    "]\n",
    "\n",
    "#define results\n",
    "results = ['CD74 & SPP1', 'CD74', 'SPP1', 'nothing']\n",
    "\n",
    "#create new column based on conditions in column1 and column2\n",
    "adata.obs['CD74_SPP1'] = np.select(conditions, results)"
   ]
  },
  {
   "cell_type": "code",
   "execution_count": null,
   "id": "73127b40-f887-4cd5-8cdd-b88a7a239ada",
   "metadata": {},
   "outputs": [],
   "source": [
    "Cd74_Spp1_colors= {'CD74':'Yellow', 'SPP1':'Cyan', 'CD74 & SPP1': 'Magenta', 'nothing': 'lightgrey'}"
   ]
  },
  {
   "cell_type": "code",
   "execution_count": null,
   "id": "87ff5a7d-a5ff-4b99-8f86-bc000f6ad010",
   "metadata": {},
   "outputs": [],
   "source": [
    "sc.pl.umap(adata, color = 'CD74_SPP1', palette=Cd74_Spp1_colors, sort_order=False, save = '_Cd74_Spp1_coexpression.png')"
   ]
  },
  {
   "cell_type": "code",
   "execution_count": null,
   "id": "1c474fa7-3c0b-4675-b149-95bcd90b123a",
   "metadata": {},
   "outputs": [],
   "source": [
    "sc.pl.violin(adata, keys='KOvsWT_up_minus_down_score', groupby='CD74_SPP1')"
   ]
  },
  {
   "cell_type": "code",
   "execution_count": null,
   "id": "a2aa8e55-4340-4ee5-ad21-671aa382add8",
   "metadata": {},
   "outputs": [],
   "source": [
    "df = sc.get.obs_df(adata, keys = ['SPP1', 'KOvsWT_up_minus_down_score'])"
   ]
  },
  {
   "cell_type": "code",
   "execution_count": null,
   "id": "985d4d63-4c35-4b2c-a168-18d5ae4df7ad",
   "metadata": {},
   "outputs": [],
   "source": [
    "df = df[df['SPP1'] > 0]"
   ]
  },
  {
   "cell_type": "code",
   "execution_count": null,
   "id": "a60b32f4-495d-44bd-b211-2b8d488e08c5",
   "metadata": {},
   "outputs": [],
   "source": [
    "df.shape"
   ]
  },
  {
   "cell_type": "code",
   "execution_count": null,
   "id": "99332923-89cc-464a-af77-d0fcf0e4e6c5",
   "metadata": {},
   "outputs": [],
   "source": [
    "adata.obs['spp1_quartile'] = pd.qcut(df['SPP1'], q = 4, labels=['first', 'second', 'third', 'fourth'])"
   ]
  },
  {
   "cell_type": "code",
   "execution_count": null,
   "id": "68040e0b-270f-481c-a14b-50605c9905a6",
   "metadata": {},
   "outputs": [],
   "source": [
    "sc.pl.violin(adata, keys = 'KOvsWT_up_minus_down_score', groupby='spp1_quartile')"
   ]
  },
  {
   "cell_type": "code",
   "execution_count": null,
   "id": "5fb343e5-7e08-4714-94be-85750d0b9cfc",
   "metadata": {},
   "outputs": [],
   "source": [
    "df = sc.get.obs_df(adata, keys = ['SPP1', 'CXCL9', 'CXCL10', 'CD74', 'CXCL9_SPP1', 'CXCL10_SPP1', 'CD74_SPP1','KOvsWT_up_minus_down_score', 'spp1_quartile'])"
   ]
  },
  {
   "cell_type": "code",
   "execution_count": null,
   "id": "961d0cb8-8801-4029-beb9-9cfd765472ff",
   "metadata": {},
   "outputs": [],
   "source": [
    "df.to_csv(pathlib.Path(path_to_results) / 'data_for_plotting_mac_pancreatic_cancer_{}_samples_{}_cells.csv'.format(len(adata.obs['sample'].unique()), len(adata.obs_names)))"
   ]
  },
  {
   "cell_type": "code",
   "execution_count": null,
   "id": "a1c2a0cf-2478-4785-a745-3aeef6c87b93",
   "metadata": {},
   "outputs": [],
   "source": [
    "adata.obs_keys"
   ]
  },
  {
   "cell_type": "code",
   "execution_count": null,
   "id": "603ced5e-7d73-408f-8651-1a10c05e2775",
   "metadata": {},
   "outputs": [],
   "source": []
  }
 ],
 "metadata": {
  "language_info": {
   "name": "python",
   "pygments_lexer": "ipython3"
  }
 },
 "nbformat": 4,
 "nbformat_minor": 5
}
