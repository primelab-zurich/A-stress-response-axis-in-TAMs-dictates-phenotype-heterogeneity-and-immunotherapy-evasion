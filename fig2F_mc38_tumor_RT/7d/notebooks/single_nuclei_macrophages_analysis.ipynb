{
 "cells": [
  {
   "cell_type": "markdown",
   "id": "524cd49e-fa46-4609-a42f-8f28d5c4d454",
   "metadata": {},
   "source": [
    "# Analyze macrophages in segmented cell nuclei"
   ]
  },
  {
   "cell_type": "code",
   "execution_count": null,
   "id": "03dfbb7f-8ef9-433b-a580-682d6b87cf74",
   "metadata": {},
   "outputs": [],
   "source": [
    "import pandas as pd\n",
    "import numpy as np\n",
    "import matplotlib.pyplot as plt\n",
    "import matplotlib as mpl\n",
    "import anndata\n",
    "import geopandas as gpd\n",
    "import scanpy as sc\n",
    "\n",
    "import pathlib\n",
    "\n",
    "from tifffile import imread, imwrite\n",
    "from csbdeep.utils import normalize\n",
    "#from stardist.models import StarDist2D\n",
    "#from shapely.geometry import Polygon, Point\n",
    "from scipy import sparse\n",
    "from matplotlib.colors import ListedColormap\n",
    "\n",
    "%matplotlib inline\n",
    "%config InlineBackend.figure_format = 'retina'"
   ]
  },
  {
   "cell_type": "code",
   "execution_count": null,
   "id": "3c023a1f-9f76-4c1d-87f1-68bbbfa695f8",
   "metadata": {},
   "outputs": [],
   "source": [
    "import sys\n",
    "sys.path.append('../../../shared/src')\n",
    "import nuclei_segmentation_plotting as nsp"
   ]
  },
  {
   "cell_type": "markdown",
   "id": "457b32da-e9ab-400d-a98c-253b76f7e083",
   "metadata": {},
   "source": [
    "import tme_colormaps"
   ]
  },
  {
   "cell_type": "code",
   "execution_count": null,
   "id": "387c4a2a-3b52-4c3e-8cbc-72e3a3daf253",
   "metadata": {},
   "outputs": [],
   "source": [
    "new_rc_params = {'text.usetex': False,\n",
    "\"svg.fonttype\": 'none'\n",
    "}\n",
    "mpl.rcParams.update(new_rc_params)"
   ]
  },
  {
   "cell_type": "code",
   "execution_count": null,
   "id": "bbebbad5-3998-4e73-ab4a-6105432a45a0",
   "metadata": {},
   "outputs": [],
   "source": [
    "from importlib import reload\n",
    "reload(nsp)\n",
    "#reload(tme_colormaps)"
   ]
  },
  {
   "cell_type": "markdown",
   "id": "917e61bd-e154-4973-a9fb-4bf6f31238df",
   "metadata": {},
   "source": [
    "# Import data"
   ]
  },
  {
   "cell_type": "code",
   "execution_count": null,
   "id": "183e30d8-217e-4269-bceb-c237a9e82727",
   "metadata": {},
   "outputs": [],
   "source": [
    "sample_name = '372841_2-1889_7d'"
   ]
  },
  {
   "cell_type": "code",
   "execution_count": null,
   "id": "ad4ec03c-252a-479b-b316-cfd823432354",
   "metadata": {},
   "outputs": [],
   "source": [
    "path_to_data = pathlib.Path('..') / 'data' / 'raw'\n",
    "path_to_intermediate_data = pathlib.Path('..') / 'data' / 'intermediate'\n",
    "path_to_intermediate_data.mkdir(parents = True, exist_ok=True)\n",
    "path_to_results = pathlib.Path('..') / 'results' / sample_name\n",
    "path_to_results.mkdir(parents = True, exist_ok=True)"
   ]
  },
  {
   "cell_type": "code",
   "execution_count": null,
   "id": "5e763321-d90f-4d72-9e57-1e5d0e0c431d",
   "metadata": {},
   "outputs": [],
   "source": [
    "sc.settings.verbosity = 3             # verbosity: errors (0), warnings (1), info (2), hints (3)\n",
    "sc.logging.print_header()\n",
    "sc.settings.set_figure_params(dpi=100, facecolor='white', figsize = (4,4), dpi_save=300, frameon = False, vector_friendly = False)\n",
    "sc.settings.figdir = path_to_results\n",
    "spatial_dot_size = 2.4\n",
    "spot_size = 100\n",
    "spatial_transparency = 1"
   ]
  },
  {
   "cell_type": "code",
   "execution_count": null,
   "id": "d6e3f11e-40fd-4017-b535-5f46f1ee20e0",
   "metadata": {},
   "outputs": [],
   "source": [
    "adata = sc.read(path_to_intermediate_data / 'count_area_filtered_adata.h5ad')"
   ]
  },
  {
   "cell_type": "code",
   "execution_count": null,
   "id": "7eec10bf-653f-4b38-aab2-3cdef2e844d0",
   "metadata": {},
   "outputs": [],
   "source": [
    "img_filename = '1730.tif'\n",
    "img = imread(path_to_data / img_filename)\n",
    "# Percentile normalization of the image\n",
    "# Adjust min_percentile and max_percentile as needed\n",
    "min_percentile = 1\n",
    "max_percentile = 99#95 too low\n",
    "img = normalize(img, min_percentile, max_percentile)"
   ]
  },
  {
   "cell_type": "code",
   "execution_count": null,
   "id": "dc75561b-19ae-4382-92df-32e389810ffc",
   "metadata": {},
   "outputs": [],
   "source": [
    "path_to_intermediate_data"
   ]
  },
  {
   "cell_type": "code",
   "execution_count": null,
   "id": "376cda34-1809-4546-ab50-db3d88f8459f",
   "metadata": {},
   "outputs": [],
   "source": [
    "gdf = gpd.read_parquet(path_to_intermediate_data / 'geodataframe.parquet')"
   ]
  },
  {
   "cell_type": "code",
   "execution_count": null,
   "id": "3dca6e72-1527-449e-ac3a-da101a9803c2",
   "metadata": {},
   "outputs": [],
   "source": [
    "MAC_GENES = ['Csf1r', 'Adgre1', 'Itgam', 'Lyz2'] # 'Cd68', '"
   ]
  },
  {
   "cell_type": "code",
   "execution_count": null,
   "id": "049c04df-99b6-4178-b83e-983b751efe0c",
   "metadata": {},
   "outputs": [],
   "source": [
    "adata.var_names_make_unique()"
   ]
  },
  {
   "cell_type": "code",
   "execution_count": null,
   "id": "5b3a1e7b-e785-462e-9dee-187890b54496",
   "metadata": {},
   "outputs": [],
   "source": [
    "sc.tl.score_genes(adata, gene_list = MAC_GENES, score_name='mac_score')"
   ]
  },
  {
   "cell_type": "code",
   "execution_count": null,
   "id": "2c2dadbe-4cb3-4112-9d04-5bbb121cc225",
   "metadata": {},
   "outputs": [],
   "source": [
    "vmax = adata.obs.mac_score.quantile(0.9)"
   ]
  },
  {
   "cell_type": "code",
   "execution_count": null,
   "id": "f3d4cfa6-e7a0-4d0b-9594-d6e0ffd41c7c",
   "metadata": {},
   "outputs": [],
   "source": [
    "nsp.plot_obs_key_and_save_image(title = 'Mac score' , gdf= gdf, img = None, adata= adata, obs_key='mac_score', output_name=path_to_results / \"mac_score.tiff\", vmin = 0, vmax = vmax)"
   ]
  },
  {
   "cell_type": "code",
   "execution_count": null,
   "id": "1860d5fe-fbfe-4aea-9f22-ffaf90df9bb3",
   "metadata": {},
   "outputs": [],
   "source": [
    "adata.obs.mac_score.describe()"
   ]
  },
  {
   "cell_type": "code",
   "execution_count": null,
   "id": "004043f8-fd57-4e5d-9477-af9719a535df",
   "metadata": {},
   "outputs": [],
   "source": [
    "sum(adata.obs.mac_score > 0)"
   ]
  },
  {
   "cell_type": "code",
   "execution_count": null,
   "id": "0d2fbb73-9b41-4f06-9073-02911061df9e",
   "metadata": {},
   "outputs": [],
   "source": [
    "(adata[:, 'Lyz2'].X > 0).sum()"
   ]
  },
  {
   "cell_type": "code",
   "execution_count": null,
   "id": "523f98a1-cdd7-4753-a015-2f24ed970f67",
   "metadata": {},
   "outputs": [],
   "source": [
    "adata.n_obs"
   ]
  },
  {
   "cell_type": "code",
   "execution_count": null,
   "id": "1ac7c2b9-258f-4ae5-990f-0a9c55163763",
   "metadata": {},
   "outputs": [],
   "source": [
    "sum(adata.obs.mac_score > 0) / adata.n_obs"
   ]
  },
  {
   "cell_type": "code",
   "execution_count": null,
   "id": "f85c7ff3-ea7e-4383-a179-5d81da05ec7d",
   "metadata": {},
   "outputs": [],
   "source": [
    "sc.pl.violin(adata, keys=['mac_score', 'Lyz2'])"
   ]
  },
  {
   "cell_type": "code",
   "execution_count": null,
   "id": "27f50f35-a2d8-4c4d-8392-a5991aa2cd59",
   "metadata": {},
   "outputs": [],
   "source": [
    "ad_mac = adata[adata.obs.mac_score > 0]"
   ]
  },
  {
   "cell_type": "code",
   "execution_count": null,
   "id": "8adb2c06-e25f-47c7-8bef-5487759b4690",
   "metadata": {},
   "outputs": [],
   "source": [
    "ad_mac.uns['log1p']['base'] = None"
   ]
  },
  {
   "cell_type": "code",
   "execution_count": null,
   "id": "23dde06a-192d-44a6-826c-3e5b034cc25d",
   "metadata": {},
   "outputs": [],
   "source": [
    "ad_mac.shape[0] / adata.shape[0]"
   ]
  },
  {
   "cell_type": "code",
   "execution_count": null,
   "id": "e9759805-4b36-4f3f-8c6d-a9def79a1e49",
   "metadata": {},
   "outputs": [],
   "source": [
    "# Identify highly variable genes in the dataset using the Seurat method\n",
    "sc.pp.highly_variable_genes(ad_mac, flavor=\"seurat\", n_top_genes=2000)\n",
    "sc.pp.pca(ad_mac)\n",
    "sc.pp.neighbors(ad_mac)"
   ]
  },
  {
   "cell_type": "markdown",
   "id": "8c3613b6-1481-4529-841e-b1071a7603e3",
   "metadata": {},
   "source": [
    "# Convert polygons to dots for easier plotting"
   ]
  },
  {
   "cell_type": "code",
   "execution_count": null,
   "id": "cf0dfbb1-d6ab-468b-bb05-abfc9442461c",
   "metadata": {},
   "outputs": [],
   "source": [
    "gdf['centroid'] = gdf.geometry.centroid"
   ]
  },
  {
   "cell_type": "code",
   "execution_count": null,
   "id": "55c5fcc6-e15f-41f3-98a5-5fc4d57744c8",
   "metadata": {},
   "outputs": [],
   "source": [
    "gdf['x'] = gdf.centroid.x\n",
    "gdf['y'] = gdf.centroid.y"
   ]
  },
  {
   "cell_type": "code",
   "execution_count": null,
   "id": "5af02fbe-fcee-43ba-b607-c3cae8a63513",
   "metadata": {},
   "outputs": [],
   "source": [
    "import seaborn as sns"
   ]
  },
  {
   "cell_type": "code",
   "execution_count": null,
   "id": "9893f33e-18ed-4b9c-b698-8dda5cd9dd18",
   "metadata": {},
   "outputs": [],
   "source": [
    "ad_mac.obs_names"
   ]
  },
  {
   "cell_type": "code",
   "execution_count": null,
   "id": "e343057a-b0c4-462d-b8dd-29e2567a4415",
   "metadata": {},
   "outputs": [],
   "source": [
    "coords = gdf[['id', 'x', 'y']]"
   ]
  },
  {
   "cell_type": "code",
   "execution_count": null,
   "id": "05a72a05-30d5-4d29-adba-3d5cdad9138a",
   "metadata": {},
   "outputs": [],
   "source": [
    "coords.set_index(keys = 'id', drop=True, inplace=True)"
   ]
  },
  {
   "cell_type": "code",
   "execution_count": null,
   "id": "34997bf5-9f7b-4bb6-bbee-72a6a61997aa",
   "metadata": {},
   "outputs": [],
   "source": [
    "coords = coords.loc[ad_mac.obs_names, :]"
   ]
  },
  {
   "cell_type": "code",
   "execution_count": null,
   "id": "03c9363c-da18-4ac2-bced-fa6ec54b8397",
   "metadata": {},
   "outputs": [],
   "source": [
    "ad_mac.obsm['X_spatial'] = coords.to_numpy()"
   ]
  },
  {
   "cell_type": "code",
   "execution_count": null,
   "id": "afd9da63-6802-4ba7-9410-dd48dba1c4b8",
   "metadata": {},
   "outputs": [],
   "source": [
    "for gene in ['Spp1', 'Cxcl10', 'H2-Ab1']:\n",
    "    sc.pl.spatial(ad_mac, color = gene, spot_size=spot_size, size = spatial_dot_size, vmax = 'p99', img = None, cmap = 'Purples')"
   ]
  },
  {
   "cell_type": "markdown",
   "id": "f17d4caf-549e-4886-91e6-e80f1a5b3d98",
   "metadata": {},
   "source": [
    "# Co-expression plots (Spp1, Cxcl9, Cd74)"
   ]
  },
  {
   "cell_type": "code",
   "execution_count": null,
   "id": "a5051cbf-f410-46f6-a0f5-fc3fcc28c43f",
   "metadata": {},
   "outputs": [],
   "source": [
    "df = sc.get.obs_df(ad_mac, keys=['Spp1', 'Cxcl10'])"
   ]
  },
  {
   "cell_type": "code",
   "execution_count": null,
   "id": "41979bff-dd4c-4cbb-b826-89d83c77c895",
   "metadata": {},
   "outputs": [],
   "source": [
    "#define conditions\n",
    "conditions = [\n",
    "    (df['Cxcl10'] > 0) & (df['Spp1'] > 0),\n",
    "    (df['Cxcl10'] > 0) & (df['Spp1'] == 0),\n",
    "    (df['Cxcl10'] == 0)& (df['Spp1'] > 0),\n",
    "    (df['Cxcl10'] == 0)& (df['Spp1'] == 0),\n",
    "]\n",
    "\n",
    "#define results\n",
    "results = ['Cxcl10 & Spp1', 'Cxcl10', 'Spp1', 'none']\n",
    "\n",
    "#create new column based on conditions in column1 and column2\n",
    "ad_mac.obs['Cxcl10_Spp1'] = np.select(conditions, results)"
   ]
  },
  {
   "cell_type": "code",
   "execution_count": null,
   "id": "bf647134-1d73-4c6f-8fe1-d3a0a760a18f",
   "metadata": {},
   "outputs": [],
   "source": [
    "Cxcl10_Spp1_colors= {'Cxcl10':'cyan', 'Spp1':'magenta', 'Cxcl10 & Spp1': 'Purple', 'none': 'white'}"
   ]
  },
  {
   "cell_type": "markdown",
   "id": "35d2b4c9-aa0f-4b9f-8b51-c547eab1b4ed",
   "metadata": {},
   "source": [
    "# Fig 2G"
   ]
  },
  {
   "cell_type": "code",
   "execution_count": null,
   "id": "738b3e53-9e64-4a33-8b9c-90e7524b78ab",
   "metadata": {},
   "outputs": [],
   "source": [
    "sc.pl.spatial(ad_mac[ad_mac.obs['Cxcl10_Spp1'] == 'Cxcl10'], color = 'Cxcl10_Spp1', img_key=None, spot_size=spot_size, size = spatial_dot_size + 1, alpha = 0.4, palette=Cxcl10_Spp1_colors, save = '_Cxcl10_Spp1_coexpression.png')"
   ]
  },
  {
   "cell_type": "code",
   "execution_count": null,
   "id": "9fb2f656-d8f4-4286-8e2e-50b3d7f6a3a4",
   "metadata": {},
   "outputs": [],
   "source": [
    "sc.pl.spatial(ad_mac[ad_mac.obs['Cxcl10_Spp1'] == 'Cxcl10 & Spp1'], color = 'Cxcl10_Spp1', img_key=None, spot_size=spot_size, size = spatial_dot_size + 1, alpha = 0.4, palette=Cxcl10_Spp1_colors, save = '_Cxcl10_Spp1_coexpression.png')"
   ]
  },
  {
   "cell_type": "code",
   "execution_count": null,
   "id": "1f3fb0e4-4545-481b-9180-724ca99067af",
   "metadata": {},
   "outputs": [],
   "source": [
    "sc.pl.spatial(ad_mac[ad_mac.obs['Cxcl10_Spp1'] == 'Spp1'], color = 'Cxcl10_Spp1', img_key=None, spot_size=spot_size, size = spatial_dot_size + 1, alpha = 0.4, palette=Cxcl10_Spp1_colors, save = '_Cxcl10_Spp1_coexpression.png')"
   ]
  },
  {
   "cell_type": "code",
   "execution_count": null,
   "id": "beff0012-514f-4f18-83af-4c8e43e0c950",
   "metadata": {},
   "outputs": [],
   "source": [
    "sc.pl.spatial(ad_mac, color = 'Cxcl10_Spp1', img_key=None, spot_size=spot_size, size = spatial_dot_size + 1, alpha = 0.4, palette=Cxcl10_Spp1_colors, save = '_Cxcl10_Spp1_coexpression.png')"
   ]
  },
  {
   "cell_type": "code",
   "execution_count": null,
   "id": "3eadf4b3-3bc4-42f2-a33e-dc0ae8ffe38b",
   "metadata": {},
   "outputs": [],
   "source": [
    "obs_keys_to_extract = ['leiden_0.5', 'Cxcl10_Spp1']\n",
    "genes_to_extract = ['Cxcl10', 'Spp1']\n",
    "coords_to_extract = [('X_spatial', 0),('X_spatial', 1), ('X_umap', 0), ('X_umap', 1)]"
   ]
  },
  {
   "cell_type": "code",
   "execution_count": null,
   "id": "a476568d-21ca-4806-be0b-e0c1ac0c84c5",
   "metadata": {},
   "outputs": [],
   "source": [
    "df_export_for_plotting = sc.get.obs_df(ad_mac, keys=obs_keys_to_extract+genes_to_extract, obsm_keys=coords_to_extract)"
   ]
  },
  {
   "cell_type": "code",
   "execution_count": null,
   "id": "7fd712a4-612e-4709-9728-b4416a5f047e",
   "metadata": {},
   "outputs": [],
   "source": [
    "df_export_for_plotting"
   ]
  },
  {
   "cell_type": "code",
   "execution_count": null,
   "id": "2eda4cbd-d785-4205-bc88-08f057e03067",
   "metadata": {},
   "outputs": [],
   "source": [
    "df_export_for_plotting.to_csv(path_to_results / 'data_export_single_nuclei_{}.csv'.format(sample_name))"
   ]
  },
  {
   "cell_type": "code",
   "execution_count": null,
   "id": "c4b19d2d-a3ea-42e7-9b0e-4c2752a21f27",
   "metadata": {},
   "outputs": [],
   "source": []
  }
 ],
 "metadata": {
  "language_info": {
   "name": "python",
   "pygments_lexer": "ipython3"
  }
 },
 "nbformat": 4,
 "nbformat_minor": 5
}
