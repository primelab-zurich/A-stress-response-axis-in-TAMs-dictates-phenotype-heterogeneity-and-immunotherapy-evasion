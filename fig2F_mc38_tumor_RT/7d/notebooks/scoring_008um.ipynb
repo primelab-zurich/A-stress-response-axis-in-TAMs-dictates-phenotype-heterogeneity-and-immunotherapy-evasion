{
 "cells": [
  {
   "cell_type": "code",
   "execution_count": null,
   "id": "fa84aa9b-70b1-4e7b-a00a-c748f85adfb4",
   "metadata": {},
   "outputs": [],
   "source": [
    "import numpy as np\n",
    "import pandas as pd\n",
    "import scanpy as sc\n",
    "import matplotlib as mpl\n",
    "import anndata as anndata\n",
    "import pathlib\n",
    "import sys\n",
    "import seaborn as sns"
   ]
  },
  {
   "cell_type": "code",
   "execution_count": null,
   "id": "dc30fa02-e199-4c02-919c-7b3640afa709",
   "metadata": {},
   "outputs": [],
   "source": [
    "import sys\n",
    "sys.path.insert(0, \"../../../shared/src\")\n",
    "import visium_hd_helpers\n",
    "import decoupler_helpers"
   ]
  },
  {
   "cell_type": "code",
   "execution_count": null,
   "id": "e0124d12-7f6b-462f-8b63-2e99946ef0a8",
   "metadata": {},
   "outputs": [],
   "source": [
    "path_to_data = pathlib.Path('../data') / 'raw'\n",
    "path_to_results = pathlib.Path('../results') /'scoring'\n",
    "path_to_results.mkdir(parents=True, exist_ok=True)\n",
    "sc.settings.verbosity = 3             # verbosity: errors (0), warnings (1), info (2), hints (3)\n",
    "sc.logging.print_header()\n",
    "sc.settings.set_figure_params(dpi=100, facecolor='white', figsize = (4,4), dpi_save=300, frameon = False, vector_friendly = False)\n",
    "sc.settings.figdir = path_to_results\n",
    "spatial_dot_size = 5\n",
    "spatial_transparency = 0.5"
   ]
  },
  {
   "cell_type": "code",
   "execution_count": null,
   "id": "77c1de14-9c80-4b57-a037-b8fdd40e0c76",
   "metadata": {},
   "outputs": [],
   "source": [
    "ad = visium_hd_helpers.read_visium_hd(path_to_data / 'square_008um')"
   ]
  },
  {
   "cell_type": "code",
   "execution_count": null,
   "id": "eb444f9d-ef37-4fdd-8e45-db6dc77141b3",
   "metadata": {},
   "outputs": [],
   "source": [
    "sc.pp.normalize_total(ad)\n",
    "sc.pp.log1p(ad)"
   ]
  },
  {
   "cell_type": "markdown",
   "id": "b6673cd2-d799-4969-b62d-e6ca9a7cdcbd",
   "metadata": {},
   "source": [
    "# Fig 2F"
   ]
  },
  {
   "cell_type": "code",
   "execution_count": null,
   "id": "1074b093-d4ce-4414-a498-858efd982212",
   "metadata": {},
   "outputs": [],
   "source": [
    "sc.pl.spatial(ad, color = None, alpha = 0)"
   ]
  },
  {
   "cell_type": "markdown",
   "id": "cc726e96-926f-4ce5-87c6-5e2092f0f30e",
   "metadata": {},
   "source": [
    "# Fig 2G"
   ]
  },
  {
   "cell_type": "code",
   "execution_count": null,
   "id": "a2a74f2f-dbe0-4c6a-8193-e946c26cfab5",
   "metadata": {},
   "outputs": [],
   "source": [
    "sc.pl.spatial(ad, color = 'Lyz2', vmin = 0, vmax = 'p99', img_key=None, size = spatial_dot_size, alpha = spatial_transparency, color_map='Purples',save = '_Lyz2.png')"
   ]
  },
  {
   "cell_type": "code",
   "execution_count": null,
   "id": "9a5f5d8c-14a4-45eb-b55d-77082d60f666",
   "metadata": {},
   "outputs": [],
   "source": [
    "df = sc.get.obs_df(ad, keys=['Lyz2', 'Spp1', 'Cxcl10'])"
   ]
  },
  {
   "cell_type": "code",
   "execution_count": null,
   "id": "76aab377-544f-4ea7-a725-5fb3ec1bb60f",
   "metadata": {},
   "outputs": [],
   "source": [
    "#define conditions\n",
    "conditions = [\n",
    "    (df['Cxcl10'] > 0) & (df['Spp1'] > 0),\n",
    "    (df['Cxcl10'] > 0) & (df['Spp1'] == 0),\n",
    "    (df['Cxcl10'] == 0)& (df['Spp1'] > 0),\n",
    "    (df['Cxcl10'] == 0)& (df['Spp1'] == 0),\n",
    "]\n",
    "\n",
    "#define results\n",
    "results = ['Cxcl10 & Spp1', 'Cxcl10', 'Spp1', 'none']\n",
    "\n",
    "#create new column based on conditions in column1 and column2\n",
    "df['Cxcl10_Spp1'] = np.select(conditions, results).astype('str')"
   ]
  },
  {
   "cell_type": "code",
   "execution_count": null,
   "id": "0bdd6488-7ae5-4823-a485-4db798e1cc26",
   "metadata": {},
   "outputs": [],
   "source": [
    "df.dtypes"
   ]
  },
  {
   "cell_type": "markdown",
   "id": "0d6fc6bd-35cc-4a94-9c36-d50994344450",
   "metadata": {},
   "source": [
    "# Fig 2G"
   ]
  },
  {
   "cell_type": "code",
   "execution_count": null,
   "id": "bec2668e-d722-42a1-93e6-ccbbe11f5823",
   "metadata": {},
   "outputs": [],
   "source": [
    "sns.countplot(df['Lyz2'] > 0, x = df['Cxcl10_Spp1'])"
   ]
  },
  {
   "cell_type": "code",
   "execution_count": null,
   "id": "354648e7-0d7b-4966-bd39-9a66b058ea5c",
   "metadata": {},
   "outputs": [],
   "source": []
  },
  {
   "cell_type": "code",
   "execution_count": null,
   "id": "98a8f324-10ed-44e3-a5f2-44e7634a3d1f",
   "metadata": {},
   "outputs": [],
   "source": []
  }
 ],
 "metadata": {
  "language_info": {
   "name": "python",
   "pygments_lexer": "ipython3"
  }
 },
 "nbformat": 4,
 "nbformat_minor": 5
}
