{
 "cells": [
  {
   "cell_type": "markdown",
   "id": "37c3b755-d4bf-4dee-9986-89be3a6adfe8",
   "metadata": {},
   "source": [
    "# Keap tumors WT vs KO\n",
    "Python analysis using scanpy 1.9.3\n",
    "Docker image: TODO add link dockerhub"
   ]
  },
  {
   "cell_type": "code",
   "execution_count": null,
   "id": "2dfee9d4-668c-46d6-9416-4fbffd889f1d",
   "metadata": {},
   "outputs": [],
   "source": [
    "import numpy as np\n",
    "import pandas as pd\n",
    "import scanpy as sc\n",
    "import seaborn as sns\n",
    "import matplotlib.pyplot as plt\n",
    "import scipy\n",
    "import pathlib\n",
    "import anndata as anndata\n",
    "import matplotlib as mpl\n",
    "import decoupler as dc"
   ]
  },
  {
   "cell_type": "code",
   "execution_count": null,
   "id": "709b81f4-08e4-491e-808a-d2370471fd77",
   "metadata": {},
   "outputs": [],
   "source": [
    "new_rc_params = {'text.usetex': False,\n",
    "\"svg.fonttype\": 'none'\n",
    "}\n",
    "mpl.rcParams.update(new_rc_params)"
   ]
  },
  {
   "cell_type": "code",
   "execution_count": null,
   "id": "746f09aa-2398-4123-b5c3-3a135b37d89e",
   "metadata": {},
   "outputs": [],
   "source": [
    "import sys\n",
    "sys.path.insert(0, \"../../shared/src\")\n",
    "import decoupler_helpers"
   ]
  },
  {
   "cell_type": "code",
   "execution_count": null,
   "id": "b1c60147-130e-48dc-8ad3-e959757b6b20",
   "metadata": {},
   "outputs": [],
   "source": [
    "sc.settings.verbosity = 3             # verbosity: errors (0), warnings (1), info (2), hints (3)\n",
    "sc.logging.print_header()\n",
    "sc.settings.set_figure_params(dpi=150, facecolor='white', dpi_save=300, frameon = False)\n",
    "results_path = '../results/'\n",
    "sc.settings.figdir = results_path\n",
    "save_figure = True\n",
    "aspect_ratio = 1\n",
    "umap_point_size = 15\n",
    "umap_transparency = 0.3\n",
    "umap_continuous_point_size = 30\n",
    "umap_continuous_transparency = 0.7"
   ]
  },
  {
   "cell_type": "code",
   "execution_count": null,
   "id": "9e0f230b-e174-41c7-97bc-2c6c0d0fca0e",
   "metadata": {},
   "outputs": [],
   "source": [
    "data_path = pathlib.Path('../data/raw')\n",
    "path_to_results = pathlib.Path('../results')\n",
    "path_to_results.mkdir(parents=True, exist_ok=True)"
   ]
  },
  {
   "cell_type": "markdown",
   "id": "8f5f0589-0eae-4fdc-80a2-fdc8667987d8",
   "metadata": {},
   "source": [
    "# Data import"
   ]
  },
  {
   "cell_type": "code",
   "execution_count": null,
   "id": "fe788be1-3bda-496f-a4db-b00fe4e8e2b1",
   "metadata": {},
   "outputs": [],
   "source": [
    "#samples = ['KeapKO_tumor_1', 'KeapKO_tumor_2', 'KeapWT_tumor_1', 'KeapWT_tumor_2']\n",
    "samples = ['KeapWT_tumor_2', 'KeapWT_tumor_1', 'KeapKO_tumor_2', 'KeapKO_tumor_1']"
   ]
  },
  {
   "cell_type": "code",
   "execution_count": null,
   "id": "b7264638-68d6-4227-a685-3f623b8e3584",
   "metadata": {},
   "outputs": [],
   "source": [
    "adatas = []\n",
    "for sam in samples:\n",
    "    adata = sc.read_10x_h5(data_path / '{}_sample_filtered_feature_bc_matrix.h5'.format(sam)) # TODO: add backup URL (GEO link)\n",
    "    adata.obs['sample'] = sam\n",
    "    genotype = sam.split('_')[0]\n",
    "    adata.obs['genotype'] = genotype\n",
    "    print(adata.shape)\n",
    "    adata.var_names_make_unique()\n",
    "    adatas.append(adata)\n"
   ]
  },
  {
   "cell_type": "markdown",
   "id": "2a74ebe1-2201-4d6f-b29d-34fbce72c5e4",
   "metadata": {},
   "source": [
    "# QC"
   ]
  },
  {
   "cell_type": "code",
   "execution_count": null,
   "id": "36b570b7-5dfb-4b22-86f0-0165b6ea6df1",
   "metadata": {},
   "outputs": [],
   "source": [
    " for adata in adatas:\n",
    "    adata.var['mt'] = adata.var_names.str.startswith('mt-')\n",
    "    sc.pp.calculate_qc_metrics(adata, qc_vars=['mt'], percent_top=None, log1p=False, inplace=True)\n",
    "    adata.var['Rp'] = adata.var_names.str.startswith('Rp') \n",
    "    sc.pp.calculate_qc_metrics(adata, qc_vars=['Rp'], percent_top=None, log1p=False, inplace=True)"
   ]
  },
  {
   "cell_type": "code",
   "execution_count": null,
   "id": "62735ede-741b-4588-ba78-68e6036d95ee",
   "metadata": {},
   "outputs": [],
   "source": [
    " for adata, name in zip(adatas, samples):\n",
    "    print(name)\n",
    "    sc.pl.violin(adata, ['n_genes_by_counts', 'total_counts', 'pct_counts_mt', 'pct_counts_Rp'],\n",
    "             jitter=0.4, multi_panel=True, save = f\"{name}.png\" if save_figure else None)"
   ]
  },
  {
   "cell_type": "code",
   "execution_count": null,
   "id": "c52d0eae-3a76-48c4-9dbe-0d7338e67c9f",
   "metadata": {},
   "outputs": [],
   "source": [
    "for adata in adatas:\n",
    "    sc.pl.scatter(adata, x='total_counts', y='pct_counts_mt', color= 'n_genes_by_counts')\n",
    "    sc.pl.scatter(adata, x='total_counts', y='n_genes_by_counts', color = \"pct_counts_mt\")\n",
    "    sc.pl.scatter(adata, x='pct_counts_mt', y='pct_counts_Rp', color = 'n_genes_by_counts')"
   ]
  },
  {
   "cell_type": "code",
   "execution_count": null,
   "id": "51d459f3-077d-4d46-8e4f-ae7ff490411e",
   "metadata": {},
   "outputs": [],
   "source": [
    "min_numof_genes = 200\n",
    "max_numof_genes = 8000#7000\n",
    "for adata, name in zip(adatas, samples):\n",
    "    fig, axs = plt.subplots(1, 4, figsize=(12, 3))\n",
    "    fig.suptitle(f\"Covariates for filtering: {name}\")\n",
    "\n",
    "    sns.histplot(adata.obs[\"total_counts\"], kde=False, ax=axs[0])\n",
    "    sns.histplot(\n",
    "        adata.obs[\"total_counts\"][adata.obs[\"total_counts\"] < 40000],\n",
    "        kde=False,\n",
    "        bins=40,\n",
    "        ax=axs[1],\n",
    "    )\n",
    "    plot = sns.histplot(adata.obs[\"n_genes_by_counts\"], kde=False, bins=60, ax=axs[2])\n",
    "    plot.axvline(x = min_numof_genes, color = 'red')\n",
    "    plot.axvline(x = max_numof_genes, color = 'red')\n",
    "    sns.histplot(\n",
    "        adata.obs[\"n_genes_by_counts\"][adata.obs[\"n_genes_by_counts\"] < min_numof_genes + 1000],\n",
    "        kde=False,\n",
    "        bins=60,\n",
    "        ax=axs[3],\n",
    "    )\n",
    "    plt.axvline(x = min_numof_genes, color = 'red')"
   ]
  },
  {
   "cell_type": "markdown",
   "id": "a3c0b438-1f2b-4e14-94cd-b7114337fd3f",
   "metadata": {},
   "source": [
    "# Filtering"
   ]
  },
  {
   "cell_type": "code",
   "execution_count": null,
   "id": "5cca172d-8d27-4d18-9336-53f46bfdaa54",
   "metadata": {},
   "outputs": [],
   "source": [
    "max_pct_mt = 5\n",
    "for idx, adata in enumerate(adatas):\n",
    "    adatas[idx] = adata[adata.obs['pct_counts_mt'] < max_pct_mt , :]\n",
    "    #helpers.assert_all_finite(adata.X)"
   ]
  },
  {
   "cell_type": "code",
   "execution_count": null,
   "id": "e46f2b86-f620-482f-b1d4-b7b178dcb9c6",
   "metadata": {},
   "outputs": [],
   "source": [
    " for adata in adatas:\n",
    "    sc.pp.filter_cells(adata, min_genes = min_numof_genes)\n",
    "    sc.pp.filter_cells(adata, max_genes = max_numof_genes)\n",
    "    sc.pp.filter_genes(adata, min_cells = 1)\n",
    "    print(adata.shape)"
   ]
  },
  {
   "cell_type": "markdown",
   "id": "0efe1334-28f6-4929-b52e-fe39a67b88c7",
   "metadata": {},
   "source": [
    "# QC after filtering"
   ]
  },
  {
   "cell_type": "code",
   "execution_count": null,
   "id": "5756cfab-5bdc-4dce-b643-13c06d3d110f",
   "metadata": {},
   "outputs": [],
   "source": [
    "for adata, name in zip(adatas, samples):\n",
    "    sc.pl.violin(adata, ['n_genes_by_counts', 'total_counts', 'pct_counts_mt', 'pct_counts_Rp'],\n",
    "             jitter=0.4, multi_panel=True, save = f\"{name}_filtered.png\" if save_figure else None)"
   ]
  },
  {
   "cell_type": "code",
   "execution_count": null,
   "id": "5e9ed64b-2380-4885-a3cb-1945662fdd7c",
   "metadata": {},
   "outputs": [],
   "source": [
    "for idx, adata in enumerate(adatas):\n",
    "    adatas[idx].layers['counts'] = adata.X"
   ]
  },
  {
   "cell_type": "code",
   "execution_count": null,
   "id": "bd46d860-c081-4797-8eb5-84f5bf9dccd3",
   "metadata": {},
   "outputs": [],
   "source": [
    "samples"
   ]
  },
  {
   "cell_type": "markdown",
   "id": "eef8cc99-10bf-4b00-a9bf-601554d84822",
   "metadata": {},
   "source": [
    "# Concatenate samples"
   ]
  },
  {
   "cell_type": "code",
   "execution_count": null,
   "id": "46675878-c88d-49fb-b284-94b569e25ca0",
   "metadata": {},
   "outputs": [],
   "source": [
    "adata = anndata.concat(adatas, join = \"outer\", fill_value=0)\n",
    "adata.obs_names_make_unique()"
   ]
  },
  {
   "cell_type": "markdown",
   "id": "5f3ea472-3fa7-448e-9188-0499a9d2cae0",
   "metadata": {},
   "source": [
    "# Normalization, transformation and PCA"
   ]
  },
  {
   "cell_type": "markdown",
   "id": "292f6603-f816-4682-a631-40884206cabe",
   "metadata": {},
   "source": [
    "sc.pp.normalize_total(adata)\n",
    "sc.pp.log1p(adata)"
   ]
  },
  {
   "cell_type": "markdown",
   "id": "7183edef-7526-475d-b1f8-0a633ff5a8b4",
   "metadata": {},
   "source": [
    "scaled_counts = sc.pp.normalize_total(adata, target_sum=None, inplace=False)\n",
    "adata.layers[\"concat_log1p_norm\"] = sc.pp.log1p(scaled_counts[\"X\"], copy=True)"
   ]
  },
  {
   "cell_type": "code",
   "execution_count": null,
   "id": "95923a9e-ed22-45b6-b8f9-70693493fa17",
   "metadata": {},
   "outputs": [],
   "source": [
    "sc.pp.normalize_total(adata, target_sum = None)\n",
    "sc.pp.log1p(adata)"
   ]
  },
  {
   "cell_type": "code",
   "execution_count": null,
   "id": "34abcb87-0d2b-427f-8178-b6c087a4f610",
   "metadata": {},
   "outputs": [],
   "source": [
    "sc.pp.highly_variable_genes(adata)"
   ]
  },
  {
   "cell_type": "markdown",
   "id": "070d75ce-d765-453d-85dd-44da366b9643",
   "metadata": {},
   "source": [
    "adata.X = adata.layers['concat_log1p_norm']\n",
    "sc.pp.pca(adata, n_comps = 20, use_highly_variable=True)"
   ]
  },
  {
   "cell_type": "code",
   "execution_count": null,
   "id": "70521b3a-9a60-4bca-89f1-d79561cc9596",
   "metadata": {},
   "outputs": [],
   "source": [
    "sc.pp.pca(adata, n_comps = 20, use_highly_variable=True)"
   ]
  },
  {
   "cell_type": "code",
   "execution_count": null,
   "id": "de71314d-f20d-4531-af3f-29d3e64ec47a",
   "metadata": {},
   "outputs": [],
   "source": [
    "sc.pp.neighbors(adata)"
   ]
  },
  {
   "cell_type": "code",
   "execution_count": null,
   "id": "f11fa0ab-979d-4c70-b4d3-c28f4d528bcc",
   "metadata": {},
   "outputs": [],
   "source": [
    "sc.tl.umap(adata)"
   ]
  },
  {
   "cell_type": "code",
   "execution_count": null,
   "id": "cfe5ed8f-a845-4451-b2c1-6f9910d9c6f1",
   "metadata": {},
   "outputs": [],
   "source": [
    "sc.tl.leiden(adata, resolution=0.8)"
   ]
  },
  {
   "cell_type": "code",
   "execution_count": null,
   "id": "1120dbe1-d7be-4ef3-8031-c320fc67c1e4",
   "metadata": {},
   "outputs": [],
   "source": [
    "for obs_key in ['sample', 'leiden', 'genotype']:\n",
    "    fig, (ax1) = plt.subplots(1,1)\n",
    "    ax1.set_aspect('equal')\n",
    "    sc.pl.umap(adata, color = obs_key, layer = 'concat_log1p_norm', size=umap_point_size, alpha = umap_transparency, ax = ax1, save = '_{}.png'.format(obs_key))"
   ]
  },
  {
   "cell_type": "code",
   "execution_count": null,
   "id": "0fc0d856-f2ef-49b5-b5ef-c9ef228e2a3b",
   "metadata": {},
   "outputs": [],
   "source": [
    "sc.tl.embedding_density(adata, groupby='sample')"
   ]
  },
  {
   "cell_type": "markdown",
   "id": "dc6c44d2-db2a-4560-8b07-4974527f4119",
   "metadata": {},
   "source": [
    "# Fig 1B"
   ]
  },
  {
   "cell_type": "code",
   "execution_count": null,
   "id": "10ce4dd7-7ee8-4dce-aaed-fa1b2eb4a6a8",
   "metadata": {},
   "outputs": [],
   "source": [
    "for sam in adata.obs['sample'].cat.categories:\n",
    "    fig = sc.pl.embedding_density(adata, groupby='sample', group = sam, color_map = 'Greys', return_fig=True)\n",
    "    fig.savefig(path_to_results / 'umap_density_sample_{}.png'.format(sam), transparent = True)"
   ]
  },
  {
   "cell_type": "markdown",
   "id": "1aa0e371-597d-4506-9d43-3a9b5d5b4bd2",
   "metadata": {},
   "source": [
    "# Cell type annotation"
   ]
  },
  {
   "cell_type": "code",
   "execution_count": null,
   "id": "1681fc0f-fa5f-4ab4-a452-598e3ade01fe",
   "metadata": {},
   "outputs": [],
   "source": [
    "cell_type_marker_genes = { #'Leukocytes' : ['Ptprc'],\n",
    "                 'Neutrophils': ['S100a8', 'S100a9', 'Csf3r'],\n",
    "                 'Macrophages': ['Cd68', 'Csf1r', 'Adgre1'],#, 'Fcgr2b'],\n",
    "                 'DC': ['Batf3', 'Zbtb46', 'Ccr7'],\n",
    "                 'T-cells': ['Cd8a', 'Cd4', 'Cd3d'],\n",
    "                 'NK-cells': ['Gzmb', 'Gzma', 'Klrk1'],\n",
    "                 'B-cells': ['Cd19', 'Ms4a1'],\n",
    "                 'Epithelial cells': ['Krt19'],\n",
    "                 'Endothelial cells': ['Epcam'],\n",
    "                 'Tumor cells': ['Twist1', 'Tead1'],\n",
    "                 'CAF': ['Col1a1', 'Cxcl5', 'Mmp2', 'Fap']\n",
    "                }"
   ]
  },
  {
   "cell_type": "code",
   "execution_count": null,
   "id": "4a341779-27bd-4aaa-8c51-08c90b0804d2",
   "metadata": {},
   "outputs": [],
   "source": [
    "for cell_type in cell_type_marker_genes.keys():\n",
    "    print(cell_type)\n",
    "    for gene in cell_type_marker_genes[cell_type]:\n",
    "        fig, (ax1) = plt.subplots(1,1)\n",
    "        ax1.set_aspect('equal')\n",
    "        sc.pl.umap(adata, color = gene, size=umap_continuous_point_size, alpha = umap_continuous_transparency, ax = ax1, save = '_{}.png'.format(gene) if save_figure else None)"
   ]
  },
  {
   "cell_type": "code",
   "execution_count": null,
   "id": "950ad217-cf6e-499e-b535-97d8bea76148",
   "metadata": {},
   "outputs": [],
   "source": [
    "sc.tl.rank_genes_groups(adata, 'leiden', method='wilcoxon')\n",
    "sc.pl.rank_genes_groups(adata, n_genes=25, sharey=False)"
   ]
  },
  {
   "cell_type": "code",
   "execution_count": null,
   "id": "a0bc02b0-7a7b-4f20-8569-9b087e098bd3",
   "metadata": {},
   "outputs": [],
   "source": [
    "sc.pl.umap(adata, color = 'leiden')"
   ]
  },
  {
   "cell_type": "code",
   "execution_count": null,
   "id": "50368736-8cac-4d31-af47-94334757074e",
   "metadata": {},
   "outputs": [],
   "source": [
    "# create a dictionary to map cluster to annotation label\n",
    "cluster2celltype = {\n",
    "     '0': 'Macrophages',\n",
    "     '1': 'Macrophages',\n",
    "     '2': 'Macrophages',\n",
    "     '3': 'Macrophages',\n",
    "     '4': 'Macrophages',\n",
    "     '5': 'Macrophages',\n",
    "     '6': 'Macrophages',\n",
    "     '7': 'Macrophages',\n",
    "     '8': 'Macrophages',\n",
    "     '9': 'DC',\n",
    "     '10': 'Tumor cells',\n",
    "     '11': 'CAF',\n",
    "     '12': 'Macrophages',\n",
    "    '13': 'Neutrophils',\n",
    "    '14': 'NK cells'\n",
    "}\n",
    "\n",
    "# add a new `.obs` column called `cell type` by mapping clusters to annotation using pandas `map` function\n",
    "adata.obs['cell_type'] = adata.obs['leiden'].map(cluster2celltype).astype('category')"
   ]
  },
  {
   "cell_type": "code",
   "execution_count": null,
   "id": "8ea1bde9-80cb-4fc0-9bb7-41f50f52aaf9",
   "metadata": {},
   "outputs": [],
   "source": [
    "fig, (ax1) = plt.subplots(1,1)\n",
    "ax1.set_aspect('equal')\n",
    "sc.pl.umap(adata, color = 'cell_type', size=umap_point_size, alpha = umap_transparency, ax = ax1, save = '_cell_type.png' if save_figure else None)"
   ]
  },
  {
   "cell_type": "code",
   "execution_count": null,
   "id": "73782f7f-3397-4c7a-acee-d219baf9e6f3",
   "metadata": {},
   "outputs": [],
   "source": [
    "cell_type_colors = adata.uns['cell_type_colors']"
   ]
  },
  {
   "cell_type": "code",
   "execution_count": null,
   "id": "a350b029-b502-4671-9988-6a13394da274",
   "metadata": {},
   "outputs": [],
   "source": [
    "cell_type_colors"
   ]
  },
  {
   "cell_type": "code",
   "execution_count": null,
   "id": "ae28348f-23e6-49a4-bcff-e2d1e5858524",
   "metadata": {},
   "outputs": [],
   "source": [
    "cell_type_colors[4], cell_type_colors[2] = cell_type_colors[2], cell_type_colors[4]"
   ]
  },
  {
   "cell_type": "code",
   "execution_count": null,
   "id": "3b5238ff-be31-49c0-b140-90497965de5e",
   "metadata": {},
   "outputs": [],
   "source": [
    "cell_type_colors"
   ]
  },
  {
   "cell_type": "code",
   "execution_count": null,
   "id": "19f88874-dd7e-4d1d-a494-4d6c93189662",
   "metadata": {},
   "outputs": [],
   "source": [
    "adata.uns['cell_type_colors'] = cell_type_colors"
   ]
  },
  {
   "cell_type": "code",
   "execution_count": null,
   "id": "99e4f476-ed80-4ca9-bf38-728eabd3298c",
   "metadata": {},
   "outputs": [],
   "source": [
    "adata.uns['cell_type_colors']"
   ]
  },
  {
   "cell_type": "markdown",
   "id": "84f57f55-50e0-4cde-a731-2c5373f40d35",
   "metadata": {},
   "source": [
    "# Fig 1B (middle)"
   ]
  },
  {
   "cell_type": "code",
   "execution_count": null,
   "id": "8cfffeff-7585-4a54-9590-fde6511c8f4c",
   "metadata": {},
   "outputs": [],
   "source": [
    "fig, (ax1) = plt.subplots(1,1)\n",
    "ax1.set_aspect('equal')\n",
    "sc.pl.umap(adata, color = 'cell_type', size=umap_point_size, alpha = umap_transparency, ax = ax1, save = '_cell_type.png' if save_figure else None)"
   ]
  },
  {
   "cell_type": "code",
   "execution_count": null,
   "id": "b9026071-2d0b-40fe-81ed-a2ba75a191b8",
   "metadata": {},
   "outputs": [],
   "source": [
    "adata_mac = adata[adata.obs.cell_type == 'Macrophages']"
   ]
  },
  {
   "cell_type": "markdown",
   "id": "4bd0c647-1212-4daf-bbf0-220482e67173",
   "metadata": {},
   "source": [
    "# Fig 4B (right)"
   ]
  },
  {
   "cell_type": "code",
   "execution_count": null,
   "id": "b1041034-d55b-4103-8c56-71a51eed7505",
   "metadata": {},
   "outputs": [],
   "source": [
    "fig, (ax1) = plt.subplots(1,1)\n",
    "ax1.set_aspect('equal')\n",
    "sc.pl.umap(adata_mac, color = 'genotype', size=umap_point_size, alpha= umap_transparency, ax = ax1, save = '_mac_genotype.png' if save_figure else None)"
   ]
  },
  {
   "cell_type": "markdown",
   "id": "5417cf3b-f031-47e9-96f3-e813dab4917b",
   "metadata": {},
   "source": [
    "# Cell function"
   ]
  },
  {
   "cell_type": "code",
   "execution_count": null,
   "id": "91d6b5d5-5727-4ed6-baf3-a8b8b297f63c",
   "metadata": {},
   "outputs": [],
   "source": [
    "marker_genes = ['Arg1', 'Spp1', 'Gsr', 'Gclm', 'Slc7a11', 'Mrc1', 'Ccl8', 'C1qa',\n",
    "'Stat1', 'H2-Ab1', 'H2-Eb1', 'Cd74', 'Chil3',\n",
    "               'Cd163', 'Marco', 'Cxcl9', 'Cxcl10', 'Cd5l', 'Retnla', 'Hmox1',\n",
    "               'Cd274', 'Cd86', 'Gclc']"
   ]
  },
  {
   "cell_type": "code",
   "execution_count": null,
   "id": "4f27611d-95fd-4fc5-9301-03bcbc2638b3",
   "metadata": {},
   "outputs": [],
   "source": [
    "for gene in marker_genes:\n",
    "    fig, (ax1) = plt.subplots(1,1)\n",
    "    ax1.set_aspect('equal')\n",
    "    sc.pl.umap(adata_mac, color = gene, size=umap_continuous_point_size, alpha= umap_continuous_transparency, ax = ax1, save = '_{}.png'.format(gene) if save_figure else None)\n",
    "    for genotype in adata.obs.genotype.cat.categories:\n",
    "        print(genotype)\n",
    "        fig, (ax1) = plt.subplots(1,1)\n",
    "        ax1.set_aspect('equal')\n",
    "        sc.pl.umap(adata_mac, ax = ax1, size = umap_continuous_point_size, show=False)\n",
    "        sc.pl.umap(adata_mac[adata_mac.obs.genotype.isin([genotype])], color = gene,\n",
    "              frameon = False,\n",
    "               ax = ax1,\n",
    "               size = umap_continuous_point_size,\n",
    "               alpha = umap_continuous_transparency,\n",
    "               vmin = adata_mac[:, gene].X.min(),\n",
    "               vmax = adata_mac[:, gene].X.max(),\n",
    "               legend_loc = 'right margin', save = '_{}_{}_score.png'.format(genotype, gene).replace(\" \",\"_\") if save_figure else None\n",
    "              )"
   ]
  },
  {
   "cell_type": "code",
   "execution_count": null,
   "id": "8b04a611-cd07-4879-81cd-c69717c4386f",
   "metadata": {},
   "outputs": [],
   "source": [
    "mac_function = decoupler_helpers.gmt_to_decoupler('../../shared/databases/macrophage_function.gmt')"
   ]
  },
  {
   "cell_type": "code",
   "execution_count": null,
   "id": "180e5efd-0ef9-4bcc-8d0d-9fb4909ed186",
   "metadata": {},
   "outputs": [],
   "source": [
    "important_terms = [\n",
    "             'Complement & Phagocytosis',\n",
    "             'Oxidative Stress',\n",
    "             'Cycling',\n",
    "             'Antigen Processing And Presentation']"
   ]
  },
  {
   "cell_type": "code",
   "execution_count": null,
   "id": "cfc22d66-8013-4d9b-a84c-361ab1e177eb",
   "metadata": {},
   "outputs": [],
   "source": [
    "mac_function = mac_function[mac_function.geneset.isin(important_terms)]"
   ]
  },
  {
   "cell_type": "code",
   "execution_count": null,
   "id": "30dd6c3a-631c-42ee-8ce3-5e730366cadd",
   "metadata": {},
   "outputs": [],
   "source": [
    "mac_function = decoupler_helpers.prepare_db_for_gsea(mac_function, min_geneset_size=1)"
   ]
  },
  {
   "cell_type": "code",
   "execution_count": null,
   "id": "167f055e-4c51-48b2-a650-c1594f87b4b0",
   "metadata": {},
   "outputs": [],
   "source": [
    "dc.run_aucell(adata_mac, mac_function, source='geneset', target='genesymbol', use_raw=False)"
   ]
  },
  {
   "cell_type": "code",
   "execution_count": null,
   "id": "25861a6f-af71-4004-871d-6dfd9da01a62",
   "metadata": {},
   "outputs": [],
   "source": [
    "adata_mac.obs[important_terms] = adata_mac.obsm[\"aucell_estimate\"][important_terms]"
   ]
  },
  {
   "cell_type": "markdown",
   "id": "3bce094f-55f8-4a4a-9cc3-c6ebbb32cca9",
   "metadata": {},
   "source": [
    "# Fig 4D"
   ]
  },
  {
   "cell_type": "code",
   "execution_count": null,
   "id": "09fd88f2-7336-47e7-84a1-f2ef23d2a574",
   "metadata": {},
   "outputs": [],
   "source": [
    "for term in important_terms:\n",
    "    fig, (ax1) = plt.subplots(1,1)\n",
    "    ax1.set_aspect('equal')\n",
    "    sc.pl.umap(adata_mac, color = term,  size=umap_continuous_point_size, alpha= umap_continuous_transparency, color_map='magma', ax = ax1, save = '_{}.png'.format(term).replace(\" \",\"_\") if save_figure else None)\n",
    "    for genotype in adata.obs.genotype.cat.categories:\n",
    "        print(genotype)\n",
    "        fig, (ax1) = plt.subplots(1,1)\n",
    "        ax1.set_aspect('equal')\n",
    "        sc.pl.umap(adata_mac, ax = ax1, size = umap_continuous_point_size, show=False)\n",
    "        sc.pl.umap(adata_mac[adata_mac.obs.genotype.isin([genotype])], color = term,\n",
    "              frameon = False,\n",
    "               ax = ax1,\n",
    "               size = umap_continuous_point_size,\n",
    "               alpha = umap_continuous_transparency,\n",
    "               color_map='magma',\n",
    "               vmin = adata_mac.obs[term].min(),\n",
    "               vmax = adata_mac.obs[term].max(),\n",
    "               legend_loc = 'right margin', save = '_{}_{}_score.png'.format(genotype, term).replace(\" \",\"_\") if save_figure else None\n",
    "              )"
   ]
  },
  {
   "cell_type": "markdown",
   "id": "a04748f1-111d-4f10-8fa5-106396f62af8",
   "metadata": {},
   "source": [
    "# DGE macrophages KO vs WT"
   ]
  },
  {
   "cell_type": "code",
   "execution_count": null,
   "id": "1d88466f-a1ef-4dd3-90e9-ca06453b55a0",
   "metadata": {},
   "outputs": [],
   "source": [
    "sc.tl.rank_genes_groups(adata_mac, 'genotype', method='wilcoxon')\n",
    "sc.pl.rank_genes_groups(adata_mac, n_genes=25, sharey=False)"
   ]
  },
  {
   "cell_type": "code",
   "execution_count": null,
   "id": "256954ba-993b-4fc4-86c3-6e9eba3460e8",
   "metadata": {},
   "outputs": [],
   "source": [
    "rank_genes_res = sc.get.rank_genes_groups_df(adata_mac, group = 'KeapKO')"
   ]
  },
  {
   "cell_type": "markdown",
   "id": "e3e73a4e-ebe2-440e-9df3-9d6afc7c094f",
   "metadata": {},
   "source": [
    "# Fig 4C: generated from csv created below"
   ]
  },
  {
   "cell_type": "code",
   "execution_count": null,
   "id": "3c2c51d5-b5a7-4c45-8d9e-5ca25235eb75",
   "metadata": {},
   "outputs": [],
   "source": [
    "rnk_dict = {}\n",
    "for gt in adata_mac.obs.genotype.cat.categories:\n",
    "    dedf = sc.get.rank_genes_groups_df(adata_mac, group=gt)\n",
    "    dedf.to_csv(path_to_results / \"rank_genes_groups_{}.csv\".format(gt))\n",
    "    rnk_dict[gt] = dedf.set_index('names')"
   ]
  },
  {
   "cell_type": "code",
   "execution_count": null,
   "id": "64f1ecf0-2642-4c4d-b805-cbd4e2a1d81f",
   "metadata": {},
   "outputs": [],
   "source": [
    "msigdb = dc.get_resource('MSigDB')\n",
    "msigdb"
   ]
  },
  {
   "cell_type": "code",
   "execution_count": null,
   "id": "c850f672-7348-4abd-83ca-22e849a9db1f",
   "metadata": {},
   "outputs": [],
   "source": [
    "msigdb['collection'].unique()"
   ]
  },
  {
   "cell_type": "code",
   "execution_count": null,
   "id": "d9e0c7bf-e34d-4405-8ae2-004fd6faf29f",
   "metadata": {},
   "outputs": [],
   "source": [
    "# Filter by hallmark\n",
    "msigdb = msigdb[msigdb['collection']=='hallmark']\n",
    "\n",
    "# Remove duplicated entries\n",
    "msigdb = msigdb[~msigdb.duplicated(['geneset', 'genesymbol'])]\n",
    "msigdb"
   ]
  },
  {
   "cell_type": "code",
   "execution_count": null,
   "id": "6e93d298-e204-48ef-a09e-db7a1ecce1b9",
   "metadata": {},
   "outputs": [],
   "source": [
    "msigdb.genesymbol = msigdb.genesymbol.str.lower().str.capitalize()\n",
    "msigdb.geneset = msigdb.geneset.str.replace('HALLMARK_', '')"
   ]
  },
  {
   "cell_type": "code",
   "execution_count": null,
   "id": "6f5881a4-78bd-416a-b0fc-d824e83c3457",
   "metadata": {},
   "outputs": [],
   "source": [
    "msigdb"
   ]
  },
  {
   "cell_type": "markdown",
   "id": "03ccef78-4cdc-419f-bac5-8e63a7a11187",
   "metadata": {},
   "source": [
    "# Fig 4C"
   ]
  },
  {
   "cell_type": "code",
   "execution_count": null,
   "id": "0237ab62-32b2-4381-b76c-6212fe4ffb81",
   "metadata": {},
   "outputs": [],
   "source": [
    "res = {}\n",
    "for gt in adata_mac.obs.genotype.cat.categories:\n",
    "    df = rnk_dict[gt]\n",
    "    print(len(df))\n",
    "    res[gt] = dc.get_gsea_df(df = df, stat = 'scores', net = msigdb, source=\"geneset\",\n",
    "        target=\"genesymbol\", times=1000, min_n=5, seed=42, verbose=True)\n",
    "    res[gt].to_csv(path_to_results / 'GSEA_Hallmark_{}.csv'.format(gt))\n",
    "    dc.plot_dotplot(res[gt][res[gt]['FDR p-value'] <= 0.1],\n",
    "    x='NES',\n",
    "    y='Term',\n",
    "    s='NES',\n",
    "    c='FDR p-value',\n",
    "    scale=1,\n",
    "    figsize=(3, 12),\n",
    "    title = '{} vs. rest'.format(gt)\n",
    "               )\n",
    "    if save_figure:\n",
    "        plt.savefig(path_to_results / 'GSEA_Hallmark_{}.svg'.format(gt), bbox_inches=\"tight\")"
   ]
  },
  {
   "cell_type": "markdown",
   "id": "478f0d09-6f54-43d0-adbd-2d9a2e3d8f3e",
   "metadata": {},
   "source": [
    "# TF analysis"
   ]
  },
  {
   "cell_type": "code",
   "execution_count": null,
   "id": "9cfae91e-2dae-482a-89b8-12ad77cf78d1",
   "metadata": {},
   "outputs": [],
   "source": [
    "trust_db = decoupler_helpers.gmt_to_decoupler('../../shared/databases/TRRUST_Transcription_Factors_2019.gmt')"
   ]
  },
  {
   "cell_type": "code",
   "execution_count": null,
   "id": "744dff38-7efd-4054-b0db-bd0e9472e3e1",
   "metadata": {},
   "outputs": [],
   "source": [
    "trust_db = trust_db[~trust_db.duplicated(['geneset', 'genesymbol'])]"
   ]
  },
  {
   "cell_type": "code",
   "execution_count": null,
   "id": "5534ddc1-1582-4f04-adbc-1ce7ed60ddb1",
   "metadata": {},
   "outputs": [],
   "source": [
    "trust_db.genesymbol = trust_db.genesymbol.str.lower().str.capitalize()"
   ]
  },
  {
   "cell_type": "code",
   "execution_count": null,
   "id": "d0707e6b-f2ef-4f8c-b54e-bfc035fb2ebe",
   "metadata": {},
   "outputs": [],
   "source": [
    "trust_db"
   ]
  },
  {
   "cell_type": "code",
   "execution_count": null,
   "id": "c5d4642d-152d-4e26-b4a2-009387e62f57",
   "metadata": {},
   "outputs": [],
   "source": [
    "de_KO = sc.get.rank_genes_groups_df(adata_mac, group='KeapKO', pval_cutoff=1e-3, log2fc_min=1.5)"
   ]
  },
  {
   "cell_type": "code",
   "execution_count": null,
   "id": "e337b713-2ed9-46f7-a3b7-2f566913433c",
   "metadata": {},
   "outputs": [],
   "source": [
    "de_KO.set_index('names', drop=True, inplace=True)"
   ]
  },
  {
   "cell_type": "code",
   "execution_count": null,
   "id": "6c5287da-cc9e-4e63-9e6f-12ae78458195",
   "metadata": {},
   "outputs": [],
   "source": [
    "res_ko = dc.get_ora_df(df = de_KO, net = trust_db, source=\"geneset\",\n",
    "        target=\"genesymbol\")"
   ]
  },
  {
   "cell_type": "code",
   "execution_count": null,
   "id": "94c5929c-b094-4b31-a15c-e42f973a86bc",
   "metadata": {},
   "outputs": [],
   "source": [
    "res_ko['-log10(FDR p-value)'] = -np.log10(res_ko['FDR p-value'])"
   ]
  },
  {
   "cell_type": "code",
   "execution_count": null,
   "id": "16333ea7-4f27-450f-b344-3eaf722541b6",
   "metadata": {},
   "outputs": [],
   "source": [
    "res_ko.to_csv(path_to_results / 'ORA_TRRUST_KOvsWT.csv')"
   ]
  },
  {
   "cell_type": "code",
   "execution_count": null,
   "id": "200ae825-daab-4aa0-ab0f-46ccb76b5cb4",
   "metadata": {},
   "outputs": [],
   "source": [
    "res_ko"
   ]
  },
  {
   "cell_type": "markdown",
   "id": "df7f7db0-3c42-48d5-9de6-3e97ca7fb344",
   "metadata": {},
   "source": [
    "# Fig 4E"
   ]
  },
  {
   "cell_type": "code",
   "execution_count": null,
   "id": "1b716668-43bc-461b-8528-580b02f2776f",
   "metadata": {},
   "outputs": [],
   "source": [
    "dc.plot_dotplot(res_ko[res_ko['FDR p-value'] <= 0.1],\n",
    "    x='-log10(FDR p-value)',\n",
    "    y='Term',\n",
    "    s='-log10(FDR p-value)',\n",
    "    c='FDR p-value',\n",
    "    scale=0.5,\n",
    "    figsize=(3, 8),\n",
    "    title = 'KO vs. WT'\n",
    "               )\n",
    "if save_figure:\n",
    "    plt.savefig(path_to_results / 'ORA_TRRUST_KOvsWT.svg', bbox_inches=\"tight\")"
   ]
  },
  {
   "cell_type": "code",
   "execution_count": null,
   "id": "76cae767-3cc6-4305-ae1c-831870a30d54",
   "metadata": {},
   "outputs": [],
   "source": [
    "de_WT = sc.get.rank_genes_groups_df(adata_mac, group='KeapWT', pval_cutoff=1e-3, log2fc_min=1.5)"
   ]
  },
  {
   "cell_type": "code",
   "execution_count": null,
   "id": "73bbedd5-c57f-4db4-9536-719280c566c7",
   "metadata": {},
   "outputs": [],
   "source": [
    "de_WT.set_index('names', drop=True, inplace=True)"
   ]
  },
  {
   "cell_type": "code",
   "execution_count": null,
   "id": "bee4f0f7-d205-4f32-9539-74a30d6fb0e6",
   "metadata": {},
   "outputs": [],
   "source": [
    "res_wt = dc.get_ora_df(df = de_WT, net = trust_db, source=\"geneset\",\n",
    "        target=\"genesymbol\")"
   ]
  },
  {
   "cell_type": "code",
   "execution_count": null,
   "id": "24a8e7c2-dcbe-484d-b851-8f3a1daa2543",
   "metadata": {},
   "outputs": [],
   "source": [
    "res_wt['-log10(FDR p-value)'] = -np.log10(res_wt['FDR p-value'])"
   ]
  },
  {
   "cell_type": "code",
   "execution_count": null,
   "id": "11d8957b-6d8c-495b-aa34-258cbd76c2f2",
   "metadata": {},
   "outputs": [],
   "source": [
    "res_wt.to_csv(path_to_results / 'ORA_TRRUST_WTvsKO.csv')"
   ]
  },
  {
   "cell_type": "code",
   "execution_count": null,
   "id": "b3287b24-34de-478b-97e3-193e6740b394",
   "metadata": {},
   "outputs": [],
   "source": [
    "res_wt"
   ]
  },
  {
   "cell_type": "code",
   "execution_count": null,
   "id": "d87e3db5-c478-49bd-9677-75156cffdd52",
   "metadata": {},
   "outputs": [],
   "source": [
    "dc.plot_dotplot(res_wt[res_wt['FDR p-value'] <= 0.1],\n",
    "    x='-log10(FDR p-value)',\n",
    "    y='Term',\n",
    "    s='-log10(FDR p-value)',\n",
    "    c='FDR p-value',\n",
    "    scale=0.5,\n",
    "    figsize=(3, 12),\n",
    "    title = 'WT vs. KO'\n",
    "               )\n",
    "if save_figure:\n",
    "    plt.savefig(path_to_results / 'ORA_TRRUST_WTvsKO.svg', bbox_inches=\"tight\")"
   ]
  },
  {
   "cell_type": "code",
   "execution_count": null,
   "id": "1eb7f39a-2d05-4f85-a1fb-ea6a1d6dc52e",
   "metadata": {},
   "outputs": [],
   "source": [
    "obs_keys_to_export = list()\n",
    "obs_keys_to_export = important_terms.copy()\n",
    "obs_keys_to_export.append('sample')"
   ]
  },
  {
   "cell_type": "code",
   "execution_count": null,
   "id": "a9a2f728-94f7-42c0-83d2-1f40d4cccae5",
   "metadata": {},
   "outputs": [],
   "source": [
    "data_export_for_plotting = sc.get.obs_df(adata_mac, keys= obs_keys_to_export, obsm_keys =[(\"X_umap\", 0), (\"X_umap\", 1)])"
   ]
  },
  {
   "cell_type": "code",
   "execution_count": null,
   "id": "f0a2089c-92cf-498b-b5eb-f737d00955bd",
   "metadata": {},
   "outputs": [],
   "source": [
    "data_export_for_plotting.to_csv(path_to_results / 'data_for_plotting.csv')"
   ]
  },
  {
   "cell_type": "code",
   "execution_count": null,
   "id": "1974f712-0993-49d6-b9f2-2b1b5d210a59",
   "metadata": {},
   "outputs": [],
   "source": []
  }
 ],
 "metadata": {
  "language_info": {
   "name": "python",
   "pygments_lexer": "ipython3"
  }
 },
 "nbformat": 4,
 "nbformat_minor": 5
}
