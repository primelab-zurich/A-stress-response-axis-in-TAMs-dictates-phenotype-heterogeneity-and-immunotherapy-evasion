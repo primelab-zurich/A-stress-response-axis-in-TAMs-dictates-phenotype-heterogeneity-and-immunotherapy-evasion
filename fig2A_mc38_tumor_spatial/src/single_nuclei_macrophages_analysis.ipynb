{
 "cells": [
  {
   "cell_type": "markdown",
   "id": "524cd49e-fa46-4609-a42f-8f28d5c4d454",
   "metadata": {},
   "source": [
    "# Analyze macrophages in segmented cell nuclei"
   ]
  },
  {
   "cell_type": "code",
   "execution_count": null,
   "id": "03dfbb7f-8ef9-433b-a580-682d6b87cf74",
   "metadata": {},
   "outputs": [],
   "source": [
    "import pandas as pd\n",
    "import numpy as np\n",
    "import matplotlib.pyplot as plt\n",
    "import matplotlib as mpl\n",
    "import anndata\n",
    "import geopandas as gpd\n",
    "import scanpy as sc\n",
    "\n",
    "import pathlib\n",
    "\n",
    "from tifffile import imread, imwrite\n",
    "from csbdeep.utils import normalize\n",
    "\n",
    "from scipy import sparse\n",
    "from matplotlib.colors import ListedColormap\n",
    "\n",
    "%matplotlib inline\n",
    "%config InlineBackend.figure_format = 'retina'\n",
    "import tme_colormaps"
   ]
  },
  {
   "cell_type": "code",
   "execution_count": null,
   "id": "2b45d7d3-4016-4825-bdae-d153d9bd6fe5",
   "metadata": {},
   "outputs": [],
   "source": [
    "import nuclei_segmentation_plotting as nsp"
   ]
  },
  {
   "cell_type": "code",
   "execution_count": null,
   "id": "3c023a1f-9f76-4c1d-87f1-68bbbfa695f8",
   "metadata": {},
   "outputs": [],
   "source": [
    "import sys\n",
    "sys.path.append('../../shared/src')"
   ]
  },
  {
   "cell_type": "code",
   "execution_count": null,
   "id": "387c4a2a-3b52-4c3e-8cbc-72e3a3daf253",
   "metadata": {},
   "outputs": [],
   "source": [
    "new_rc_params = {'text.usetex': False,\n",
    "\"svg.fonttype\": 'none'\n",
    "}\n",
    "mpl.rcParams.update(new_rc_params)"
   ]
  },
  {
   "cell_type": "code",
   "execution_count": null,
   "id": "bbebbad5-3998-4e73-ab4a-6105432a45a0",
   "metadata": {},
   "outputs": [],
   "source": [
    "from importlib import reload\n",
    "reload(nsp)\n",
    "reload(tme_colormaps)"
   ]
  },
  {
   "cell_type": "markdown",
   "id": "917e61bd-e154-4973-a9fb-4bf6f31238df",
   "metadata": {},
   "source": [
    "# Import data"
   ]
  },
  {
   "cell_type": "code",
   "execution_count": null,
   "id": "289f6e74-530c-4f7d-a0ce-1cedbd8751e7",
   "metadata": {},
   "outputs": [],
   "source": [
    "# TODO: use data links from GEO"
   ]
  },
  {
   "cell_type": "code",
   "execution_count": null,
   "id": "183e30d8-217e-4269-bceb-c237a9e82727",
   "metadata": {},
   "outputs": [],
   "source": [
    "sample_name = 'mouse_tumor_361481_2-B23_1556_SM0296'"
   ]
  },
  {
   "cell_type": "code",
   "execution_count": null,
   "id": "ad4ec03c-252a-479b-b316-cfd823432354",
   "metadata": {},
   "outputs": [],
   "source": [
    "path_to_data = pathlib.Path('..') / 'data'\n",
    "path_to_intermediate_data = pathlib.Path('..') / 'data' / 'intermediate'\n",
    "path_to_intermediate_data.mkdir(parents = True, exist_ok=True)\n",
    "path_to_results = pathlib.Path('..') / 'results' / sample_name\n",
    "path_to_results.mkdir(parents = True, exist_ok=True)"
   ]
  },
  {
   "cell_type": "code",
   "execution_count": null,
   "id": "5e763321-d90f-4d72-9e57-1e5d0e0c431d",
   "metadata": {},
   "outputs": [],
   "source": [
    "sc.settings.verbosity = 3             # verbosity: errors (0), warnings (1), info (2), hints (3)\n",
    "sc.logging.print_header()\n",
    "sc.settings.set_figure_params(dpi=100, facecolor='white', figsize = (4,4), dpi_save=300, frameon = False, vector_friendly = False)\n",
    "sc.settings.figdir = path_to_results\n",
    "spatial_dot_size = 2.4\n",
    "spot_size = 100\n",
    "spatial_transparency = 1"
   ]
  },
  {
   "cell_type": "code",
   "execution_count": null,
   "id": "d6e3f11e-40fd-4017-b535-5f46f1ee20e0",
   "metadata": {},
   "outputs": [],
   "source": [
    "adata = sc.read(path_to_intermediate_data / 'count_area_filtered_adata.h5ad')"
   ]
  },
  {
   "cell_type": "code",
   "execution_count": null,
   "id": "7eec10bf-653f-4b38-aab2-3cdef2e844d0",
   "metadata": {},
   "outputs": [],
   "source": [
    "img_filename = 'B23.1556.tif'\n",
    "img = imread(path_to_data / 'raw' / img_filename)\n",
    "# Percentile normalization of the image\n",
    "# Adjust min_percentile and max_percentile as needed\n",
    "min_percentile = 2\n",
    "max_percentile = 98#95 too low\n",
    "img = normalize(img, min_percentile, max_percentile)"
   ]
  },
  {
   "cell_type": "code",
   "execution_count": null,
   "id": "dc75561b-19ae-4382-92df-32e389810ffc",
   "metadata": {},
   "outputs": [],
   "source": [
    "path_to_intermediate_data"
   ]
  },
  {
   "cell_type": "code",
   "execution_count": null,
   "id": "376cda34-1809-4546-ab50-db3d88f8459f",
   "metadata": {},
   "outputs": [],
   "source": [
    "gdf = gpd.read_parquet(path_to_intermediate_data / 'geodataframe.parquet')"
   ]
  },
  {
   "cell_type": "code",
   "execution_count": null,
   "id": "cce50cbc-f827-4f44-aea9-f5f24c4345ec",
   "metadata": {},
   "outputs": [],
   "source": [
    "gdf"
   ]
  },
  {
   "cell_type": "code",
   "execution_count": null,
   "id": "d9630af4-d744-4530-924c-bfc701f79fea",
   "metadata": {},
   "outputs": [],
   "source": [
    "adata.obs.id"
   ]
  },
  {
   "cell_type": "code",
   "execution_count": null,
   "id": "1a2006eb-1eb9-4085-9d61-0edc449f2fe3",
   "metadata": {},
   "outputs": [],
   "source": [
    "adata.shape"
   ]
  },
  {
   "cell_type": "code",
   "execution_count": null,
   "id": "3dca6e72-1527-449e-ac3a-da101a9803c2",
   "metadata": {},
   "outputs": [],
   "source": [
    "MAC_GENES = ['Cd68', 'Csf1r', 'Adgre1', 'Itgam', 'Fcgr1']"
   ]
  },
  {
   "cell_type": "code",
   "execution_count": null,
   "id": "049c04df-99b6-4178-b83e-983b751efe0c",
   "metadata": {},
   "outputs": [],
   "source": [
    "adata.var_names_make_unique()"
   ]
  },
  {
   "cell_type": "code",
   "execution_count": null,
   "id": "5b3a1e7b-e785-462e-9dee-187890b54496",
   "metadata": {},
   "outputs": [],
   "source": [
    "sc.tl.score_genes(adata, gene_list = MAC_GENES, score_name='mac_score')"
   ]
  },
  {
   "cell_type": "code",
   "execution_count": null,
   "id": "2c2dadbe-4cb3-4112-9d04-5bbb121cc225",
   "metadata": {},
   "outputs": [],
   "source": [
    "vmax = adata.obs.mac_score.quantile(0.9)"
   ]
  },
  {
   "cell_type": "code",
   "execution_count": null,
   "id": "f3d4cfa6-e7a0-4d0b-9594-d6e0ffd41c7c",
   "metadata": {},
   "outputs": [],
   "source": [
    "nsp.plot_obs_key_and_save_image(title = 'Mac score' , gdf= gdf, img = None, adata= adata, obs_key='mac_score', output_name=path_to_results / \"mac_score.tiff\", vmin = 0, vmax = vmax)"
   ]
  },
  {
   "cell_type": "code",
   "execution_count": null,
   "id": "1860d5fe-fbfe-4aea-9f22-ffaf90df9bb3",
   "metadata": {},
   "outputs": [],
   "source": [
    "adata.obs.mac_score.describe()"
   ]
  },
  {
   "cell_type": "code",
   "execution_count": null,
   "id": "27f50f35-a2d8-4c4d-8392-a5991aa2cd59",
   "metadata": {},
   "outputs": [],
   "source": [
    "ad_mac = adata[adata.obs.mac_score > 0]"
   ]
  },
  {
   "cell_type": "code",
   "execution_count": null,
   "id": "8adb2c06-e25f-47c7-8bef-5487759b4690",
   "metadata": {},
   "outputs": [],
   "source": [
    "ad_mac.uns['log1p']['base'] = None"
   ]
  },
  {
   "cell_type": "code",
   "execution_count": null,
   "id": "e9759805-4b36-4f3f-8c6d-a9def79a1e49",
   "metadata": {},
   "outputs": [],
   "source": [
    "# Identify highly variable genes in the dataset using the Seurat method\n",
    "sc.pp.highly_variable_genes(ad_mac, flavor=\"seurat\", n_top_genes=2000)\n",
    "sc.pp.pca(ad_mac)\n",
    "sc.pp.neighbors(ad_mac)"
   ]
  },
  {
   "cell_type": "code",
   "execution_count": null,
   "id": "503aa1e5-e4f5-49fd-abf3-95293be55122",
   "metadata": {},
   "outputs": [],
   "source": [
    "sc.tl.umap(ad_mac)"
   ]
  },
  {
   "cell_type": "code",
   "execution_count": null,
   "id": "c9cad6bf-411c-4848-bd71-4c68d3398757",
   "metadata": {},
   "outputs": [],
   "source": [
    "# Adjust the resolution parameter as needed for different samples\n",
    "sc.tl.leiden(ad_mac, resolution=0.5, key_added= 'leiden_0.5')"
   ]
  },
  {
   "cell_type": "markdown",
   "id": "713a0038-21df-4341-8209-de581a6447d1",
   "metadata": {},
   "source": [
    "# Fig 2B"
   ]
  },
  {
   "cell_type": "code",
   "execution_count": null,
   "id": "a8d7b5ad-5f75-42d1-80ad-611a0cfeaec6",
   "metadata": {},
   "outputs": [],
   "source": [
    "ax = sc.pl.umap(ad_mac, color = 'leiden_0.5', palette=tme_colormaps.cluster_cmap, show = False)\n",
    "ax.set_aspect('equal')\n",
    "plt.show()"
   ]
  },
  {
   "cell_type": "code",
   "execution_count": null,
   "id": "0481e1c0-825e-4e5d-97ac-bc79785f07ed",
   "metadata": {},
   "outputs": [],
   "source": [
    "nsp.plot_clusters_and_save_image('leiden_0.5', gdf = gdf, img = None, adata = ad_mac, color_by_obs='leiden_0.5', color_list=ad_mac.uns['leiden_0.5_colors'])"
   ]
  },
  {
   "cell_type": "code",
   "execution_count": null,
   "id": "0dd861c0-c7b6-420d-9fc9-ade328d4c42c",
   "metadata": {},
   "outputs": [],
   "source": [
    "sc.tl.rank_genes_groups(ad_mac, groupby='leiden_0.5', method = 'wilcoxon')"
   ]
  },
  {
   "cell_type": "code",
   "execution_count": null,
   "id": "e347c1ef-a9ef-47d4-81ce-25ed7fe9aaa1",
   "metadata": {},
   "outputs": [],
   "source": [
    "sc.pl.rank_genes_groups(ad_mac, sharey=False, save = '_leiden0.5.svg')"
   ]
  },
  {
   "cell_type": "code",
   "execution_count": null,
   "id": "afd1d64b-5f7a-4487-87dd-e4357a1a2b1c",
   "metadata": {},
   "outputs": [],
   "source": [
    "ranked_genes = sc.get.rank_genes_groups_df(ad_mac, group = None)"
   ]
  },
  {
   "cell_type": "code",
   "execution_count": null,
   "id": "c64729a6-9939-40bd-ab74-56f8a095c003",
   "metadata": {},
   "outputs": [],
   "source": [
    "ranked_genes.to_csv(path_to_results / 'ranked_genes_leiden05.csv')"
   ]
  },
  {
   "cell_type": "code",
   "execution_count": null,
   "id": "6c39570d-e58b-462b-8181-f5183762b328",
   "metadata": {},
   "outputs": [],
   "source": [
    "rois = dict()\n",
    "rois['top_left'] = (11591,8072,17200,12176)\n",
    "rois['bottom_right'] = (23288,15802,27803,19290)\n",
    "rois['bottom_right_enlarged'] = (22696,15767,27742,19310)\n",
    "rois['top_right']= (21373,8345,26435,12244)\n",
    "rois['middle'] = (14822,13042,20042,16829)"
   ]
  },
  {
   "cell_type": "code",
   "execution_count": null,
   "id": "3be7dda3-61f2-4af2-ab39-2241e19e3600",
   "metadata": {},
   "outputs": [],
   "source": [
    "for name, coord in rois.items():\n",
    "    nsp.plot_clusters_and_save_image(title = '{}: leiden_0.5'.format(name), gdf = gdf, img = None, adata = ad_mac, bbox = coord, color_by_obs='leiden_0.5', output_name=path_to_results / 'leiden_05_{}.tiff'.format(name), color_list=ad_mac.uns['leiden_0.5_colors'])"
   ]
  },
  {
   "cell_type": "markdown",
   "id": "8c3613b6-1481-4529-841e-b1071a7603e3",
   "metadata": {},
   "source": [
    "# Convert polygons to dots for easier plotting"
   ]
  },
  {
   "cell_type": "code",
   "execution_count": null,
   "id": "cf0dfbb1-d6ab-468b-bb05-abfc9442461c",
   "metadata": {},
   "outputs": [],
   "source": [
    "gdf['centroid'] = gdf.geometry.centroid"
   ]
  },
  {
   "cell_type": "code",
   "execution_count": null,
   "id": "55c5fcc6-e15f-41f3-98a5-5fc4d57744c8",
   "metadata": {},
   "outputs": [],
   "source": [
    "gdf['x'] = gdf.centroid.x\n",
    "gdf['y'] = gdf.centroid.y"
   ]
  },
  {
   "cell_type": "code",
   "execution_count": null,
   "id": "5af02fbe-fcee-43ba-b607-c3cae8a63513",
   "metadata": {},
   "outputs": [],
   "source": [
    "import seaborn as sns"
   ]
  },
  {
   "cell_type": "code",
   "execution_count": null,
   "id": "9893f33e-18ed-4b9c-b698-8dda5cd9dd18",
   "metadata": {},
   "outputs": [],
   "source": [
    "ad_mac.obs_names"
   ]
  },
  {
   "cell_type": "code",
   "execution_count": null,
   "id": "e343057a-b0c4-462d-b8dd-29e2567a4415",
   "metadata": {},
   "outputs": [],
   "source": [
    "coords = gdf[['id', 'x', 'y']]"
   ]
  },
  {
   "cell_type": "code",
   "execution_count": null,
   "id": "05a72a05-30d5-4d29-adba-3d5cdad9138a",
   "metadata": {},
   "outputs": [],
   "source": [
    "coords.set_index(keys = 'id', drop=True, inplace=True)"
   ]
  },
  {
   "cell_type": "code",
   "execution_count": null,
   "id": "1d568fbc-2ff3-4ac8-9ab7-328e9e403ea3",
   "metadata": {},
   "outputs": [],
   "source": [
    "coords"
   ]
  },
  {
   "cell_type": "code",
   "execution_count": null,
   "id": "c6d3b3b6-a975-44f0-b0de-57c19fa2bfbf",
   "metadata": {},
   "outputs": [],
   "source": [
    "ad_mac.shape"
   ]
  },
  {
   "cell_type": "code",
   "execution_count": null,
   "id": "34997bf5-9f7b-4bb6-bbee-72a6a61997aa",
   "metadata": {},
   "outputs": [],
   "source": [
    "coords = coords.loc[ad_mac.obs_names, :]"
   ]
  },
  {
   "cell_type": "code",
   "execution_count": null,
   "id": "03c9363c-da18-4ac2-bced-fa6ec54b8397",
   "metadata": {},
   "outputs": [],
   "source": [
    "ad_mac.obsm['X_spatial'] = coords.to_numpy()"
   ]
  },
  {
   "cell_type": "code",
   "execution_count": null,
   "id": "d2c65886-2e87-4241-a0b3-14c684b42141",
   "metadata": {},
   "outputs": [],
   "source": [
    "ad_mac.obsm"
   ]
  },
  {
   "cell_type": "code",
   "execution_count": null,
   "id": "943fe4d8-bb3a-48ee-9faf-b8452a3a4378",
   "metadata": {},
   "outputs": [],
   "source": [
    "ad_mac.obsm['X_spatial']"
   ]
  },
  {
   "cell_type": "code",
   "execution_count": null,
   "id": "1421cd1f-4f50-4449-8fc0-4dffae570f34",
   "metadata": {},
   "outputs": [],
   "source": [
    "gene_list = ['Spp1', 'Cxcl9', 'Cd74', 'H2-Ab1', 'Hmox1']"
   ]
  },
  {
   "cell_type": "code",
   "execution_count": null,
   "id": "cf38eba7-f4ee-49b4-bd8c-e44142b3fc32",
   "metadata": {},
   "outputs": [],
   "source": [
    "for gene in gene_list:\n",
    "    sc.pl.spatial(ad_mac, color = gene, spot_size=spot_size, size = spatial_dot_size, vmax = 'p99', img = None, cmap = tme_colormaps.gene_expression)"
   ]
  },
  {
   "cell_type": "markdown",
   "id": "f17d4caf-549e-4886-91e6-e80f1a5b3d98",
   "metadata": {},
   "source": [
    "# Co-expression plots (Spp1, Cxcl9, Cd74)"
   ]
  },
  {
   "cell_type": "code",
   "execution_count": null,
   "id": "cea4a152-b041-40ea-9fc9-775464391f89",
   "metadata": {},
   "outputs": [],
   "source": [
    "df = sc.get.obs_df(ad_mac, keys = ['Spp1', 'Cxcl9', 'Cd74', 'H2-Ab1'])"
   ]
  },
  {
   "cell_type": "code",
   "execution_count": null,
   "id": "76aab377-544f-4ea7-a725-5fb3ec1bb60f",
   "metadata": {},
   "outputs": [],
   "source": [
    "#define conditions\n",
    "conditions = [\n",
    "    (df['Cxcl9'] > 0) & (df['Spp1'] > 0),\n",
    "    (df['Cxcl9'] > 0) & (df['Spp1'] == 0),\n",
    "    (df['Cxcl9'] == 0)& (df['Spp1'] > 0),\n",
    "    (df['Cxcl9'] == 0)& (df['Spp1'] == 0),\n",
    "]\n",
    "\n",
    "#define results\n",
    "results = ['Cxcl9 & Spp1', 'Cxcl9', 'Spp1', 'nothing']\n",
    "\n",
    "#create new column based on conditions in column1 and column2\n",
    "ad_mac.obs['Cxcl9_Spp1'] = np.select(conditions, results)"
   ]
  },
  {
   "cell_type": "code",
   "execution_count": null,
   "id": "9e7fcae8-ff66-4839-8b46-b338b2952029",
   "metadata": {},
   "outputs": [],
   "source": [
    "#define conditions\n",
    "conditions = [\n",
    "    (df['Cd74'] > 0) & (df['Spp1'] > 0),\n",
    "    (df['Cd74'] > 0) & (df['Spp1'] == 0),\n",
    "    (df['Cd74'] == 0)& (df['Spp1'] > 0),\n",
    "    (df['Cd74'] == 0)& (df['Spp1'] == 0),\n",
    "]\n",
    "\n",
    "#define results\n",
    "results = ['Cd74 & Spp1', 'Cd74', 'Spp1', 'nothing']\n",
    "\n",
    "#create new column based on conditions in column1 and column2\n",
    "ad_mac.obs['Cd74_Spp1'] = np.select(conditions, results)"
   ]
  },
  {
   "cell_type": "markdown",
   "id": "68c84b4b-e35d-4663-b9a3-156e93036936",
   "metadata": {},
   "source": [
    "Cd74_Spp1_colors= {'Cd74': tme_colormaps., 'Spp1':'Cyan', 'Cd74 & Spp1': 'Magenta', 'nothing': 'lightgrey'}"
   ]
  },
  {
   "cell_type": "code",
   "execution_count": null,
   "id": "8d83bd38-fda1-4f09-83c3-fdbc69844ebd",
   "metadata": {},
   "outputs": [],
   "source": [
    "sc.pl.spatial(ad_mac, color = 'Cd74_Spp1', img_key=None, spot_size=spot_size, size = spatial_dot_size, alpha = 0.7, palette=tme_colormaps.set_of_three_plus_bg, save = '_Cd74_Spp1_coexpression.png')"
   ]
  },
  {
   "cell_type": "code",
   "execution_count": null,
   "id": "7c6b073f-e4bd-4421-88a3-6a299896b708",
   "metadata": {},
   "outputs": [],
   "source": [
    "sc.pl.spatial(ad_mac, color = 'Cxcl9_Spp1', img_key=None, spot_size=spot_size, size = spatial_dot_size, alpha = 0.7, palette=tme_colormaps.set_of_three_plus_bg, save = '_Cxcl9_Spp1_coexpression.png')"
   ]
  },
  {
   "cell_type": "markdown",
   "id": "a994471a-effd-4aef-aa11-757c0bbdf841",
   "metadata": {},
   "source": [
    "# Clustering"
   ]
  },
  {
   "cell_type": "markdown",
   "id": "1c27181c-d919-4f2b-8d6a-e0840505570b",
   "metadata": {},
   "source": [
    "# Fig 2D"
   ]
  },
  {
   "cell_type": "code",
   "execution_count": null,
   "id": "bb7ecc9d-f4f5-4e82-b769-81eab3d0bddd",
   "metadata": {},
   "outputs": [],
   "source": [
    "sc.pl.spatial(ad_mac, color = 'leiden_0.5', spot_size=spot_size, size = 1.6, img = None, palette=tme_colormaps.cluster_cmap)"
   ]
  },
  {
   "cell_type": "markdown",
   "id": "99db5826-f655-4c88-ab98-8c465e28cca3",
   "metadata": {},
   "source": [
    "# Fig 2 A (left): Mac score"
   ]
  },
  {
   "cell_type": "code",
   "execution_count": null,
   "id": "9eda9ee3-fd9e-4d7c-95a9-767efd1b4954",
   "metadata": {},
   "outputs": [],
   "source": [
    "# use for publication\n",
    "sc.pl.spatial(ad_mac, color = 'mac_score', spot_size=spot_size, size = spatial_dot_size, img = None, cmap=tme_colormaps.score_mac)"
   ]
  },
  {
   "cell_type": "markdown",
   "id": "89f7000d-d8ac-4a8c-9eea-4e6ec22af90a",
   "metadata": {},
   "source": [
    "# KeapKOvsWT scoring"
   ]
  },
  {
   "cell_type": "code",
   "execution_count": null,
   "id": "18fb951d-fc0e-48e9-90cc-b73fb3c4725a",
   "metadata": {},
   "outputs": [],
   "source": [
    "database_path = pathlib.Path('../../shared/databases/')\n",
    "numof_genes = 150\n",
    "KOvsWT_down_genelist = pd.read_csv(database_path / '{}_KO--over--WT_Down-Regulated.csv'.format(numof_genes), header=0).gene_name\n",
    "KOvsWT_up_genelist = pd.read_csv(database_path / '{}_KO--over--WT_Up-Regulated.csv'.format(numof_genes), header=0).gene_name"
   ]
  },
  {
   "cell_type": "code",
   "execution_count": null,
   "id": "09a18a47-c51f-40d1-9bb3-5617f6df4008",
   "metadata": {},
   "outputs": [],
   "source": [
    "sc.tl.score_genes(ad_mac, gene_list=KOvsWT_down_genelist, score_name='KOvsWT_down_score')"
   ]
  },
  {
   "cell_type": "code",
   "execution_count": null,
   "id": "04174836-9704-4fa4-aba9-786a2b5fc8bb",
   "metadata": {},
   "outputs": [],
   "source": [
    "sc.tl.score_genes(ad_mac, gene_list=KOvsWT_up_genelist, score_name='KOvsWT_up_score')"
   ]
  },
  {
   "cell_type": "code",
   "execution_count": null,
   "id": "1d7a2f21-e3f5-4701-8bf0-0d57c90fec4e",
   "metadata": {},
   "outputs": [],
   "source": [
    "ad_mac.obs['KOvsWT_up_minus_down_score'] = ad_mac.obs.KOvsWT_up_score - ad_mac.obs.KOvsWT_down_score\n",
    "vmax = ad_mac.obs.KOvsWT_up_minus_down_score.abs().quantile(q = 0.99)\n",
    "vmin = -vmax\n",
    "sc.pl.spatial(ad_mac[ad_mac.obs.mac_score > 0], color = 'KOvsWT_up_minus_down_score', sort_order = False, img_key=None, spot_size=spot_size, size = spatial_dot_size, alpha = spatial_transparency, vmax = vmax, vmin = vmin, color_map=tme_colormaps.diverging_score, save = 'KOvsWTK_up_minus_down_score.png')"
   ]
  },
  {
   "cell_type": "code",
   "execution_count": null,
   "id": "770ac2f4-97f5-43fd-a3ff-d442beee86a1",
   "metadata": {},
   "outputs": [],
   "source": [
    "ad_mac.obs['KOvsWT_up_minus_down_score_normalized'] = ad_mac.obs['KOvsWT_up_minus_down_score'] - ad_mac.obs['KOvsWT_up_minus_down_score'].mean()"
   ]
  },
  {
   "cell_type": "code",
   "execution_count": null,
   "id": "d69f6ea0-4082-4e6a-a292-2eb7d1ec5ddb",
   "metadata": {},
   "outputs": [],
   "source": [
    "#define conditions\n",
    "conditions = [\n",
    "    (df['Cxcl9'] > 0) & (df['Spp1'] > 0),\n",
    "    (df['Cxcl9'] > 0) & (df['Spp1'] == 0),\n",
    "    (df['Cxcl9'] == 0)& (df['Spp1'] > 0),\n",
    "    (df['Cxcl9'] == 0)& (df['Spp1'] == 0),\n",
    "]\n",
    "\n",
    "#define results\n",
    "results = ['Cxcl9 & Spp1', 'Cxcl9', 'Spp1', 'nothing']\n",
    "\n",
    "#create new column based on conditions in column1 and column2\n",
    "ad_mac.obs['Cxcl9_Spp1'] = np.select(conditions, results)"
   ]
  },
  {
   "cell_type": "markdown",
   "id": "620470c3-d78b-475c-b438-47ecaf512dd0",
   "metadata": {},
   "source": [
    "Cxcl9_Spp1_colors= {'Cxcl9':'Yellow', 'Spp1':'Cyan', 'Cxcl9 & Spp1': 'Magenta', 'nothing': 'lightgrey'}"
   ]
  },
  {
   "cell_type": "code",
   "execution_count": null,
   "id": "0da26293-99f3-4ac5-a009-a14bd3ed0761",
   "metadata": {},
   "outputs": [],
   "source": [
    "sc.pl.spatial(ad_mac, color = 'Cxcl9_Spp1', img_key=None,  size = spatial_dot_size, spot_size=spot_size, alpha = 0.7, palette=tme_colormaps.set_of_three_plus_bg, save = '_Cxcl9_Spp1_coexpression.png')"
   ]
  },
  {
   "cell_type": "code",
   "execution_count": null,
   "id": "5d8f1f64-6c94-4acb-b3d7-15fd5762e64c",
   "metadata": {},
   "outputs": [],
   "source": [
    "#define conditions\n",
    "conditions = [\n",
    "    (df['Cd74'] > 0) & (df['Spp1'] > 0),\n",
    "    (df['Cd74'] > 0) & (df['Spp1'] == 0),\n",
    "    (df['Cd74'] == 0)& (df['Spp1'] > 0),\n",
    "    (df['Cd74'] == 0)& (df['Spp1'] == 0),\n",
    "]\n",
    "\n",
    "#define results\n",
    "results = ['Cd74 & Spp1', 'Cd74', 'Spp1', 'nothing']\n",
    "\n",
    "#create new column based on conditions in column1 and column2\n",
    "ad_mac.obs['Cd74_Spp1'] = np.select(conditions, results)"
   ]
  },
  {
   "cell_type": "markdown",
   "id": "c19d433c-2265-4cb6-8f4f-ec7af7def3c2",
   "metadata": {},
   "source": [
    "Cd74_Spp1_colors= {'Cd74':'Yellow', 'Spp1':'Cyan', 'Cd74 & Spp1': 'Magenta', 'nothing': 'lightgrey'}"
   ]
  },
  {
   "cell_type": "code",
   "execution_count": null,
   "id": "d5678a9a-2fec-439c-bd42-003d400ee74d",
   "metadata": {},
   "outputs": [],
   "source": [
    "sc.pl.spatial(ad_mac, color = 'Cd74_Spp1', img_key=None,  size = spatial_dot_size, spot_size=spot_size, alpha = 0.7, palette=tme_colormaps.set_of_three_plus_bg, save = '_Cd74_Spp1_coexpression.png')"
   ]
  },
  {
   "cell_type": "code",
   "execution_count": null,
   "id": "3eadf4b3-3bc4-42f2-a33e-dc0ae8ffe38b",
   "metadata": {},
   "outputs": [],
   "source": [
    "obs_keys_to_extract = ['leiden_0.5', 'Cxcl9_Spp1', 'Cd74_Spp1', 'mac_score', 'KOvsWT_up_minus_down_score']\n",
    "genes_to_extract = ['Cxcl9', 'Cd74', 'Spp1']\n",
    "coords_to_extract = [('X_spatial', 0),('X_spatial', 1), ('X_umap', 0), ('X_umap', 1)]"
   ]
  },
  {
   "cell_type": "code",
   "execution_count": null,
   "id": "890bda54-d079-4df7-a2da-0614812f4a18",
   "metadata": {},
   "outputs": [],
   "source": [
    "df_export_for_plotting = sc.get.obs_df(ad_mac, keys=obs_keys_to_extract+genes_to_extract, obsm_keys=coords_to_extract)"
   ]
  },
  {
   "cell_type": "code",
   "execution_count": null,
   "id": "7fd712a4-612e-4709-9728-b4416a5f047e",
   "metadata": {},
   "outputs": [],
   "source": [
    "df_export_for_plotting"
   ]
  },
  {
   "cell_type": "code",
   "execution_count": null,
   "id": "2eda4cbd-d785-4205-bc88-08f057e03067",
   "metadata": {},
   "outputs": [],
   "source": [
    "df_export_for_plotting.to_csv(path_to_results / 'data_export_single_nuclei_{}.csv'.format(sample_name))"
   ]
  },
  {
   "cell_type": "code",
   "execution_count": null,
   "id": "c4b19d2d-a3ea-42e7-9b0e-4c2752a21f27",
   "metadata": {},
   "outputs": [],
   "source": []
  }
 ],
 "metadata": {
  "language_info": {
   "name": "python",
   "pygments_lexer": "ipython3"
  }
 },
 "nbformat": 4,
 "nbformat_minor": 5
}
