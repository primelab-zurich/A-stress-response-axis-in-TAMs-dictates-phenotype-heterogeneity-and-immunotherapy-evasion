{
 "cells": [
  {
   "cell_type": "markdown",
   "id": "37c3b755-d4bf-4dee-9986-89be3a6adfe8",
   "metadata": {},
   "source": [
    "# KeapKO, Nrf2KO, WT\n",
    "Python analysis using scanpy 1.9 Docker image: cr.gitlab.uzh.ch/elena.duerst/docker-images/scanpy1p9_bioc:0.10\n",
    "TODO: insert link for docker image on dockerhub"
   ]
  },
  {
   "cell_type": "code",
   "execution_count": null,
   "id": "2dfee9d4-668c-46d6-9416-4fbffd889f1d",
   "metadata": {},
   "outputs": [],
   "source": [
    "import numpy as np\n",
    "import pandas as pd\n",
    "import scanpy as sc\n",
    "import seaborn as sns\n",
    "import matplotlib.pyplot as plt\n",
    "import scipy\n",
    "import pathlib\n",
    "import anndata as anndata\n",
    "import matplotlib as mpl\n",
    "import pathlib\n",
    "import decoupler as dc"
   ]
  },
  {
   "cell_type": "code",
   "execution_count": null,
   "id": "ef481e18-d054-43de-8dbc-34999100d47f",
   "metadata": {},
   "outputs": [],
   "source": [
    "import sys\n",
    "sys.path.insert(0, \"../../shared/src\")\n",
    "import decoupler_helpers\n",
    "import bicolor_embedding_plot"
   ]
  },
  {
   "cell_type": "code",
   "execution_count": null,
   "id": "709b81f4-08e4-491e-808a-d2370471fd77",
   "metadata": {},
   "outputs": [],
   "source": [
    "new_rc_params = {'text.usetex': False,\n",
    "\"svg.fonttype\": 'none'\n",
    "}\n",
    "mpl.rcParams.update(new_rc_params)"
   ]
  },
  {
   "cell_type": "code",
   "execution_count": null,
   "id": "b1c60147-130e-48dc-8ad3-e959757b6b20",
   "metadata": {},
   "outputs": [],
   "source": [
    "sc.settings.verbosity = 3             # verbosity: errors (0), warnings (1), info (2), hints (3)\n",
    "sc.logging.print_header()\n",
    "sc.settings.set_figure_params(dpi=100, facecolor='white', figsize = (4,4), dpi_save=300, frameon = False)\n",
    "results_path = pathlib.Path('../results/analysis')\n",
    "sc.settings.figdir = results_path\n",
    "umap_point_size = 30\n",
    "umap_transparency = 0.3\n",
    "umap_continuous_point_size = 30\n",
    "umap_continuous_transparency = 0.7\n",
    "aspect_ratio = 1\n",
    "save_figure = False"
   ]
  },
  {
   "cell_type": "code",
   "execution_count": null,
   "id": "9e0f230b-e174-41c7-97bc-2c6c0d0fca0e",
   "metadata": {},
   "outputs": [],
   "source": [
    "intermediate_data_path = pathlib.Path('../data/intermediate/')\n",
    "intermediate_data_path.mkdir(parents=True, exist_ok=True)\n",
    "results_file = pathlib.Path(intermediate_data_path) / 'preprocessed.h5ad'\n",
    "data_path = pathlib.Path('../data/raw')"
   ]
  },
  {
   "cell_type": "markdown",
   "id": "8f5f0589-0eae-4fdc-80a2-fdc8667987d8",
   "metadata": {},
   "source": [
    "# Data import"
   ]
  },
  {
   "cell_type": "code",
   "execution_count": null,
   "id": "983627de-5938-4460-926d-8652af56159a",
   "metadata": {},
   "outputs": [],
   "source": [
    "samples = ['KeapKO', 'WT', 'Nrf2KO'] # order to get exact same results"
   ]
  },
  {
   "cell_type": "code",
   "execution_count": null,
   "id": "32dcb900-e4d6-4c94-931d-df9880100f98",
   "metadata": {},
   "outputs": [],
   "source": [
    "# TODO: use GEO data: GSE290431"
   ]
  },
  {
   "cell_type": "code",
   "execution_count": null,
   "id": "b7264638-68d6-4227-a685-3f623b8e3584",
   "metadata": {},
   "outputs": [],
   "source": [
    "sample_files = list(data_path.glob('*_filtered_feature_bc_matrix.h5'))\n",
    "adatas = {}\n",
    "for sam in sample_files:\n",
    "    adata = sc.read_10x_h5(sam)\n",
    "    sample_name = sam.name.replace('_filtered_feature_bc_matrix.h5', '')\n",
    "    adata.obs['sample'] = sample_name\n",
    "    print(sample_name)\n",
    "    day = sample_name.split('_')[1]\n",
    "    adata.obs['day'] = day\n",
    "    sample_type = sample_name.split('_')[0]\n",
    "    adata.obs['sample_type'] = sample_type\n",
    "    print(adata.shape)\n",
    "    adata.var_names_make_unique()\n",
    "    adatas[sample_name] = adata"
   ]
  },
  {
   "cell_type": "markdown",
   "id": "2a74ebe1-2201-4d6f-b29d-34fbce72c5e4",
   "metadata": {},
   "source": [
    "# QC"
   ]
  },
  {
   "cell_type": "code",
   "execution_count": null,
   "id": "36b570b7-5dfb-4b22-86f0-0165b6ea6df1",
   "metadata": {},
   "outputs": [],
   "source": [
    " for name,adata in adatas.items():\n",
    "    adata.var['mt'] = adata.var_names.str.startswith('mt-')\n",
    "    sc.pp.calculate_qc_metrics(adata, qc_vars=['mt'], percent_top=None, log1p=False, inplace=True)\n",
    "    adata.var['Rp'] = adata.var_names.str.startswith('Rp') \n",
    "    sc.pp.calculate_qc_metrics(adata, qc_vars=['Rp'], percent_top=None, log1p=False, inplace=True)"
   ]
  },
  {
   "cell_type": "code",
   "execution_count": null,
   "id": "62735ede-741b-4588-ba78-68e6036d95ee",
   "metadata": {},
   "outputs": [],
   "source": [
    " for name, ad in adatas.items():\n",
    "    print(name)\n",
    "    print(ad.shape)\n",
    "    sc.pl.violin(ad, ['n_genes_by_counts', 'total_counts', 'pct_counts_mt', 'pct_counts_Rp'],\n",
    "             jitter=0.4, multi_panel=True, save = f\"{name}.png\" if save_figure else None)"
   ]
  },
  {
   "cell_type": "code",
   "execution_count": null,
   "id": "c52d0eae-3a76-48c4-9dbe-0d7338e67c9f",
   "metadata": {},
   "outputs": [],
   "source": [
    "for name, adata in adatas.items():\n",
    "    print(name)\n",
    "    sc.pl.scatter(adata, x='total_counts', y='pct_counts_mt', color= 'n_genes_by_counts')\n",
    "    sc.pl.scatter(adata, x='total_counts', y='n_genes_by_counts', color = \"pct_counts_mt\")\n",
    "    sc.pl.scatter(adata, x='pct_counts_mt', y='pct_counts_Rp', color = 'n_genes_by_counts')"
   ]
  },
  {
   "cell_type": "code",
   "execution_count": null,
   "id": "51d459f3-077d-4d46-8e4f-ae7ff490411e",
   "metadata": {},
   "outputs": [],
   "source": [
    "min_numof_genes = 200\n",
    "max_numof_genes = 10000#7000\n",
    "for name, adata in adatas.items():\n",
    "    fig, axs = plt.subplots(1, 4, figsize=(12, 3))\n",
    "    fig.suptitle(f\"Covariates for filtering: {name}\")\n",
    "\n",
    "    sns.histplot(adata.obs[\"total_counts\"], kde=False, ax=axs[0])\n",
    "    sns.histplot(\n",
    "        adata.obs[\"total_counts\"][adata.obs[\"total_counts\"] < 40000],\n",
    "        kde=False,\n",
    "        bins=40,\n",
    "        ax=axs[1],\n",
    "    )\n",
    "    plot = sns.histplot(adata.obs[\"n_genes_by_counts\"], kde=False, bins=60, ax=axs[2])\n",
    "    plot.axvline(x = min_numof_genes, color = 'red')\n",
    "    plot.axvline(x = max_numof_genes, color = 'red')\n",
    "    sns.histplot(\n",
    "        adata.obs[\"n_genes_by_counts\"][adata.obs[\"n_genes_by_counts\"] < min_numof_genes + 1000],\n",
    "        kde=False,\n",
    "        bins=60,\n",
    "        ax=axs[3],\n",
    "    )\n",
    "    plt.axvline(x = min_numof_genes, color = 'red')"
   ]
  },
  {
   "cell_type": "markdown",
   "id": "a3c0b438-1f2b-4e14-94cd-b7114337fd3f",
   "metadata": {},
   "source": [
    "# Filtering"
   ]
  },
  {
   "cell_type": "code",
   "execution_count": null,
   "id": "5cca172d-8d27-4d18-9336-53f46bfdaa54",
   "metadata": {},
   "outputs": [],
   "source": [
    "max_pct_mt = 5\n",
    "for name, adata in adatas.items():\n",
    "    adatas[name] = adata[adata.obs['pct_counts_mt'] < max_pct_mt , :]\n",
    "    #helpers.assert_all_finite(adata.X)"
   ]
  },
  {
   "cell_type": "code",
   "execution_count": null,
   "id": "e46f2b86-f620-482f-b1d4-b7b178dcb9c6",
   "metadata": {},
   "outputs": [],
   "source": [
    " for adata in adatas.values():\n",
    "    sc.pp.filter_cells(adata, min_genes = min_numof_genes)\n",
    "    sc.pp.filter_cells(adata, max_genes = max_numof_genes)\n",
    "    sc.pp.filter_genes(adata, min_cells = 1)\n",
    "    print(adata.shape)"
   ]
  },
  {
   "cell_type": "markdown",
   "id": "0efe1334-28f6-4929-b52e-fe39a67b88c7",
   "metadata": {},
   "source": [
    "# QC after filtering"
   ]
  },
  {
   "cell_type": "code",
   "execution_count": null,
   "id": "5756cfab-5bdc-4dce-b643-13c06d3d110f",
   "metadata": {},
   "outputs": [],
   "source": [
    "for name, adata in adatas.items():\n",
    "    sc.pl.violin(adata, ['n_genes_by_counts', 'total_counts', 'pct_counts_mt', 'pct_counts_Rp'],\n",
    "             jitter=0.4, multi_panel=True, save = f\"{name}_filtered.png\" if save_figure else None)"
   ]
  },
  {
   "cell_type": "markdown",
   "id": "3c858924-2c0f-4d7c-9b2c-ead15936d822",
   "metadata": {},
   "source": [
    "# Concatenate samples"
   ]
  },
  {
   "cell_type": "code",
   "execution_count": null,
   "id": "b8cc6cb1-a8a9-4b0f-b277-3fc97f43cefb",
   "metadata": {},
   "outputs": [],
   "source": [
    "adata = anndata.concat(adatas, join = \"outer\", fill_value=0)\n",
    "adata.obs_names_make_unique()"
   ]
  },
  {
   "cell_type": "code",
   "execution_count": null,
   "id": "e60b8967-e73b-4694-8d1f-d35d583c9415",
   "metadata": {},
   "outputs": [],
   "source": [
    "del adatas"
   ]
  },
  {
   "cell_type": "code",
   "execution_count": null,
   "id": "0c0eeead-a278-4ae4-9ab7-e103e07dacdd",
   "metadata": {},
   "outputs": [],
   "source": [
    "scaled_counts = sc.pp.normalize_total(adata, target_sum=None, inplace=False)\n",
    "adata.layers[\"concat_log1p_norm\"] = sc.pp.log1p(scaled_counts[\"X\"], copy=True)"
   ]
  },
  {
   "cell_type": "markdown",
   "id": "9f7b8b52-c16a-42c8-ad2c-5478b48ec34e",
   "metadata": {},
   "source": [
    "# Inspect unintegrated samples"
   ]
  },
  {
   "cell_type": "code",
   "execution_count": null,
   "id": "5d6bd56c-48b1-40d3-867d-84ef3ddc5997",
   "metadata": {},
   "outputs": [],
   "source": [
    "sc.pp.highly_variable_genes(adata, layer = 'concat_log1p_norm')"
   ]
  },
  {
   "cell_type": "code",
   "execution_count": null,
   "id": "049f78ab-6d8a-4664-b707-96fb840e1237",
   "metadata": {},
   "outputs": [],
   "source": [
    "adata.X = adata.layers['concat_log1p_norm']\n",
    "sc.pp.pca(adata, n_comps = 20, use_highly_variable=True)"
   ]
  },
  {
   "cell_type": "code",
   "execution_count": null,
   "id": "2e005ae7-d08a-494b-87f1-b414f6c8d8ed",
   "metadata": {},
   "outputs": [],
   "source": [
    "sc.pp.neighbors(adata)"
   ]
  },
  {
   "cell_type": "code",
   "execution_count": null,
   "id": "81ca3c71-0a2d-47fe-9a6c-1a20a6224f81",
   "metadata": {},
   "outputs": [],
   "source": [
    "sc.tl.umap(adata)"
   ]
  },
  {
   "cell_type": "code",
   "execution_count": null,
   "id": "47f4f21f-816f-4c4d-9ade-5949d3187b74",
   "metadata": {},
   "outputs": [],
   "source": [
    "sc.tl.leiden(adata, resolution=0.8)"
   ]
  },
  {
   "cell_type": "code",
   "execution_count": null,
   "id": "7471f750-e29f-49c9-a009-70fa723ac7a8",
   "metadata": {},
   "outputs": [],
   "source": [
    "for obs_key in ['sample', 'leiden', 'Gata2']:\n",
    "    fig, (ax1) = plt.subplots(1,1)\n",
    "    ax1.set_aspect('equal')\n",
    "    sc.pl.umap(adata, color = obs_key, layer = 'concat_log1p_norm', size=umap_point_size, alpha = umap_transparency, ax = ax1, save = '_{}.png'.format(obs_key))"
   ]
  },
  {
   "cell_type": "markdown",
   "id": "90e1f7d6-3643-4bac-9589-4d555c7982f4",
   "metadata": {},
   "source": [
    "# remove Gata2 cluster"
   ]
  },
  {
   "cell_type": "code",
   "execution_count": null,
   "id": "2ed3ad09-032f-410b-93d5-52ded4fc7ce6",
   "metadata": {},
   "outputs": [],
   "source": [
    "adata = adata[adata.obs.leiden != '18']"
   ]
  },
  {
   "cell_type": "code",
   "execution_count": null,
   "id": "3fc2b396-60cf-4eab-857e-2dd5f4143321",
   "metadata": {},
   "outputs": [],
   "source": [
    "adatas = [adata[adata.obs['sample'] == sam] for sam in adata.obs['sample'].cat.categories]\n",
    "\n",
    "min_n_obs = min([ad.n_obs for ad in adatas])\n",
    "\n",
    "for ad in adatas:\n",
    "    if ad.n_obs > min_n_obs:\n",
    "         sc.pp.subsample(ad, n_obs=min_n_obs)\n",
    "\n",
    "adata = adatas[0].concatenate(*adatas[1:])"
   ]
  },
  {
   "cell_type": "code",
   "execution_count": null,
   "id": "93c9b3eb-7736-4e23-86f5-59a9dd6c022e",
   "metadata": {},
   "outputs": [],
   "source": [
    "sc.pp.highly_variable_genes(adata, layer = 'concat_log1p_norm')"
   ]
  },
  {
   "cell_type": "code",
   "execution_count": null,
   "id": "e29bec8f-ac4b-4664-8275-c907b0d74033",
   "metadata": {},
   "outputs": [],
   "source": [
    "adata.X = adata.layers['concat_log1p_norm']\n",
    "sc.pp.pca(adata, n_comps = 20, use_highly_variable=True)"
   ]
  },
  {
   "cell_type": "code",
   "execution_count": null,
   "id": "6cc17786-27e9-4ebc-97db-96bd4261ba02",
   "metadata": {},
   "outputs": [],
   "source": [
    "sc.pl.pca_overview(adata, components = ['1, 2'] ,color = ['sample', 'Spp1', 'H2-Eb1'])"
   ]
  },
  {
   "cell_type": "code",
   "execution_count": null,
   "id": "bfd527ac-52ff-4c16-a82d-39b104616258",
   "metadata": {},
   "outputs": [],
   "source": [
    "df = sc.get.obs_df(adata, keys=['sample'], obsm_keys=[('X_pca', 0), ('X_pca', 1)])"
   ]
  },
  {
   "cell_type": "markdown",
   "id": "1376cfb1-0f7d-4ce4-80e5-bc1c68f28b5c",
   "metadata": {},
   "source": [
    "# Fig 6A"
   ]
  },
  {
   "cell_type": "code",
   "execution_count": null,
   "id": "b3ceb60b-90ec-4f10-9221-6899c62b6465",
   "metadata": {},
   "outputs": [],
   "source": [
    "sns.jointplot(data=df, x = 'X_pca-0', y=\"X_pca-1\", hue=\"sample\", edgecolor = 'none', s = 2)\n",
    "plt.savefig(results_path / 'jointplot_pca_sample_density.pdf')"
   ]
  },
  {
   "cell_type": "markdown",
   "id": "66ccb2ae-0c7e-45a7-801a-9dfc92930025",
   "metadata": {},
   "source": [
    "# Fig 6B (middle)"
   ]
  },
  {
   "cell_type": "code",
   "execution_count": null,
   "id": "236bf924-05eb-4e91-b09a-a481e3a65a5f",
   "metadata": {},
   "outputs": [],
   "source": [
    "bicolor_embedding_plot.bicolor_embedding_plot(adata, x_key='Spp1', y_key='H2-Eb1', save_path=results_path)"
   ]
  },
  {
   "cell_type": "markdown",
   "id": "915ce460-53e4-4699-a3b2-5ae8f47f0622",
   "metadata": {},
   "source": [
    "# Mac function scoring"
   ]
  },
  {
   "cell_type": "code",
   "execution_count": null,
   "id": "ad03ab7a-aa8c-442c-8229-ed43a62fcd07",
   "metadata": {},
   "outputs": [],
   "source": [
    "mac_function = decoupler_helpers.gmt_to_decoupler('../../shared/databases/macrophage_function.gmt')"
   ]
  },
  {
   "cell_type": "code",
   "execution_count": null,
   "id": "f3d48544-630b-4765-a586-5da2a08e02e2",
   "metadata": {},
   "outputs": [],
   "source": [
    "mac_function = decoupler_helpers.prepare_db_for_gsea(mac_function, min_geneset_size=1)"
   ]
  },
  {
   "cell_type": "code",
   "execution_count": null,
   "id": "13d8d251-1b62-429b-ba22-ad538293b37c",
   "metadata": {},
   "outputs": [],
   "source": [
    "pc1_loadings = pd.DataFrame(adata.varm['PCs'][:, 0], index=adata.var_names)"
   ]
  },
  {
   "cell_type": "code",
   "execution_count": null,
   "id": "5c92b8a9-5c60-45f7-916e-e32a4e121f7d",
   "metadata": {},
   "outputs": [],
   "source": [
    "pc1_loadings.columns = ['PC1']"
   ]
  },
  {
   "cell_type": "code",
   "execution_count": null,
   "id": "1ceac082-934d-4938-8742-d985cf573474",
   "metadata": {},
   "outputs": [],
   "source": [
    "pc1_loadings = pc1_loadings.sort_values(by='PC1', ascending=False)"
   ]
  },
  {
   "cell_type": "code",
   "execution_count": null,
   "id": "2615b6a7-00c7-447d-99d7-975a1df77f1b",
   "metadata": {},
   "outputs": [],
   "source": [
    "pc1_loadings"
   ]
  },
  {
   "cell_type": "code",
   "execution_count": null,
   "id": "f6c90c55-16e9-4915-b22d-10470d2e17aa",
   "metadata": {},
   "outputs": [],
   "source": [
    "dc.run_aucell(adata, mac_function, source='geneset', target='genesymbol', use_raw=False)"
   ]
  },
  {
   "cell_type": "code",
   "execution_count": null,
   "id": "98ee3fa1-8b10-4d26-bbf9-329621361381",
   "metadata": {},
   "outputs": [],
   "source": [
    "terms = adata.obsm[\"aucell_estimate\"].columns"
   ]
  },
  {
   "cell_type": "code",
   "execution_count": null,
   "id": "d22358be-f305-4bfe-ad8e-dc01bab46bf3",
   "metadata": {},
   "outputs": [],
   "source": [
    "adata.obs[terms] = adata.obsm[\"aucell_estimate\"][terms]"
   ]
  },
  {
   "cell_type": "markdown",
   "id": "7edf7cd6-4a6f-43c6-ae4a-a515187cc6d8",
   "metadata": {},
   "source": [
    "for term in terms:\n",
    "    fig, (ax1) = plt.subplots(1,1)\n",
    "    ax1.set_aspect('equal')\n",
    "    sc.pl.umap(adata, color = term,  size=umap_continuous_point_size, alpha= umap_continuous_transparency, color_map='magma', ax = ax1, save = '_{}.png'.format(term).replace(\" \",\"_\") if save_figure else None)"
   ]
  },
  {
   "cell_type": "code",
   "execution_count": null,
   "id": "24965647-1b53-447d-8c4c-a612de8e7e34",
   "metadata": {},
   "outputs": [],
   "source": [
    "for term in terms:\n",
    "    fig, (ax1) = plt.subplots(1,1)\n",
    "    ax1.set_aspect('equal')\n",
    "    sc.pl.pca(adata, color = term, components = ['1,2'], size=umap_continuous_point_size, alpha= umap_continuous_transparency, color_map='magma', ax = ax1, save = '_{}.png'.format(term).replace(\" \",\"_\") if save_figure else None)"
   ]
  },
  {
   "cell_type": "markdown",
   "id": "075afd1b-4cf5-406e-b5fe-98fd9d77ad46",
   "metadata": {},
   "source": [
    "# Fig 6 B (left)"
   ]
  },
  {
   "cell_type": "code",
   "execution_count": null,
   "id": "47a0630a-7737-4534-b9c9-89d3699a6122",
   "metadata": {},
   "outputs": [],
   "source": [
    "bicolor_embedding_plot.bicolor_embedding_plot(adata, x_key='Oxidative Stress', y_key='Antigen Presentation', save_path=results_path)"
   ]
  },
  {
   "cell_type": "code",
   "execution_count": null,
   "id": "6bfe5eb4-bb15-4558-9cf1-dfb0bf624e95",
   "metadata": {},
   "outputs": [],
   "source": []
  }
 ],
 "metadata": {
  "language_info": {
   "name": "python",
   "pygments_lexer": "ipython3"
  }
 },
 "nbformat": 4,
 "nbformat_minor": 5
}
