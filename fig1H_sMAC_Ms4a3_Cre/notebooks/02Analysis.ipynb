{
 "cells": [
  {
   "cell_type": "markdown",
   "id": "beb63cf9-db37-4c98-a500-4f7c3504419f",
   "metadata": {},
   "source": [
    "# Figures 1K and 3D: sMAC Ms4a3"
   ]
  },
  {
   "cell_type": "markdown",
   "id": "2d7ededf-5f7e-4ed4-97cb-adf78ca78d32",
   "metadata": {},
   "source": [
    "docker image: cr.gitlab.uzh.ch/elena.duerst/"
   ]
  },
  {
   "cell_type": "code",
   "execution_count": null,
   "id": "9b9452e4-a649-4905-9efb-1258fb6ef028",
   "metadata": {},
   "outputs": [],
   "source": [
    "import scanpy as sc\n",
    "import numpy as np\n",
    "import pandas as pd\n",
    "import seaborn as sns\n",
    "import matplotlib.pyplot as plt\n",
    "import matplotlib as mpl\n",
    "import scipy as scipy\n",
    "import pathlib\n",
    "import anndata\n",
    "import decoupler as dc"
   ]
  },
  {
   "cell_type": "code",
   "execution_count": null,
   "id": "66866545-8a8d-4df6-9816-6e59f91a3ad9",
   "metadata": {},
   "outputs": [],
   "source": [
    "import matplotlib as mpl\n",
    "new_rc_params = {'text.usetex': False,\n",
    "\"svg.fonttype\": 'none'\n",
    "}\n",
    "mpl.rcParams.update(new_rc_params) "
   ]
  },
  {
   "cell_type": "code",
   "execution_count": null,
   "id": "655af3d8-8ec5-4d98-8d91-b3dca3dcdc91",
   "metadata": {},
   "outputs": [],
   "source": [
    "import sys\n",
    "sys.path.insert(0, \"../../shared/src\")\n",
    "import decoupler_helpers\n",
    "import bicolor_embedding_plot"
   ]
  },
  {
   "cell_type": "code",
   "execution_count": null,
   "id": "5eb16482-244d-4e3d-97ee-734df84d5ac1",
   "metadata": {},
   "outputs": [],
   "source": [
    "sc.settings.verbosity = 3             # verbosity: errors (0), warnings (1), info (2), hints (3)\n",
    "sc.logging.print_header()\n",
    "sc.settings.set_figure_params(dpi=150, dpi_save = 300, frameon=False, transparent = True)"
   ]
  },
  {
   "cell_type": "code",
   "execution_count": null,
   "id": "b6f57468-71a2-4960-8686-ee90b06a5856",
   "metadata": {},
   "outputs": [],
   "source": [
    "data_path = pathlib.Path('../data/raw')\n",
    "path_to_intermediate_data = pathlib.Path('../data/intermediate/')\n",
    "path_to_results = pathlib.Path('../results/analysis')\n",
    "path_to_results.mkdir(parents= True, exist_ok=True)\n",
    "sc.settings.figdir = path_to_results"
   ]
  },
  {
   "cell_type": "code",
   "execution_count": null,
   "id": "ec16cf6d-3e79-4711-bd86-b5cee3d1be4a",
   "metadata": {},
   "outputs": [],
   "source": [
    "save_figure = True\n",
    "aspect_ratio = 1\n",
    "umap_point_size = 15\n",
    "umap_transparency = 0.3\n",
    "umap_continuous_point_size = 30\n",
    "umap_continuous_transparency = 0.7"
   ]
  },
  {
   "cell_type": "markdown",
   "id": "bf238249-46dc-4347-874f-884e687f836c",
   "metadata": {},
   "source": [
    "# Data import"
   ]
  },
  {
   "cell_type": "code",
   "execution_count": null,
   "id": "38442d30-86f7-4d97-8c7d-4c3567817408",
   "metadata": {},
   "outputs": [],
   "source": [
    "#TODO: use link from GEO"
   ]
  },
  {
   "cell_type": "code",
   "execution_count": null,
   "id": "cdb229f4-0c6b-402f-83dd-0cc44b8ec437",
   "metadata": {},
   "outputs": [],
   "source": [
    "samples = ['sample_2', 'sample_1']"
   ]
  },
  {
   "cell_type": "code",
   "execution_count": null,
   "id": "a817b300-16c1-4fb1-8d53-1ee8bced4a97",
   "metadata": {},
   "outputs": [],
   "source": [
    "sample_files = list(data_path.glob('*_filtered_feature_bc_matrix.h5'))\n",
    "adatas = []\n",
    "samples = []\n",
    "for sam in sample_files:\n",
    "    adata = sc.read_10x_h5(sam)\n",
    "    sample_name = sam.name.replace('_filtered_feature_bc_matrix.h5', '')\n",
    "    adata.obs['sample'] = sample_name\n",
    "    genotype = sample_name.split('_')[0]\n",
    "    adata.obs['genotype'] = genotype\n",
    "    print(adata.shape)\n",
    "    adata.var_names_make_unique()\n",
    "    samples.append(sample_name)\n",
    "    adatas.append(adata)"
   ]
  },
  {
   "cell_type": "markdown",
   "id": "8bd301b5-2c0a-417e-adff-fea82346fa97",
   "metadata": {},
   "source": [
    "# QC"
   ]
  },
  {
   "cell_type": "code",
   "execution_count": null,
   "id": "1c529e7f-b8b4-4fc3-aee1-e98958c45869",
   "metadata": {},
   "outputs": [],
   "source": [
    " for adata in adatas:\n",
    "    adata.var['mt'] = adata.var_names.str.startswith('mt-')\n",
    "    sc.pp.calculate_qc_metrics(adata, qc_vars=['mt'], percent_top=None, log1p=False, inplace=True)\n",
    "    adata.var['Rp'] = adata.var_names.str.startswith('Rp') \n",
    "    sc.pp.calculate_qc_metrics(adata, qc_vars=['Rp'], percent_top=None, log1p=False, inplace=True)"
   ]
  },
  {
   "cell_type": "code",
   "execution_count": null,
   "id": "6d7209c5-6ba3-49bf-8e2a-9fa6a9a9ce74",
   "metadata": {},
   "outputs": [],
   "source": [
    " for adata, name in zip(adatas, samples):\n",
    "    print(name)\n",
    "    sc.pl.violin(adata, ['n_genes_by_counts', 'total_counts', 'pct_counts_mt', 'pct_counts_Rp'],\n",
    "             jitter=0.4, multi_panel=True, save = f\"{name}.png\" if save_figure else None)"
   ]
  },
  {
   "cell_type": "code",
   "execution_count": null,
   "id": "94154af3-92c8-44f9-ba0e-ab8fded4b980",
   "metadata": {},
   "outputs": [],
   "source": [
    "for adata in adatas:\n",
    "    sc.pl.scatter(adata, x='total_counts', y='pct_counts_mt', color= 'n_genes_by_counts')\n",
    "    sc.pl.scatter(adata, x='total_counts', y='n_genes_by_counts', color = \"pct_counts_mt\")\n",
    "    sc.pl.scatter(adata, x='pct_counts_mt', y='pct_counts_Rp', color = 'n_genes_by_counts')"
   ]
  },
  {
   "cell_type": "code",
   "execution_count": null,
   "id": "ae37ed78-60f0-4aeb-b983-4b918c17a977",
   "metadata": {},
   "outputs": [],
   "source": [
    "min_numof_genes = 200\n",
    "max_numof_genes = 10000\n",
    "for adata, name in zip(adatas, samples):\n",
    "    fig, axs = plt.subplots(1, 4, figsize=(12, 3))\n",
    "    fig.suptitle(f\"Covariates for filtering: {name}\")\n",
    "\n",
    "    sns.histplot(adata.obs[\"total_counts\"], kde=False, ax=axs[0])\n",
    "    sns.histplot(\n",
    "        adata.obs[\"total_counts\"][adata.obs[\"total_counts\"] < 40000],\n",
    "        kde=False,\n",
    "        bins=40,\n",
    "        ax=axs[1],\n",
    "    )\n",
    "    plot = sns.histplot(adata.obs[\"n_genes_by_counts\"], kde=False, bins=60, ax=axs[2])\n",
    "    plot.axvline(x = min_numof_genes, color = 'red')\n",
    "    plot.axvline(x = max_numof_genes, color = 'red')\n",
    "    sns.histplot(\n",
    "        adata.obs[\"n_genes_by_counts\"][adata.obs[\"n_genes_by_counts\"] < min_numof_genes + 1000],\n",
    "        kde=False,\n",
    "        bins=60,\n",
    "        ax=axs[3],\n",
    "    )\n",
    "    plt.axvline(x = min_numof_genes, color = 'red')"
   ]
  },
  {
   "cell_type": "markdown",
   "id": "917156e1-f8b0-4142-bdc3-56553ed9b5f1",
   "metadata": {},
   "source": [
    "# Filtering"
   ]
  },
  {
   "cell_type": "code",
   "execution_count": null,
   "id": "7ab2393e-5fe8-4f27-9e20-2bddd12ccb91",
   "metadata": {},
   "outputs": [],
   "source": [
    "max_pct_mt = 5\n",
    "for idx, adata in enumerate(adatas):\n",
    "    adatas[idx] = adata[adata.obs['pct_counts_mt'] < max_pct_mt , :]"
   ]
  },
  {
   "cell_type": "code",
   "execution_count": null,
   "id": "7b71a861-a45b-4d5a-ba75-53c16c92601d",
   "metadata": {},
   "outputs": [],
   "source": [
    " for adata in adatas:\n",
    "    sc.pp.filter_cells(adata, min_genes = min_numof_genes)\n",
    "    sc.pp.filter_cells(adata, max_genes = max_numof_genes)\n",
    "    sc.pp.filter_genes(adata, min_cells = 1)\n",
    "    print(adata.shape)"
   ]
  },
  {
   "cell_type": "markdown",
   "id": "b4ec9816-1bd0-485a-8e78-3a2413bcb5fb",
   "metadata": {},
   "source": [
    "# QC after filtering"
   ]
  },
  {
   "cell_type": "code",
   "execution_count": null,
   "id": "8e97b13c-1c4e-4a36-b9ba-f987c8d2c75b",
   "metadata": {},
   "outputs": [],
   "source": [
    "for adata, name in zip(adatas, samples):\n",
    "    sc.pl.violin(adata, ['n_genes_by_counts', 'total_counts', 'pct_counts_mt', 'pct_counts_Rp'],\n",
    "             jitter=0.4, multi_panel=True, save = f\"{name}_filtered.png\" if save_figure else None)"
   ]
  },
  {
   "cell_type": "code",
   "execution_count": null,
   "id": "b318034c-f4cc-4d49-8847-b8f87f06fc81",
   "metadata": {},
   "outputs": [],
   "source": [
    "samples"
   ]
  },
  {
   "cell_type": "markdown",
   "id": "14539a08-7f28-48ae-aaf8-770b8bef1df1",
   "metadata": {},
   "source": [
    "# Concatenate samples"
   ]
  },
  {
   "cell_type": "code",
   "execution_count": null,
   "id": "ccffc6c0-1a80-4d46-a4c5-cc619ef5dc11",
   "metadata": {},
   "outputs": [],
   "source": [
    "adata = anndata.concat(adatas, join = \"outer\", fill_value=0)\n",
    "adata.obs_names_make_unique()"
   ]
  },
  {
   "cell_type": "code",
   "execution_count": null,
   "id": "e4752783-20f4-4a11-9d66-3f9800fba266",
   "metadata": {},
   "outputs": [],
   "source": [
    "sc.pp.normalize_total(adata)\n",
    "sc.pp.log1p(adata)"
   ]
  },
  {
   "cell_type": "markdown",
   "id": "ce36aeb6-5eba-49aa-bc8c-129389ad284a",
   "metadata": {},
   "source": [
    "# Inspect unintegrated samples"
   ]
  },
  {
   "cell_type": "code",
   "execution_count": null,
   "id": "b351d29f-adbb-4662-b621-4512745165b2",
   "metadata": {},
   "outputs": [],
   "source": [
    "sc.pp.highly_variable_genes(adata)"
   ]
  },
  {
   "cell_type": "code",
   "execution_count": null,
   "id": "50b37532-c329-4b8a-b070-d6826af92a45",
   "metadata": {},
   "outputs": [],
   "source": [
    "sc.pp.pca(adata, n_comps = 20, use_highly_variable=True)"
   ]
  },
  {
   "cell_type": "code",
   "execution_count": null,
   "id": "a1d773a5-6cf2-4f74-a92b-2650d0eadb54",
   "metadata": {},
   "outputs": [],
   "source": [
    "sc.pp.neighbors(adata)"
   ]
  },
  {
   "cell_type": "code",
   "execution_count": null,
   "id": "15202031-44e4-474d-8cc6-2bf1422d8db4",
   "metadata": {},
   "outputs": [],
   "source": [
    "sc.tl.umap(adata)"
   ]
  },
  {
   "cell_type": "code",
   "execution_count": null,
   "id": "b3640092-2d2b-4f28-9f7c-9f461aab3eea",
   "metadata": {},
   "outputs": [],
   "source": [
    "sc.tl.leiden(adata, resolution=0.8)"
   ]
  },
  {
   "cell_type": "code",
   "execution_count": null,
   "id": "762c0774-e556-4d36-ba55-6a82e74c1f0e",
   "metadata": {},
   "outputs": [],
   "source": [
    "for obs_key in ['sample', 'leiden']:\n",
    "    fig, (ax1) = plt.subplots(1,1)\n",
    "    ax1.set_aspect('equal')\n",
    "    sc.pl.umap(adata, color = obs_key, size=umap_point_size, alpha = umap_transparency, ax = ax1, save = '_{}.png'.format(obs_key))"
   ]
  },
  {
   "cell_type": "code",
   "execution_count": null,
   "id": "ec8ce23f-0c25-4861-aeac-890744d928e0",
   "metadata": {},
   "outputs": [],
   "source": [
    "sc.tl.embedding_density(adata, groupby='sample')"
   ]
  },
  {
   "cell_type": "code",
   "execution_count": null,
   "id": "592fdde7-5b91-40fd-9174-a84acfbd1270",
   "metadata": {},
   "outputs": [],
   "source": [
    "for sam in adata.obs['sample'].cat.categories:\n",
    "    fig = sc.pl.embedding_density(adata, groupby='sample', group = sam, return_fig=True)\n",
    "    fig.savefig(path_to_results / 'umap_density_sample_{}.png'.format(sam), transparent = True)"
   ]
  },
  {
   "cell_type": "markdown",
   "id": "31649317-3119-4bcb-9839-9a3181f1fa81",
   "metadata": {},
   "source": [
    "# Cell type annotation"
   ]
  },
  {
   "cell_type": "code",
   "execution_count": null,
   "id": "0c006714-bf63-41cf-933a-175e7b11ba67",
   "metadata": {},
   "outputs": [],
   "source": [
    "cell_type_marker_genes = { #'Leukocytes' : ['Ptprc'],\n",
    "                 'Neutrophils': ['S100a8', 'S100a9', 'Csf3r'],\n",
    "                 'Macrophages': ['Cd68', 'Csf1r', 'Adgre1'],#, 'Fcgr2b'],\n",
    "                 'DC': ['Batf3', 'Zbtb46', 'Ccr7'],\n",
    "                 'T-cells': ['Cd8a', 'Cd4', 'Cd3d'],\n",
    "                 'NK-cells': ['Gzmb', 'Gzma', 'Klrk1'],\n",
    "                 'B-cells': ['Cd19', 'Ms4a1'],\n",
    "                 'Epithelial cells': ['Krt19'],\n",
    "                 'Endothelial cells': ['Epcam', 'Vcam1'],\n",
    "                 'Tumor cells': ['Twist1', 'Tead1'],\n",
    "                 'CAF': ['Col1a1', 'Cxcl5', 'Mmp2', 'Fap']\n",
    "                }"
   ]
  },
  {
   "cell_type": "code",
   "execution_count": null,
   "id": "c7fab281-f76a-45ab-b271-6a72790ab2a7",
   "metadata": {},
   "outputs": [],
   "source": [
    "for cell_type in cell_type_marker_genes.keys():\n",
    "    print(cell_type)\n",
    "    for gene in cell_type_marker_genes[cell_type]:\n",
    "        fig, (ax1) = plt.subplots(1,1)\n",
    "        ax1.set_aspect('equal')\n",
    "        sc.pl.umap(adata, color = gene, size=umap_continuous_point_size, alpha = umap_continuous_transparency, ax = ax1, save = '_{}.png'.format(gene) if save_figure else None)"
   ]
  },
  {
   "cell_type": "code",
   "execution_count": null,
   "id": "7a2933e5-07ae-4070-969a-bdd8b76934c6",
   "metadata": {},
   "outputs": [],
   "source": [
    "sc.tl.rank_genes_groups(adata, 'leiden', method='wilcoxon')\n",
    "sc.pl.rank_genes_groups(adata, n_genes=25, sharey=False)"
   ]
  },
  {
   "cell_type": "code",
   "execution_count": null,
   "id": "cb11ec21-b154-4161-b059-0bdda7bca53b",
   "metadata": {},
   "outputs": [],
   "source": [
    "sc.pl.umap(adata, color = 'leiden')"
   ]
  },
  {
   "cell_type": "code",
   "execution_count": null,
   "id": "4d114ff3-9475-4253-b1ce-3104060d2bc7",
   "metadata": {},
   "outputs": [],
   "source": [
    "sc.pl.dotplot(adata, var_names=cell_type_marker_genes, groupby='leiden')"
   ]
  },
  {
   "cell_type": "code",
   "execution_count": null,
   "id": "72edcc80-7d59-4b4c-9f3d-0bda6c9aa353",
   "metadata": {},
   "outputs": [],
   "source": [
    "# create a dictionary to map cluster to annotation label\n",
    "cluster2celltype = {\n",
    "     '0': 'Macrophages',\n",
    "     '1': 'Macrophages',\n",
    "     '2': 'Macrophages',\n",
    "     '3': 'Macrophages',\n",
    "     '4': 'Neutrophils',\n",
    "     '5': 'Macrophages',\n",
    "     '6': 'Macrophages',\n",
    "     '7': 'Neutrophils',\n",
    "     '8': 'Macrophages',\n",
    "     '9': 'Macrophages',\n",
    "     '10': 'Macrophages',\n",
    "     '11': 'Endothelial cells',\n",
    "     '12': 'T-cells and NK cells',\n",
    "    '13': 'Macrophages'\n",
    "}\n",
    "\n",
    "# add a new `.obs` column called `cell type` by mapping clusters to annotation using pandas `map` function\n",
    "adata.obs['cell_type'] = adata.obs['leiden'].map(cluster2celltype).astype('category')"
   ]
  },
  {
   "cell_type": "code",
   "execution_count": null,
   "id": "8aff98cb-2f8c-4493-ac93-57843511e5ae",
   "metadata": {},
   "outputs": [],
   "source": [
    "fig, (ax1) = plt.subplots(1,1)\n",
    "ax1.set_aspect('equal')\n",
    "sc.pl.umap(adata, color = 'cell_type', size=umap_point_size, alpha = umap_transparency, ax = ax1, save = '_cell_type.png' if save_figure else None)"
   ]
  },
  {
   "cell_type": "code",
   "execution_count": null,
   "id": "665f7bd8-753b-4848-9bca-5d922d2e71ad",
   "metadata": {},
   "outputs": [],
   "source": [
    "cell_type_colors = adata.uns['cell_type_colors']"
   ]
  },
  {
   "cell_type": "code",
   "execution_count": null,
   "id": "9a674274-5aef-4616-b7d5-1ddb1311a60b",
   "metadata": {},
   "outputs": [],
   "source": [
    "cell_type_colors"
   ]
  },
  {
   "cell_type": "code",
   "execution_count": null,
   "id": "bc848acd-d00f-4072-b2c0-b6a7637aafb7",
   "metadata": {},
   "outputs": [],
   "source": [
    "cell_type_colors[3], cell_type_colors[1] = cell_type_colors[1], cell_type_colors[3]"
   ]
  },
  {
   "cell_type": "code",
   "execution_count": null,
   "id": "c1d5a4fa-27da-494f-a82d-553937518c30",
   "metadata": {},
   "outputs": [],
   "source": [
    "cell_type_colors"
   ]
  },
  {
   "cell_type": "code",
   "execution_count": null,
   "id": "150b3af2-7cf0-4ff0-a2a3-af200d7fb65e",
   "metadata": {},
   "outputs": [],
   "source": [
    "adata.uns['cell_type_colors'] = cell_type_colors"
   ]
  },
  {
   "cell_type": "code",
   "execution_count": null,
   "id": "4b781c61-f507-4886-883a-776605d9dba9",
   "metadata": {},
   "outputs": [],
   "source": [
    "adata.uns['cell_type_colors']"
   ]
  },
  {
   "cell_type": "code",
   "execution_count": null,
   "id": "dc2be031-6ff8-4d34-84f4-0ed2cd9cb2f7",
   "metadata": {},
   "outputs": [],
   "source": [
    "fig, (ax1) = plt.subplots(1,1)\n",
    "ax1.set_aspect('equal')\n",
    "sc.pl.umap(adata, color = 'cell_type', size=umap_point_size, alpha = umap_transparency, ax = ax1, save = '_cell_type.png' if save_figure else None)"
   ]
  },
  {
   "cell_type": "code",
   "execution_count": null,
   "id": "8db62d4c-6113-44c7-81d9-d372d180cf74",
   "metadata": {},
   "outputs": [],
   "source": [
    "adata_mac = adata[adata.obs.cell_type == 'Macrophages']"
   ]
  },
  {
   "cell_type": "code",
   "execution_count": null,
   "id": "9fb345bc-88b0-4f95-8f3b-b0908991a86d",
   "metadata": {},
   "outputs": [],
   "source": [
    "adata_mac.write_h5ad(path_to_intermediate_data / 'macrophages.h5ad')"
   ]
  },
  {
   "cell_type": "code",
   "execution_count": null,
   "id": "9e5b357a-193d-440c-91fa-4cee7bbff8f7",
   "metadata": {},
   "outputs": [],
   "source": [
    "adata_mac_plus_cluster7 = adata[(adata.obs.cell_type == 'Macrophages') | (adata.obs.leiden == '7')]"
   ]
  },
  {
   "cell_type": "code",
   "execution_count": null,
   "id": "b99b49bc-9e87-4fff-9087-d42caf31a067",
   "metadata": {},
   "outputs": [],
   "source": [
    "fig, (ax1) = plt.subplots(1,1)\n",
    "ax1.set_aspect('equal')\n",
    "sc.pl.umap(adata_mac_plus_cluster7, ax = ax1, color = 'cell_type')"
   ]
  },
  {
   "cell_type": "code",
   "execution_count": null,
   "id": "3f1fea63-1fcb-4a30-bb88-b48a62da7e35",
   "metadata": {},
   "outputs": [],
   "source": [
    "sc.pp.highly_variable_genes(adata_mac)"
   ]
  },
  {
   "cell_type": "code",
   "execution_count": null,
   "id": "c40b352c-176e-4ae4-92fe-b27af86c6c78",
   "metadata": {},
   "outputs": [],
   "source": [
    "sc.pp.pca(adata_mac, n_comps=20, use_highly_variable=True)"
   ]
  },
  {
   "cell_type": "code",
   "execution_count": null,
   "id": "4b804aa7-0294-4c88-9c78-cb8c02721a4a",
   "metadata": {},
   "outputs": [],
   "source": [
    "sc.pp.neighbors(adata_mac)"
   ]
  },
  {
   "cell_type": "code",
   "execution_count": null,
   "id": "3fe6b653-c7dc-41e2-a043-207aa34b02a3",
   "metadata": {},
   "outputs": [],
   "source": [
    "sc.tl.umap(adata_mac)"
   ]
  },
  {
   "cell_type": "code",
   "execution_count": null,
   "id": "ab6ffe43-fe03-4083-9581-227727fdd9c5",
   "metadata": {},
   "outputs": [],
   "source": [
    "sc.pl.umap(adata_mac, color = 'sample')"
   ]
  },
  {
   "cell_type": "markdown",
   "id": "1499c375-20db-425f-bf5a-059532124399",
   "metadata": {},
   "source": [
    "# Cell function"
   ]
  },
  {
   "cell_type": "code",
   "execution_count": null,
   "id": "346fde44-eaad-483c-9e2c-eea92736a05c",
   "metadata": {},
   "outputs": [],
   "source": [
    "mac_function = decoupler_helpers.gmt_to_decoupler('../../shared/databases/macrophage_function.gmt')"
   ]
  },
  {
   "cell_type": "code",
   "execution_count": null,
   "id": "dd9ac2da-ddf8-4a56-8514-38b56e4e0947",
   "metadata": {},
   "outputs": [],
   "source": [
    "important_terms = [\n",
    "             'Complement & Phagocytosis',\n",
    "             'Oxidative Stress',\n",
    "             'Cycling',\n",
    "             'Antigen Processing And Presentation']"
   ]
  },
  {
   "cell_type": "code",
   "execution_count": null,
   "id": "dd70ae99-b76d-4277-8276-9ae3a12673d7",
   "metadata": {},
   "outputs": [],
   "source": [
    "mac_function = mac_function[mac_function.geneset.isin(important_terms)]"
   ]
  },
  {
   "cell_type": "code",
   "execution_count": null,
   "id": "728f692b-47e3-4be4-a2e5-9c0cc4f84c9d",
   "metadata": {},
   "outputs": [],
   "source": [
    "mac_function = decoupler_helpers.prepare_db_for_gsea(mac_function, min_geneset_size=1)"
   ]
  },
  {
   "cell_type": "code",
   "execution_count": null,
   "id": "8e570adc-4a06-40b6-92f1-b55e5f39c15f",
   "metadata": {},
   "outputs": [],
   "source": [
    "dc.run_aucell(adata_mac, mac_function, source='geneset', target='genesymbol', use_raw=False)"
   ]
  },
  {
   "cell_type": "code",
   "execution_count": null,
   "id": "c35f5673-876c-4b60-8649-c34a6e5b59d9",
   "metadata": {},
   "outputs": [],
   "source": [
    "adata_mac.obs[important_terms] = adata_mac.obsm[\"aucell_estimate\"][important_terms]"
   ]
  },
  {
   "cell_type": "code",
   "execution_count": null,
   "id": "e2ae61d1-cd24-4b37-8c29-64ae1d4bee44",
   "metadata": {},
   "outputs": [],
   "source": [
    "for term in important_terms:\n",
    "    fig, (ax1) = plt.subplots(1,1)\n",
    "    ax1.set_aspect('equal')\n",
    "    sc.pl.umap(adata_mac, color = term,  size=umap_continuous_point_size, alpha= umap_continuous_transparency, color_map='magma', ax = ax1, save = '_{}.png'.format(term).replace(\" \",\"_\") if save_figure else None)"
   ]
  },
  {
   "cell_type": "markdown",
   "id": "7db56be0-9b9e-4d22-9d78-d621ff2bf69f",
   "metadata": {},
   "source": [
    "# Fig 1 K (left): Expression of marker genes (cycling macrophages are greyed out)"
   ]
  },
  {
   "cell_type": "code",
   "execution_count": null,
   "id": "a02bc50b-03cc-4caa-b919-f9f6ccd78abb",
   "metadata": {},
   "outputs": [],
   "source": [
    "marker_genes = ['Arg1', 'Spp1',  'H2-Eb1', 'Cxcl9']"
   ]
  },
  {
   "cell_type": "code",
   "execution_count": null,
   "id": "e350a5eb-f2c9-4b09-a45d-85527e9c42f3",
   "metadata": {},
   "outputs": [],
   "source": [
    "for gene in marker_genes:\n",
    "    ax1 = sc.pl.umap(adata_mac, color = None, size= umap_continuous_point_size, alpha= umap_continuous_transparency, show = False)\n",
    "    ax1.set_aspect('equal')\n",
    "    sc.pl.umap(adata_mac[adata_mac.obs.Cycling == 0], color = gene, size=umap_continuous_point_size, alpha= umap_continuous_transparency, cmap='YlGnBu', ax = ax1, save = '_{}_wo_Cycling.png'.format(gene) if save_figure else None)"
   ]
  },
  {
   "cell_type": "markdown",
   "id": "b2b54988-29f1-4234-b9be-3083e9b6872b",
   "metadata": {},
   "source": [
    "# Fig 1 K (right): Co-expression plots (Spp1, Cxcl9)"
   ]
  },
  {
   "cell_type": "code",
   "execution_count": null,
   "id": "9b4bdc96-1dac-415b-83d2-c7e476b6591e",
   "metadata": {},
   "outputs": [],
   "source": [
    "df = sc.get.obs_df(adata_mac, keys = ['Spp1', 'Cxcl9'])"
   ]
  },
  {
   "cell_type": "code",
   "execution_count": null,
   "id": "56d2ce5e-e213-49a4-9b06-ec789d421710",
   "metadata": {},
   "outputs": [],
   "source": [
    "conditions = [\n",
    "    (df['Cxcl9'] > 0) & (df['Spp1'] > 0),\n",
    "    (df['Cxcl9'] > 0) & (df['Spp1'] == 0),\n",
    "    (df['Cxcl9'] == 0)& (df['Spp1'] > 0),\n",
    "    (df['Cxcl9'] == 0)& (df['Spp1'] == 0),\n",
    "]\n",
    "\n",
    "results = ['Cxcl9 & Spp1', 'Cxcl9', 'Spp1', 'none']\n",
    "\n",
    "adata_mac.obs['Cxcl9_Spp1'] = np.select(conditions, results)"
   ]
  },
  {
   "cell_type": "code",
   "execution_count": null,
   "id": "d72d2087-87e9-4da8-ae95-6db5c8714a66",
   "metadata": {},
   "outputs": [],
   "source": [
    "Cxcl9_Spp1_colors= {'Cxcl9':'#40E0D0', 'Spp1':'#FF1493', 'Cxcl9 & Spp1': '#5D29A6', 'none': '#F2F2F2'}"
   ]
  },
  {
   "cell_type": "code",
   "execution_count": null,
   "id": "c72b2c24-bc69-4040-bed5-acda2339fe82",
   "metadata": {},
   "outputs": [],
   "source": [
    "fig, (ax1) = plt.subplots(1,1)\n",
    "ax1.set_aspect('equal')\n",
    "sc.pl.umap(adata_mac[adata_mac.obs.Cycling <= 0], color = 'Cxcl9_Spp1', size = umap_point_size, alpha = umap_transparency, palette=Cxcl9_Spp1_colors, ax = ax1, save = '_Cxcl9_Spp1_coexpression_categorical.png')"
   ]
  },
  {
   "cell_type": "code",
   "execution_count": null,
   "id": "b66891bf-9bd6-45ba-81ba-61fef939a697",
   "metadata": {},
   "outputs": [],
   "source": [
    "adata_mac_wo_cycling = adata_mac[adata_mac.obs.Cycling <= 0].copy()"
   ]
  },
  {
   "cell_type": "code",
   "execution_count": null,
   "id": "a8afb4bd-a613-46b8-8cfd-7945f4b9d0a8",
   "metadata": {},
   "outputs": [],
   "source": [
    "bicolor_embedding_plot.bicolor_embedding_plot(adata_mac_wo_cycling, x_key= 'Spp1', y_key='Cxcl9', embedding='umap', save_path=path_to_results)"
   ]
  },
  {
   "cell_type": "markdown",
   "id": "8f0be544-69a9-4d16-b075-f5858fcdf332",
   "metadata": {},
   "source": [
    "# TAM Nrf2 scoring"
   ]
  },
  {
   "cell_type": "code",
   "execution_count": null,
   "id": "dbe180ab-9d01-4693-b0dc-8f2e2cdceb86",
   "metadata": {},
   "outputs": [],
   "source": [
    "database_path = pathlib.Path('../../shared/databases/')\n",
    "numof_genes = 150\n",
    "KOvsWT_down_genelist = pd.read_csv(database_path / '{}_KO--over--WT_Down-Regulated.csv'.format(numof_genes), header=0).gene_name\n",
    "KOvsWT_up_genelist = pd.read_csv(database_path / '{}_KO--over--WT_Up-Regulated.csv'.format(numof_genes), header=0).gene_name"
   ]
  },
  {
   "cell_type": "code",
   "execution_count": null,
   "id": "3f86ca9f-23a1-4f82-ba6d-85d2183587ae",
   "metadata": {},
   "outputs": [],
   "source": [
    "sc.tl.score_genes(adata_mac, gene_list=KOvsWT_down_genelist, score_name='KOvsWT_down_score')"
   ]
  },
  {
   "cell_type": "code",
   "execution_count": null,
   "id": "b77d1b00-1144-4ea5-bf21-fb99decf3269",
   "metadata": {},
   "outputs": [],
   "source": [
    "sc.tl.score_genes(adata_mac, gene_list=KOvsWT_up_genelist, score_name='KOvsWT_up_score')"
   ]
  },
  {
   "cell_type": "code",
   "execution_count": null,
   "id": "689baf69-72da-49cd-8545-a596d35653b6",
   "metadata": {},
   "outputs": [],
   "source": [
    "sc.pl.umap(adata_mac, color = ['KOvsWT_up_score'], vmin = 'p0.5', vmax = 'p99.5', size=umap_continuous_point_size, alpha= umap_continuous_transparency, color_map='magma')"
   ]
  },
  {
   "cell_type": "code",
   "execution_count": null,
   "id": "c7fe648a-d53a-4b87-93e8-571c628dbb83",
   "metadata": {},
   "outputs": [],
   "source": [
    "fig, (ax1) = plt.subplots(1,1)\n",
    "ax1.set_aspect('equal')\n",
    "sc.pl.umap(adata_mac, color = 'KOvsWT_down_score', vmin = 'p0.5', vmax = 'p99.5', size=umap_continuous_point_size, alpha= umap_continuous_transparency, color_map='magma', ax = ax1, save = '_{}.png'.format('KOvsWT_down_score') if save_figure else None)"
   ]
  },
  {
   "cell_type": "code",
   "execution_count": null,
   "id": "ae0d31e2-8dd2-4fc0-841e-dde74778c527",
   "metadata": {},
   "outputs": [],
   "source": [
    "adata_mac.obs['KOvsWT_up_minus_down_score'] = adata_mac.obs.KOvsWT_up_score - adata_mac.obs.KOvsWT_down_score\n",
    "vmax = adata_mac.obs.KOvsWT_up_minus_down_score.abs().quantile(q = 0.99)\n",
    "vmin = -vmax\n",
    "fig, (ax1) = plt.subplots(1,1)\n",
    "ax1.set_aspect('equal')\n",
    "sc.pl.umap(adata_mac, color = 'KOvsWT_up_minus_down_score', vmin = 'p0.5', vmax = 'p99.5', size=umap_continuous_point_size, alpha= umap_continuous_transparency, color_map='magma', ax = ax1, save = '_{}.png'.format('KOvsWT_down_score') if save_figure else None)"
   ]
  },
  {
   "cell_type": "markdown",
   "id": "03dd766c-585a-4c17-b776-ccc47bfda301",
   "metadata": {},
   "source": [
    "# Fig 3D"
   ]
  },
  {
   "cell_type": "code",
   "execution_count": null,
   "id": "f1923917-8f85-4abe-8085-c615aa84e4d2",
   "metadata": {},
   "outputs": [],
   "source": [
    "adata_mac.obs['KOvsWT_up_minus_down_score_quartile'] = pd.qcut(adata_mac.obs['KOvsWT_up_minus_down_score'], q = 4, labels=['lowest', 'intermediate-low', 'intermediate-high', 'highest'])"
   ]
  },
  {
   "cell_type": "code",
   "execution_count": null,
   "id": "8fecdaa8-6422-4403-850b-f4f47332f8f6",
   "metadata": {},
   "outputs": [],
   "source": [
    "quartile_colors= {'lowest':'#40E0D0', 'highest':'#FF1493', 'intermediate-low': '#5D29A6', 'intermediate-high': '#5D29A6'}"
   ]
  },
  {
   "cell_type": "code",
   "execution_count": null,
   "id": "b1adad33-9b47-4c02-98e2-5868e3040def",
   "metadata": {},
   "outputs": [],
   "source": [
    "adata_mac_wo_cycling = adata_mac[adata_mac.obs.Cycling <= 0].copy()"
   ]
  },
  {
   "cell_type": "code",
   "execution_count": null,
   "id": "22bf44f0-186f-4fe5-af49-11907ba75980",
   "metadata": {},
   "outputs": [],
   "source": [
    "ax1 = sc.pl.umap(adata_mac, color = None, show=False)\n",
    "ax1.set_aspect('equal')\n",
    "sc.pl.umap(adata_mac_wo_cycling, color = 'KOvsWT_up_minus_down_score_quartile', size=umap_point_size, alpha= umap_transparency, palette =quartile_colors, ax = ax1, save = '_{}.png'.format('KOvsWT_down_score_quartiles') if save_figure else None)"
   ]
  },
  {
   "cell_type": "code",
   "execution_count": null,
   "id": "6a34eecb-a0b0-4f43-9ffc-1c43802e8be9",
   "metadata": {},
   "outputs": [],
   "source": [
    "adata_mac.obs_keys()"
   ]
  },
  {
   "cell_type": "code",
   "execution_count": null,
   "id": "6d94829e-1afa-4712-bf49-0ba2ac3ea8e7",
   "metadata": {},
   "outputs": [],
   "source": [
    "sc.pl.violin(adata_mac, keys='KOvsWT_up_minus_down_score', groupby='Cxcl9_Spp1', palette = Cxcl9_Spp1_colors, stripplot=False, inner = 'box', rotation=90,save = 'KOvsWTscore_vs_Spp1_Cxcl9.svg')"
   ]
  },
  {
   "cell_type": "code",
   "execution_count": null,
   "id": "36279979-588c-477e-adc4-e8428f26bbe2",
   "metadata": {},
   "outputs": [],
   "source": []
  }
 ],
 "metadata": {
  "language_info": {
   "name": "python",
   "pygments_lexer": "ipython3"
  }
 },
 "nbformat": 4,
 "nbformat_minor": 5
}
