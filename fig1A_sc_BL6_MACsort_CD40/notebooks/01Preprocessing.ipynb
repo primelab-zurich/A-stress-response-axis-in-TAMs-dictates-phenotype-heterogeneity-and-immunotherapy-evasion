{
 "cells": [
  {
   "cell_type": "markdown",
   "id": "37c3b755-d4bf-4dee-9986-89be3a6adfe8",
   "metadata": {},
   "source": [
    "#KeapKO, Nrf2KO, WT days 5 and 8\n",
    "Python analysis using scanpy 1.9 Docker image: cr.gitlab.uzh.ch/elena.duerst/docker-images/scanpy1p9_bioc:0.10"
   ]
  },
  {
   "cell_type": "code",
   "execution_count": null,
   "id": "2dfee9d4-668c-46d6-9416-4fbffd889f1d",
   "metadata": {},
   "outputs": [],
   "source": [
    "import numpy as np\n",
    "import pandas as pd\n",
    "import scanpy as sc\n",
    "import seaborn as sns\n",
    "import matplotlib.pyplot as plt\n",
    "# import scanorama\n",
    "import scipy\n",
    "import pathlib\n",
    "import anndata as anndata\n",
    "import scvelo as scv\n",
    "import matplotlib as mpl\n",
    "#import helpers\n",
    "#import scanpy_cluster_proportions"
   ]
  },
  {
   "cell_type": "code",
   "execution_count": null,
   "id": "0184adf6-db29-4610-a235-e4ee22a725b0",
   "metadata": {},
   "outputs": [],
   "source": [
    "import rpy2.rinterface_lib.callbacks as rcb\n",
    "import rpy2.robjects as ro\n",
    "import anndata2ri\n",
    "import logging"
   ]
  },
  {
   "cell_type": "code",
   "execution_count": null,
   "id": "3312a522-1797-4c13-bb78-f1936cc8ff9c",
   "metadata": {},
   "outputs": [],
   "source": [
    "rcb.logger.setLevel(logging.ERROR) # Ignore R warning messages\n",
    "ro.pandas2ri.activate()\n",
    "anndata2ri.activate()\n",
    "%load_ext rpy2.ipython"
   ]
  },
  {
   "cell_type": "code",
   "execution_count": null,
   "id": "709b81f4-08e4-491e-808a-d2370471fd77",
   "metadata": {},
   "outputs": [],
   "source": [
    "new_rc_params = {'text.usetex': False,\n",
    "\"svg.fonttype\": 'none'\n",
    "}\n",
    "mpl.rcParams.update(new_rc_params)"
   ]
  },
  {
   "cell_type": "code",
   "execution_count": null,
   "id": "b1c60147-130e-48dc-8ad3-e959757b6b20",
   "metadata": {},
   "outputs": [],
   "source": [
    "sc.settings.verbosity = 3             # verbosity: errors (0), warnings (1), info (2), hints (3)\n",
    "sc.logging.print_header()\n",
    "sc.settings.set_figure_params(dpi=100, facecolor='white', figsize = (4,4), dpi_save=300, frameon = False)\n",
    "results_path = '../results/preprocessing'\n",
    "sc.settings.figdir = results_path\n",
    "umap_point_size = 30\n",
    "umap_transparency = 0.3\n",
    "umap_continuous_point_size = 30\n",
    "umap_continuous_transparency = 0.7\n",
    "aspect_ratio = 1\n",
    "save_figure = False"
   ]
  },
  {
   "cell_type": "code",
   "execution_count": null,
   "id": "9e0f230b-e174-41c7-97bc-2c6c0d0fca0e",
   "metadata": {},
   "outputs": [],
   "source": [
    "intermediate_data_path = pathlib.Path('../data/intermediate/')\n",
    "intermediate_data_path.mkdir(parents=True, exist_ok=True)\n",
    "results_file = pathlib.Path(intermediate_data_path) / 'preprocessed.h5ad'\n",
    "data_path = pathlib.Path('../data/raw')"
   ]
  },
  {
   "cell_type": "markdown",
   "id": "8f5f0589-0eae-4fdc-80a2-fdc8667987d8",
   "metadata": {},
   "source": [
    "# Data import"
   ]
  },
  {
   "cell_type": "markdown",
   "id": "b4289a88-68af-423b-a28c-67a167d5620e",
   "metadata": {},
   "source": [
    "# TODO: use GEO link as backup link"
   ]
  },
  {
   "cell_type": "code",
   "execution_count": null,
   "id": "b7264638-68d6-4227-a685-3f623b8e3584",
   "metadata": {},
   "outputs": [],
   "source": [
    "sample_files = list(data_path.glob('*_filtered_feature_bc_matrix.h5'))\n",
    "adatas = {}\n",
    "for sam in sample_files:\n",
    "    adata = sc.read_10x_h5(sam)\n",
    "    sample_name = sam.name.replace('_filtered_feature_bc_matrix.h5', '')\n",
    "    adata.obs['sample'] = sample_name\n",
    "    print(sample_name)\n",
    "    print(adata.shape)\n",
    "    adata.var_names_make_unique()\n",
    "    adatas[sample_name] = adata"
   ]
  },
  {
   "cell_type": "markdown",
   "id": "2a74ebe1-2201-4d6f-b29d-34fbce72c5e4",
   "metadata": {},
   "source": [
    "# QC"
   ]
  },
  {
   "cell_type": "code",
   "execution_count": null,
   "id": "36b570b7-5dfb-4b22-86f0-0165b6ea6df1",
   "metadata": {},
   "outputs": [],
   "source": [
    " for name,adata in adatas.items():\n",
    "    adata.var['mt'] = adata.var_names.str.startswith('mt-')\n",
    "    sc.pp.calculate_qc_metrics(adata, qc_vars=['mt'], percent_top=None, log1p=False, inplace=True)\n",
    "    adata.var['Rp'] = adata.var_names.str.startswith('Rp')\n",
    "    sc.pp.calculate_qc_metrics(adata, qc_vars=['Rp'], percent_top=None, log1p=False, inplace=True)"
   ]
  },
  {
   "cell_type": "code",
   "execution_count": null,
   "id": "62735ede-741b-4588-ba78-68e6036d95ee",
   "metadata": {},
   "outputs": [],
   "source": [
    " for name, ad in adatas.items():\n",
    "    print(name)\n",
    "    print(ad.shape)\n",
    "    sc.pl.violin(ad, ['n_genes_by_counts', 'total_counts', 'pct_counts_mt', 'pct_counts_Rp'],\n",
    "             jitter=0.4, multi_panel=True, save = f\"{name}.png\" if save_figure else None)"
   ]
  },
  {
   "cell_type": "code",
   "execution_count": null,
   "id": "c52d0eae-3a76-48c4-9dbe-0d7338e67c9f",
   "metadata": {},
   "outputs": [],
   "source": [
    "for name, adata in adatas.items():\n",
    "    print(name)\n",
    "    sc.pl.scatter(adata, x='total_counts', y='pct_counts_mt', color= 'n_genes_by_counts')\n",
    "    sc.pl.scatter(adata, x='total_counts', y='n_genes_by_counts', color = \"pct_counts_mt\")\n",
    "    sc.pl.scatter(adata, x='pct_counts_mt', y='pct_counts_Rp', color = 'n_genes_by_counts')"
   ]
  },
  {
   "cell_type": "code",
   "execution_count": null,
   "id": "51d459f3-077d-4d46-8e4f-ae7ff490411e",
   "metadata": {},
   "outputs": [],
   "source": [
    "min_numof_genes = 200\n",
    "max_numof_genes = 10000#7000\n",
    "for name, adata in adatas.items():\n",
    "    fig, axs = plt.subplots(1, 4, figsize=(12, 3))\n",
    "    fig.suptitle(f\"Covariates for filtering: {name}\")\n",
    "\n",
    "    sns.histplot(adata.obs[\"total_counts\"], kde=False, ax=axs[0])\n",
    "    sns.histplot(\n",
    "        adata.obs[\"total_counts\"][adata.obs[\"total_counts\"] < 40000],\n",
    "        kde=False,\n",
    "        bins=40,\n",
    "        ax=axs[1],\n",
    "    )\n",
    "    plot = sns.histplot(adata.obs[\"n_genes_by_counts\"], kde=False, bins=60, ax=axs[2])\n",
    "    plot.axvline(x = min_numof_genes, color = 'red')\n",
    "    plot.axvline(x = max_numof_genes, color = 'red')\n",
    "    sns.histplot(\n",
    "        adata.obs[\"n_genes_by_counts\"][adata.obs[\"n_genes_by_counts\"] < min_numof_genes + 1000],\n",
    "        kde=False,\n",
    "        bins=60,\n",
    "        ax=axs[3],\n",
    "    )\n",
    "    plt.axvline(x = min_numof_genes, color = 'red')"
   ]
  },
  {
   "cell_type": "markdown",
   "id": "a3c0b438-1f2b-4e14-94cd-b7114337fd3f",
   "metadata": {},
   "source": [
    "# Filtering"
   ]
  },
  {
   "cell_type": "code",
   "execution_count": null,
   "id": "5cca172d-8d27-4d18-9336-53f46bfdaa54",
   "metadata": {},
   "outputs": [],
   "source": [
    "max_pct_mt = 5\n",
    "for name, adata in adatas.items():\n",
    "    adatas[name] = adata[adata.obs['pct_counts_mt'] < max_pct_mt , :]"
   ]
  },
  {
   "cell_type": "code",
   "execution_count": null,
   "id": "e46f2b86-f620-482f-b1d4-b7b178dcb9c6",
   "metadata": {},
   "outputs": [],
   "source": [
    " for adata in adatas.values():\n",
    "    sc.pp.filter_cells(adata, min_genes = min_numof_genes)\n",
    "    sc.pp.filter_cells(adata, max_genes = max_numof_genes)\n",
    "    sc.pp.filter_genes(adata, min_cells = 1)\n",
    "    print(adata.shape)"
   ]
  },
  {
   "cell_type": "markdown",
   "id": "0efe1334-28f6-4929-b52e-fe39a67b88c7",
   "metadata": {},
   "source": [
    "# QC after filtering"
   ]
  },
  {
   "cell_type": "code",
   "execution_count": null,
   "id": "5756cfab-5bdc-4dce-b643-13c06d3d110f",
   "metadata": {},
   "outputs": [],
   "source": [
    "for name, adata in adatas.items():\n",
    "    sc.pl.violin(adata, ['n_genes_by_counts', 'total_counts', 'pct_counts_mt', 'pct_counts_Rp'],\n",
    "             jitter=0.4, multi_panel=True, save = f\"{name}_filtered.png\" if save_figure else None)"
   ]
  },
  {
   "cell_type": "markdown",
   "id": "5f3ea472-3fa7-448e-9188-0499a9d2cae0",
   "metadata": {},
   "source": [
    "# Normalization, transformation and PCA"
   ]
  },
  {
   "cell_type": "markdown",
   "id": "7053cfb4-601c-46a8-b748-130f04d09158",
   "metadata": {},
   "source": [
    "# Normalization"
   ]
  },
  {
   "cell_type": "code",
   "execution_count": null,
   "id": "5e9ed64b-2380-4885-a3cb-1945662fdd7c",
   "metadata": {},
   "outputs": [],
   "source": [
    "for name, adata in adatas.items():\n",
    "    adatas[name].layers['counts'] = adata.X"
   ]
  },
  {
   "cell_type": "markdown",
   "id": "92ad0c01-98d6-4d56-8e12-5c84a304ad13",
   "metadata": {},
   "source": [
    "## Shifted logarithm"
   ]
  },
  {
   "cell_type": "code",
   "execution_count": null,
   "id": "2eca0a41-9c72-4692-95a9-ff6ef8b64da7",
   "metadata": {},
   "outputs": [],
   "source": [
    "for name, adata in adatas.items():\n",
    "    scales_counts = sc.pp.normalize_total(adata, target_sum=None, inplace=False)\n",
    "    adatas[name].layers[\"log1p_norm\"] = sc.pp.log1p(scales_counts[\"X\"], copy=True)"
   ]
  },
  {
   "cell_type": "markdown",
   "id": "9bf10833-9fc7-4648-9d7c-14d9c2ab430e",
   "metadata": {},
   "source": [
    "## scran"
   ]
  },
  {
   "cell_type": "code",
   "execution_count": null,
   "id": "06ec0012-1c03-4a34-b2ba-008369575e5c",
   "metadata": {},
   "outputs": [],
   "source": [
    "def normalize_scran(adata):\n",
    "    # Preliminary clustering for differentiated normalisation\n",
    "    adata_pp = adata.copy()\n",
    "    sc.pp.normalize_total(adata_pp)\n",
    "    sc.pp.log1p(adata_pp)\n",
    "    sc.pp.pca(adata_pp, n_comps=15)\n",
    "    sc.pp.neighbors(adata_pp)\n",
    "    sc.tl.leiden(adata_pp, key_added=\"groups\")\n",
    "    input_groups = adata_pp.obs[\"groups\"]\n",
    "    data_mat = adata_pp.X.T\n",
    "    # convert to CSC if possible. See https://github.com/MarioniLab/scran/issues/70\n",
    "    if scipy.sparse.issparse(data_mat):\n",
    "        if data_mat.nnz > 2**31 - 1:\n",
    "            data_mat = data_mat.tocoo()\n",
    "    else:\n",
    "        data_mat = data_mat.tocsc()\n",
    "    \n",
    "    %R -i data_mat,input_groups -o size_factors library(scran);library(BiocParallel); size_factors = sizeFactors(computeSumFactors(SingleCellExperiment(list(counts=data_mat)), clusters = input_groups, min.mean = 0.1, BPPARAM = MulticoreParam()))\n",
    "    \n",
    "    adata.obs[\"size_factors\"] = size_factors\n",
    "    scran = adata.X / adata.obs[\"size_factors\"].values[:, None]\n",
    "    adata.layers[\"scran_normalization\"] = scipy.sparse.csr_matrix(sc.pp.log1p(scran))\n",
    "    return adata"
   ]
  },
  {
   "cell_type": "code",
   "execution_count": null,
   "id": "f751db18-1838-4937-882a-00f3e0742854",
   "metadata": {},
   "outputs": [],
   "source": [
    "for name, adata in adatas.items():\n",
    "    adatas[name] = normalize_scran(adata)"
   ]
  },
  {
   "cell_type": "code",
   "execution_count": null,
   "id": "f2017fd7-1e89-46f1-b328-d8ff3547ed8e",
   "metadata": {},
   "outputs": [],
   "source": [
    "for name, adata in adatas.items():\n",
    "    sc.pp.highly_variable_genes(adata, n_top_genes=5000, layer = 'scran_normalization', inplace=True)"
   ]
  },
  {
   "cell_type": "markdown",
   "id": "91c989a2-9c82-4ee3-9f24-8d317c54b860",
   "metadata": {},
   "source": [
    "for adata in adatas:\n",
    "    sc.experimental.pp.normalize_pearson_residuals(adata)\n",
    "    helpers.assert_all_finite(adata.X)"
   ]
  },
  {
   "cell_type": "code",
   "execution_count": null,
   "id": "e2f58057-e55b-4cde-9cc4-968ed227699f",
   "metadata": {},
   "outputs": [],
   "source": [
    "for name, adata in adatas.items():\n",
    "    adatas[name].X = adata.layers['scran_normalization']"
   ]
  },
  {
   "cell_type": "code",
   "execution_count": null,
   "id": "41b30898-cd2a-4d61-861c-4d4bfa92473d",
   "metadata": {},
   "outputs": [],
   "source": [
    "for name, adata in adatas.items():\n",
    "    sc.pp.pca(adata, svd_solver='arpack',use_highly_variable=True)"
   ]
  },
  {
   "cell_type": "code",
   "execution_count": null,
   "id": "3ec2dae1-54d2-4265-a23e-0434bc040cad",
   "metadata": {},
   "outputs": [],
   "source": [
    "for name, adata in adatas.items():\n",
    "    print(name)\n",
    "    sc.pl.pca_overview(adata, color = ['n_genes_by_counts','total_counts','pct_counts_mt', 'pct_counts_Rp'], components = ['1,2', '2,3'], frameon = True)"
   ]
  },
  {
   "cell_type": "markdown",
   "id": "e343c3c8-37d4-4924-906f-722f2956be1b",
   "metadata": {},
   "source": [
    "# Dimensionality reduction and clustering"
   ]
  },
  {
   "cell_type": "code",
   "execution_count": null,
   "id": "31421cb8-3230-407a-8991-263f3faf3876",
   "metadata": {},
   "outputs": [],
   "source": [
    "for name, adata in adatas.items():\n",
    "    sc.pp.neighbors(adata,\n",
    "                n_neighbors=15,\n",
    "                n_pcs=15\n",
    "               )\n",
    "    sc.tl.leiden(adata, resolution = 0.2)\n",
    "    sc.tl.umap(adata)\n",
    "    sc.pl.umap(adata, color = 'leiden', title = name)"
   ]
  },
  {
   "cell_type": "code",
   "execution_count": null,
   "id": "06652e7d-4ca8-4786-b1f7-be009e024d68",
   "metadata": {},
   "outputs": [],
   "source": [
    "gene_list = ['Cxcl9', 'Cxcl10', 'Cd40', 'Ccl5', 'Adgre1', 'S100a8', 'Cd3e', 'Csf1r', 'Csf3r', 'Cd19', 'Gzmb', 'Itgax', 'Itgam', 'Twist1', 'Tead1']"
   ]
  },
  {
   "cell_type": "code",
   "execution_count": null,
   "id": "9506d16a-d8d1-416b-84f2-542342f9494d",
   "metadata": {},
   "outputs": [],
   "source": [
    "for name, adata in adatas.items():\n",
    "    print(name)\n",
    "    sc.pl.umap(adata, color = set(adata.var_names).intersection(gene_list), layer = 'scran_normalization')"
   ]
  },
  {
   "cell_type": "code",
   "execution_count": null,
   "id": "ec8cff64-a6db-4e55-9fff-90171431af2d",
   "metadata": {},
   "outputs": [],
   "source": [
    "for name, adata in adatas.items():\n",
    "    print(name)\n",
    "    sc.pl.umap(adata, color= ['n_genes_by_counts', 'total_counts', 'leiden','Ptprc', 'Cd3e', 'Cd19', 'S100a8'], ncols = 7, save = False) #  layer = 'counts',"
   ]
  },
  {
   "cell_type": "code",
   "execution_count": null,
   "id": "a2d967ac-063f-4eef-8c25-5d1102f0e7d7",
   "metadata": {},
   "outputs": [],
   "source": [
    "for name, adata in adatas.items():\n",
    "    sc.tl.rank_genes_groups(adata, groupby = 'leiden', method = 'wilcoxon')\n",
    "    sc.pl.rank_genes_groups(adata, sharey=False)"
   ]
  },
  {
   "cell_type": "markdown",
   "id": "cf426d91-b6dd-4a81-93e1-3d217f0729ac",
   "metadata": {},
   "source": [
    " for adata, sam in zip(adatas, samples):\n",
    "    print(sam)\n",
    "    sc.pl.umap(adata, color= ['doublet_score', 'leiden'], layer = 'log_norm', wspace = 0.5, ncols = 4, save = False)\n",
    "    "
   ]
  },
  {
   "cell_type": "markdown",
   "id": "46a09679-fb0f-4e0d-94cd-9eac927ed596",
   "metadata": {},
   "source": [
    "# Manual annotation"
   ]
  },
  {
   "cell_type": "code",
   "execution_count": null,
   "id": "a4b02ae2-03b8-410c-9384-4c89d58198d7",
   "metadata": {},
   "outputs": [],
   "source": [
    "cluster2celltype = {\n",
    "    '1xCD40':{\n",
    "        '0': 'Macrophages',\n",
    "        '1': 'Macrophages',\n",
    "        '2': 'Neutrophils',\n",
    "        '3': 'T-cells',\n",
    "        '4': 'Tumor cells'\n",
    "    },\n",
    "    '3xCD40': {\n",
    "        '0': 'Macrophages',\n",
    "        '1': 'Neutrophils',\n",
    "        '2': 'T-cells/Neutrophils?',\n",
    "        '3': 'T-cells',\n",
    "        '4': 'Macrophages',\n",
    "        '5': 'Macrophages',\n",
    "        '6': 'Macrophages',\n",
    "        '7': 'T-cells & unknown',\n",
    "        '8': 'Macrophages', # possibly hybrid\n",
    "        '9': 'T-cells',\n",
    "        '10': 'Tumor cells'\n",
    "    },\n",
    "    'ctrl': {\n",
    "        '0': 'Macrophages',\n",
    "        '1': 'Macrophages',\n",
    "        '2': 'T-cells',\n",
    "        '3': 'Neutrophils',\n",
    "        '4': 'unknown',\n",
    "        '5': 'Tumor cells',\n",
    "        '6': 'Macrophages', # also contains some T-cells\n",
    "        '7': 'Macrophages'\n",
    "    }\n",
    "}"
   ]
  },
  {
   "cell_type": "code",
   "execution_count": null,
   "id": "d710b109-bbda-47c3-99b7-440046fcc0d3",
   "metadata": {},
   "outputs": [],
   "source": [
    "for name, adata in adatas.items():\n",
    "    adata.obs[\"cell_type\"] = adata.obs.leiden.map(cluster2celltype[name])\n",
    "    sc.pl.umap(adata, color = 'cell_type')"
   ]
  },
  {
   "cell_type": "markdown",
   "id": "dbd81493-5537-4e29-baaa-c9023c89ef8e",
   "metadata": {},
   "source": [
    "# Save file"
   ]
  },
  {
   "cell_type": "code",
   "execution_count": null,
   "id": "36731f8c-5c9a-42a8-b532-994bd675534f",
   "metadata": {},
   "outputs": [],
   "source": [
    "for name, adata in adatas.items():\n",
    "    adata.write(pathlib.Path(intermediate_data_path) / 'preprocessed_{}.h5ad'.format(name))"
   ]
  },
  {
   "cell_type": "code",
   "execution_count": null,
   "id": "0ea01ff0-3cfe-4c36-8530-052297862990",
   "metadata": {},
   "outputs": [],
   "source": [
    "for name, adata in adatas.items():\n",
    "    ad_mac = adata[adata.obs.cell_type == 'Macrophages']\n",
    "    ad_mac.write(pathlib.Path(intermediate_data_path) / 'macrophages_{}.h5ad'.format(name))"
   ]
  },
  {
   "cell_type": "code",
   "execution_count": null,
   "id": "6bfe5eb4-bb15-4558-9cf1-dfb0bf624e95",
   "metadata": {},
   "outputs": [],
   "source": []
  }
 ],
 "metadata": {
  "language_info": {
   "name": "python",
   "pygments_lexer": "ipython3"
  }
 },
 "nbformat": 4,
 "nbformat_minor": 5
}
