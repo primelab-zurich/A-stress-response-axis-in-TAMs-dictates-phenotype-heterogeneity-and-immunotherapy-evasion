{
 "cells": [
  {
   "cell_type": "markdown",
   "id": "cfdce937-c419-406d-ab54-bc68dafc63e0",
   "metadata": {},
   "source": [
    "# Analysis of macrophages"
   ]
  },
  {
   "cell_type": "code",
   "execution_count": null,
   "id": "63f765b7-aafd-403a-8f4c-ad51df164dd7",
   "metadata": {},
   "outputs": [],
   "source": [
    "import scanpy as sc\n",
    "import gseapy as gp\n",
    "import numpy as np\n",
    "import pandas as pd\n",
    "import seaborn as sns\n",
    "import matplotlib.pyplot as plt\n",
    "import matplotlib as mpl\n",
    "import scipy as scipy\n",
    "import pathlib\n",
    "import anndata\n",
    "import decoupler as dc\n",
    "import itertools\n",
    "import seaborn.objects as so"
   ]
  },
  {
   "cell_type": "code",
   "execution_count": null,
   "id": "caf8fc20-28de-4694-9f0b-88ab89a8edc4",
   "metadata": {},
   "outputs": [],
   "source": [
    "dc.__version__ # need version >= 1.6.0 for zero division error (\"when many 0s were present\") see changelog dc"
   ]
  },
  {
   "cell_type": "code",
   "execution_count": null,
   "id": "97f2ba6c-0a99-4819-a9a7-678c96434319",
   "metadata": {},
   "outputs": [],
   "source": [
    "import sys\n",
    "sys.path.insert(0, \"../../shared/src\")\n",
    "import decoupler_helpers\n",
    "import bicolor_embedding_plot"
   ]
  },
  {
   "cell_type": "code",
   "execution_count": null,
   "id": "48e17ec9-7dd2-4ccf-bf61-dd69f24006b0",
   "metadata": {},
   "outputs": [],
   "source": [
    "import matplotlib as mpl\n",
    "new_rc_params = {'text.usetex': False,\n",
    "\"svg.fonttype\": 'none',\n",
    "\"pdf.fonttype\": 42 # 42 is code for TrueType; when opening in Illustrator text will be represented as text\n",
    "}\n",
    "mpl.rcParams.update(new_rc_params) "
   ]
  },
  {
   "cell_type": "code",
   "execution_count": null,
   "id": "0d24c312-136e-4bf7-b209-c5e37fd7aa5f",
   "metadata": {},
   "outputs": [],
   "source": [
    "sc.settings.verbosity = 3             # verbosity: errors (0), warnings (1), info (2), hints (3)\n",
    "sc.logging.print_header()\n",
    "sc.settings.set_figure_params(dpi=150, dpi_save = 300, frameon=False, transparent = True)"
   ]
  },
  {
   "cell_type": "code",
   "execution_count": null,
   "id": "b7731cc7-e1e8-4cf6-86b1-c9a4ff0d3353",
   "metadata": {},
   "outputs": [],
   "source": [
    "path_to_intermediate_data = pathlib.Path('../data/intermediate/')\n",
    "path_to_results = pathlib.Path('../results/analysis_of_macrophages')\n",
    "sc.settings.figdir = path_to_results\n",
    "if not path_to_results.exists():\n",
    "    path_to_results.mkdir(parents= True)"
   ]
  },
  {
   "cell_type": "code",
   "execution_count": null,
   "id": "6e1afc15-1216-4941-a23a-e6f3a52e59af",
   "metadata": {},
   "outputs": [],
   "source": [
    "save_figure = True\n",
    "aspect_ratio = 1\n",
    "umap_point_size = 15\n",
    "umap_transparency = 0.3\n",
    "umap_continuous_point_size = 30\n",
    "umap_continuous_transparency = 0.7"
   ]
  },
  {
   "cell_type": "markdown",
   "id": "8b709d68-becf-41ed-a726-6474cd48e244",
   "metadata": {},
   "source": [
    "#  Import preprocessed data"
   ]
  },
  {
   "cell_type": "code",
   "execution_count": null,
   "id": "b1cef122-8771-49bb-96d3-db6c954807cc",
   "metadata": {},
   "outputs": [],
   "source": [
    "sample_files = list(path_to_intermediate_data.glob('macrophages_*.h5ad'))"
   ]
  },
  {
   "cell_type": "code",
   "execution_count": null,
   "id": "cd9533e2-f9f9-46e0-949e-c5f71a66d76c",
   "metadata": {},
   "outputs": [],
   "source": [
    "samples = [sam_file.stem.split('_')[1] for sam_file in sample_files]"
   ]
  },
  {
   "cell_type": "code",
   "execution_count": null,
   "id": "df3d4bb2-e993-4124-99cd-7c19694993de",
   "metadata": {},
   "outputs": [],
   "source": [
    "samples = ['ctrl', '1xCD40', '3xCD40']"
   ]
  },
  {
   "cell_type": "markdown",
   "id": "f5f74284-63e7-42ce-acf3-77cab309b5ef",
   "metadata": {},
   "source": [
    "adatas = {}\n",
    "for sam_file in sample_files:\n",
    "    sample_name = sam_file.stem.split('_')[1]\n",
    "    adatas[sample_name] = sc.read(sam_file)"
   ]
  },
  {
   "cell_type": "code",
   "execution_count": null,
   "id": "5673b553-5427-4f17-b338-45d6cc368b0d",
   "metadata": {},
   "outputs": [],
   "source": [
    "adatas = {}\n",
    "for sam in samples:\n",
    "    adatas[sam] = sc.read(path_to_intermediate_data / 'macrophages_{}.h5ad'.format(sam))"
   ]
  },
  {
   "cell_type": "code",
   "execution_count": null,
   "id": "51c65a0d-0024-4948-aa80-0e81eb83614f",
   "metadata": {},
   "outputs": [],
   "source": [
    "# subsample to lowest number of cells\n",
    "min_number_of_cells = min([len(ad) for ad in adatas.values()])\n",
    "for ad in adatas.values():\n",
    "    sc.pp.subsample(ad, n_obs= min_number_of_cells)"
   ]
  },
  {
   "cell_type": "code",
   "execution_count": null,
   "id": "889baf17-520d-462d-83eb-e3be5f333804",
   "metadata": {},
   "outputs": [],
   "source": [
    "adata = anndata.concat(adatas, join = \"outer\", fill_value=0)\n",
    "adata.obs_names_make_unique()"
   ]
  },
  {
   "cell_type": "code",
   "execution_count": null,
   "id": "ff42d106-29cf-4915-8ced-d24a4964dd1c",
   "metadata": {},
   "outputs": [],
   "source": [
    "adata.X = adata.layers['counts'].copy()"
   ]
  },
  {
   "cell_type": "code",
   "execution_count": null,
   "id": "13622049-fcb0-4a15-9a26-ec912ab7a2af",
   "metadata": {},
   "outputs": [],
   "source": [
    "sc.pp.normalize_total(adata)\n",
    "sc.pp.log1p(adata)\n",
    "adata.layers['log1p_norm_concat'] = adata.X.copy()"
   ]
  },
  {
   "cell_type": "code",
   "execution_count": null,
   "id": "34617501-e989-4b1a-b606-696cc552a839",
   "metadata": {},
   "outputs": [],
   "source": [
    "sc.pp.highly_variable_genes(adata)"
   ]
  },
  {
   "cell_type": "code",
   "execution_count": null,
   "id": "bd3655d6-e937-4e0b-9780-1eeae9318435",
   "metadata": {},
   "outputs": [],
   "source": [
    "sc.pp.pca(adata, n_comps=20, use_highly_variable = True)"
   ]
  },
  {
   "cell_type": "code",
   "execution_count": null,
   "id": "5cc0c4ab-d311-448a-94f8-c33221881625",
   "metadata": {},
   "outputs": [],
   "source": [
    "sc.pl.pca_overview(adata, components = ['1, 2', '2, 3'], color = ['total_counts', 'n_genes_by_counts', 'sample', 'Spp1', 'Cxcl9', 'Cxcl10', 'Arg1', 'Ccl5', 'H2-Eb1', 'Cd74'], frameon = True)"
   ]
  },
  {
   "cell_type": "code",
   "execution_count": null,
   "id": "e1725e8f-c03f-49e4-a31e-f4ff138ab14b",
   "metadata": {},
   "outputs": [],
   "source": [
    "pc1_loadings = pd.DataFrame(adata.varm['PCs'][:, 0], index=adata.var_names)"
   ]
  },
  {
   "cell_type": "code",
   "execution_count": null,
   "id": "623d1f00-3b49-4663-9395-88035d00a768",
   "metadata": {},
   "outputs": [],
   "source": [
    "pc1_loadings.columns = ['PC1']"
   ]
  },
  {
   "cell_type": "code",
   "execution_count": null,
   "id": "3a45f2b5-a6f6-4ed1-9636-7c906bc72d5f",
   "metadata": {},
   "outputs": [],
   "source": [
    "pc1_loadings = pc1_loadings.sort_values(by='PC1', ascending=False)"
   ]
  },
  {
   "cell_type": "code",
   "execution_count": null,
   "id": "c33572f0-1404-45c7-b653-f2aa5eb6108b",
   "metadata": {},
   "outputs": [],
   "source": [
    "pc1_loadings.to_csv(path_to_results / 'pc1_loadings.csv')"
   ]
  },
  {
   "cell_type": "code",
   "execution_count": null,
   "id": "d3c0f0fb-6fc5-4c49-a62e-10d37702e43f",
   "metadata": {},
   "outputs": [],
   "source": [
    "pc1_loadings"
   ]
  },
  {
   "cell_type": "code",
   "execution_count": null,
   "id": "7a419aeb-36c1-4752-8cd5-6502e65dd6ce",
   "metadata": {},
   "outputs": [],
   "source": [
    "pc1_top20 = pd.concat([pc1_loadings.nlargest(50, 'PC1'), pc1_loadings.nsmallest(50, 'PC1').sort_values(by = 'PC1', ascending=False)])"
   ]
  },
  {
   "cell_type": "code",
   "execution_count": null,
   "id": "48254c56-f59f-4f2f-94d4-040cf44bef81",
   "metadata": {},
   "outputs": [],
   "source": [
    "pc1_top20"
   ]
  },
  {
   "cell_type": "markdown",
   "id": "421d54c8-304d-4451-91a4-5d4a2f47eb63",
   "metadata": {},
   "source": [
    "# Fig 1D"
   ]
  },
  {
   "cell_type": "code",
   "execution_count": null,
   "id": "7ea78577-6693-4055-824e-4251145039e9",
   "metadata": {},
   "outputs": [],
   "source": [
    "so.Plot(pc1_top20, y=pc1_top20.index, x='PC1').add(so.Dot()).layout(size=(4, 15))"
   ]
  },
  {
   "cell_type": "markdown",
   "id": "bdcdd429-8e51-4db0-a97e-de836faebd7b",
   "metadata": {},
   "source": [
    "# Fig 1G"
   ]
  },
  {
   "cell_type": "code",
   "execution_count": null,
   "id": "d212932b-1b74-45c4-8584-d6ea397b945b",
   "metadata": {},
   "outputs": [],
   "source": [
    "inflammatory_genes = ['Cxcl9', 'Cxcl10', 'H2-Eb1']\n",
    "anti_inflammatory_genes = ['Spp1']"
   ]
  },
  {
   "cell_type": "code",
   "execution_count": null,
   "id": "c439eeef-71ba-4614-9152-2146114cb80a",
   "metadata": {},
   "outputs": [],
   "source": [
    "for x in itertools.product(anti_inflammatory_genes, inflammatory_genes):\n",
    "    print(x[0], x[1])\n",
    "    bicolor_embedding_plot.bicolor_embedding_plot(adata, x[0], x[1], save_path= path_to_results if save_figure else None)"
   ]
  },
  {
   "cell_type": "markdown",
   "id": "5faca8f4-d8fc-4d29-8a92-c79538b01ff3",
   "metadata": {},
   "source": [
    "# Fig 1C"
   ]
  },
  {
   "cell_type": "code",
   "execution_count": null,
   "id": "fad45432-e4db-4045-a112-192cb6c41ab1",
   "metadata": {},
   "outputs": [],
   "source": [
    "df = sc.get.obs_df(adata, keys=['sample'], obsm_keys=[('X_pca', 0), ('X_pca', 1)])"
   ]
  },
  {
   "cell_type": "code",
   "execution_count": null,
   "id": "b37f0af0-138e-4913-878b-fb238af9fb5d",
   "metadata": {},
   "outputs": [],
   "source": [
    "sc.pl.pca(adata, color='sample', size=umap_point_size, alpha = umap_transparency, save = '_sample.png')"
   ]
  },
  {
   "cell_type": "code",
   "execution_count": null,
   "id": "fc396ea3-ad82-452c-9555-a7f8504805b3",
   "metadata": {},
   "outputs": [],
   "source": [
    "sns.kdeplot(df, x = 'X_pca-0', hue = 'sample', fill = True)\n",
    "plt.savefig(path_to_results / 'sample_density_on_PC1_with_filling.pdf')"
   ]
  },
  {
   "cell_type": "markdown",
   "id": "d8fd769a-a771-4087-8de6-4b2f060d1e4c",
   "metadata": {},
   "source": [
    "# GSEA pc1 with Hallmark"
   ]
  },
  {
   "cell_type": "code",
   "execution_count": null,
   "id": "ab891b81-6e49-46f4-b68f-15920a902bcd",
   "metadata": {},
   "outputs": [],
   "source": [
    "msigdb = dc.get_resource('MSigDB')\n",
    "msigdb"
   ]
  },
  {
   "cell_type": "code",
   "execution_count": null,
   "id": "98023550-8e37-48a2-8963-00f7196b9e09",
   "metadata": {},
   "outputs": [],
   "source": [
    "# Filter by hallmark\n",
    "msigdb = msigdb[msigdb['collection']=='hallmark']\n",
    "\n",
    "# Remove duplicated entries\n",
    "msigdb = msigdb[~msigdb.duplicated(['geneset', 'genesymbol'])]\n",
    "msigdb"
   ]
  },
  {
   "cell_type": "code",
   "execution_count": null,
   "id": "f66493ce-30ba-4aa3-9ec3-ca1c2f81fb4b",
   "metadata": {},
   "outputs": [],
   "source": [
    "msigdb"
   ]
  },
  {
   "cell_type": "code",
   "execution_count": null,
   "id": "6220896d-e84c-4227-a661-f07a6202198b",
   "metadata": {},
   "outputs": [],
   "source": [
    "msigdb"
   ]
  },
  {
   "cell_type": "code",
   "execution_count": null,
   "id": "fe9f2a53-85b4-4eba-88b6-fe2fdd55cfb3",
   "metadata": {},
   "outputs": [],
   "source": [
    "msigdb = decoupler_helpers.prepare_db_for_gsea(msigdb)"
   ]
  },
  {
   "cell_type": "code",
   "execution_count": null,
   "id": "3fdf6c33-2206-459e-b588-70e7d6c0357d",
   "metadata": {},
   "outputs": [],
   "source": [
    "msigdb.genesymbol = msigdb.genesymbol.str.lower().str.capitalize()\n",
    "msigdb.geneset = msigdb.geneset.str.replace('HALLMARK_', '')"
   ]
  },
  {
   "cell_type": "code",
   "execution_count": null,
   "id": "2be115cb-22ad-43aa-886e-373e37bde356",
   "metadata": {},
   "outputs": [],
   "source": [
    "gsea_pc1_res = dc.get_gsea_df(pc1_loadings, stat='PC1', net=msigdb, source=\"geneset\",\n",
    "    target=\"genesymbol\", verbose = True)"
   ]
  },
  {
   "cell_type": "code",
   "execution_count": null,
   "id": "b265b2ac-5efb-454c-bcc3-ccc0f860e916",
   "metadata": {},
   "outputs": [],
   "source": [
    "gsea_pc1_res"
   ]
  },
  {
   "cell_type": "code",
   "execution_count": null,
   "id": "888d79f3-186b-4f07-bb1c-6034bfc53748",
   "metadata": {},
   "outputs": [],
   "source": [
    "gsea_pc1_res.to_csv(path_to_results / 'gsea_pc1.csv')"
   ]
  },
  {
   "cell_type": "code",
   "execution_count": null,
   "id": "87cb5bf1-f00d-49ea-a998-651dd0603d5d",
   "metadata": {},
   "outputs": [],
   "source": []
  },
  {
   "cell_type": "code",
   "execution_count": null,
   "id": "2b57d875-c755-4fc2-ac91-145db9a35892",
   "metadata": {},
   "outputs": [],
   "source": [
    "gsea_pc1_res"
   ]
  },
  {
   "cell_type": "markdown",
   "id": "a1316bb4-1bda-44e6-9848-efb12c9dc716",
   "metadata": {},
   "source": [
    "# Fig 1E"
   ]
  },
  {
   "cell_type": "code",
   "execution_count": null,
   "id": "7759cb02-cf5a-4dd0-b03a-6febec0f15fe",
   "metadata": {},
   "outputs": [],
   "source": [
    "dc.plot_dotplot(gsea_pc1_res.sort_values('NES', ascending= False).head(10)\n",
    "            .assign(**{\"-log10(FDR)\": lambda x: -np.log10(x[\"FDR p-value\"])}), x=\"NES\", y=\"Term\", c = '-log10(FDR)', s = \"NES\", scale = 2, cmap = 'viridis', save = path_to_results / 'gsea_pc1_hallmark_up.pdf')"
   ]
  },
  {
   "cell_type": "code",
   "execution_count": null,
   "id": "d0e2fece-7fe8-4d1d-bec9-9a9b708dcaa1",
   "metadata": {},
   "outputs": [],
   "source": [
    "dc.plot_dotplot(gsea_pc1_res.sort_values('NES', ascending= False).tail(10)\n",
    "            .assign(**{\"-log10(FDR)\": lambda x: -np.log10(x[\"FDR p-value\"])}), x=\"NES\", y=\"Term\", c = '-log10(FDR)', s = \"NES\", scale = 2, cmap = 'viridis', save = path_to_results / 'gsea_pc1_hallmark_down.pdf')"
   ]
  },
  {
   "cell_type": "markdown",
   "id": "31246652-8f61-4a2f-af8c-aa9af2b4464a",
   "metadata": {},
   "source": [
    "# Overrepresentation analysis"
   ]
  },
  {
   "cell_type": "code",
   "execution_count": null,
   "id": "fcffde9e-0237-4621-a777-2772b99d73ed",
   "metadata": {},
   "outputs": [],
   "source": [
    "trrust_db = decoupler_helpers.gmt_to_decoupler('../../shared/databases/TRRUST_Transcription_Factors_2019.gmt')"
   ]
  },
  {
   "cell_type": "code",
   "execution_count": null,
   "id": "1771dd01-625a-4cdc-9df3-870f7c38f574",
   "metadata": {},
   "outputs": [],
   "source": [
    "trrust_db.shape"
   ]
  },
  {
   "cell_type": "code",
   "execution_count": null,
   "id": "0014e35e-e3fa-48a5-a6c6-fd19752f9ac8",
   "metadata": {},
   "outputs": [],
   "source": [
    "trrust_db = decoupler_helpers.prepare_db_for_gsea(trrust_db)"
   ]
  },
  {
   "cell_type": "code",
   "execution_count": null,
   "id": "da2c3ce0-661f-4623-9cc9-faf551be099f",
   "metadata": {},
   "outputs": [],
   "source": [
    "trrust_db"
   ]
  },
  {
   "cell_type": "code",
   "execution_count": null,
   "id": "58a2b32f-8f2e-4a05-a9e0-129f4a6e94e5",
   "metadata": {},
   "outputs": [],
   "source": [
    "trrust_db.genesymbol = trrust_db.genesymbol.str.lower().str.capitalize()"
   ]
  },
  {
   "cell_type": "code",
   "execution_count": null,
   "id": "2272a8c2-3727-4b9c-93b5-7b18dc0b2b42",
   "metadata": {},
   "outputs": [],
   "source": [
    "ora_pc1_top20up_tf_res = dc.get_ora_df(pc1_loadings.head(20).index, net = trrust_db, source=\"geneset\",\n",
    "    target=\"genesymbol\")"
   ]
  },
  {
   "cell_type": "code",
   "execution_count": null,
   "id": "0b94f097-ef8b-4a71-8b01-addcfd43e328",
   "metadata": {},
   "outputs": [],
   "source": [
    "ora_pc1_top20down_tf_res = dc.get_ora_df(pc1_loadings.tail(20).index, net = trrust_db, source=\"geneset\",\n",
    "    target=\"genesymbol\")"
   ]
  },
  {
   "cell_type": "code",
   "execution_count": null,
   "id": "dd72f210-27e8-4cf1-88a6-2d093f32b567",
   "metadata": {},
   "outputs": [],
   "source": [
    "ora_pc1_top20down_tf_res"
   ]
  },
  {
   "cell_type": "code",
   "execution_count": null,
   "id": "763df551-6ab4-4bdd-ba68-ce93800a2a8f",
   "metadata": {},
   "outputs": [],
   "source": [
    "FDR_cutoff = 0.2\n",
    "ora_pc1_top20down_tf_res_fdr_cutoff = ora_pc1_top20up_tf_res[ora_pc1_top20up_tf_res['FDR p-value'] <= FDR_cutoff]"
   ]
  },
  {
   "cell_type": "markdown",
   "id": "3d061326-debd-451a-bcea-58b6a317279c",
   "metadata": {},
   "source": [
    "# Fig 1F"
   ]
  },
  {
   "cell_type": "code",
   "execution_count": null,
   "id": "8774bbd7-ab66-4044-be48-cadc20881290",
   "metadata": {},
   "outputs": [],
   "source": [
    "dc.plot_dotplot(ora_pc1_top20down_tf_res_fdr_cutoff.sort_values(\"Combined score\", ascending= False).head(10)\n",
    "            .assign(**{\"-log10(FDR)\": lambda x: -np.log10(x[\"FDR p-value\"])}), x=\"Combined score\", y=\"Term\", c = '-log10(FDR)', s = 'Overlap ratio', scale = 25, cmap = 'viridis', save = path_to_results / 'ora_pc1_top20up_TRRUST.pdf')"
   ]
  },
  {
   "cell_type": "code",
   "execution_count": null,
   "id": "d35b9415-2b88-4450-9f7e-656a02256faa",
   "metadata": {},
   "outputs": [],
   "source": []
  }
 ],
 "metadata": {
  "language_info": {
   "name": "python",
   "pygments_lexer": "ipython3"
  }
 },
 "nbformat": 4,
 "nbformat_minor": 5
}
