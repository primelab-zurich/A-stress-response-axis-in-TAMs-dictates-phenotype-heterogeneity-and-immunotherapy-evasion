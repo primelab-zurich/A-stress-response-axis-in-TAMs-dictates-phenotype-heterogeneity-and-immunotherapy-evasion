{
 "cells": [
  {
   "cell_type": "markdown",
   "id": "37c3b755-d4bf-4dee-9986-89be3a6adfe8",
   "metadata": {},
   "source": [
    "# Keap tumors WT vs KO\n",
    "Python analysis using scanpy 1.9.3\n",
    "Docker image: TODO add link dockerhub"
   ]
  },
  {
   "cell_type": "code",
   "execution_count": null,
   "id": "2dfee9d4-668c-46d6-9416-4fbffd889f1d",
   "metadata": {},
   "outputs": [],
   "source": [
    "import numpy as np\n",
    "import pandas as pd\n",
    "import scanpy as sc\n",
    "import seaborn as sns\n",
    "import matplotlib.pyplot as plt\n",
    "import scipy\n",
    "import pathlib\n",
    "import anndata as anndata\n",
    "import matplotlib as mpl\n",
    "import decoupler as dc"
   ]
  },
  {
   "cell_type": "code",
   "execution_count": null,
   "id": "709b81f4-08e4-491e-808a-d2370471fd77",
   "metadata": {},
   "outputs": [],
   "source": [
    "new_rc_params = {'text.usetex': False,\n",
    "\"svg.fonttype\": 'none'\n",
    "}\n",
    "mpl.rcParams.update(new_rc_params)"
   ]
  },
  {
   "cell_type": "code",
   "execution_count": null,
   "id": "746f09aa-2398-4123-b5c3-3a135b37d89e",
   "metadata": {},
   "outputs": [],
   "source": [
    "import sys\n",
    "sys.path.insert(0, \"../../shared/src\")\n",
    "import decoupler_helpers"
   ]
  },
  {
   "cell_type": "code",
   "execution_count": null,
   "id": "b1c60147-130e-48dc-8ad3-e959757b6b20",
   "metadata": {},
   "outputs": [],
   "source": [
    "sc.settings.verbosity = 3             # verbosity: errors (0), warnings (1), info (2), hints (3)\n",
    "sc.logging.print_header()\n",
    "sc.settings.set_figure_params(dpi=150, facecolor='white', dpi_save=300, frameon = False)\n",
    "results_path = '../results/'\n",
    "sc.settings.figdir = results_path\n",
    "save_figure = True\n",
    "aspect_ratio = 1\n",
    "umap_point_size = 15\n",
    "umap_transparency = 0.3\n",
    "umap_continuous_point_size = 30\n",
    "umap_continuous_transparency = 0.7"
   ]
  },
  {
   "cell_type": "code",
   "execution_count": null,
   "id": "9e0f230b-e174-41c7-97bc-2c6c0d0fca0e",
   "metadata": {},
   "outputs": [],
   "source": [
    "data_path = pathlib.Path('../data/raw')\n",
    "path_to_results = pathlib.Path('../results')\n",
    "path_to_results.mkdir(parents=True, exist_ok=True)"
   ]
  },
  {
   "cell_type": "markdown",
   "id": "8f5f0589-0eae-4fdc-80a2-fdc8667987d8",
   "metadata": {},
   "source": [
    "# Data import"
   ]
  },
  {
   "cell_type": "code",
   "execution_count": null,
   "id": "fe788be1-3bda-496f-a4db-b00fe4e8e2b1",
   "metadata": {},
   "outputs": [],
   "source": [
    "#samples = ['KeapKO_tumor_1', 'KeapKO_tumor_2', 'KeapWT_tumor_1', 'KeapWT_tumor_2']\n",
    "samples = ['KeapWT_tumor_2', 'KeapWT_tumor_1', 'KeapKO_tumor_2', 'KeapKO_tumor_1']"
   ]
  },
  {
   "cell_type": "code",
   "execution_count": null,
   "id": "b7264638-68d6-4227-a685-3f623b8e3584",
   "metadata": {},
   "outputs": [],
   "source": [
    "adatas = []\n",
    "for sam in samples:\n",
    "    adata = sc.read_10x_h5(data_path / '{}_sample_filtered_feature_bc_matrix.h5'.format(sam)) # TODO: add backup URL (GEO link)\n",
    "    adata.obs['sample'] = sam\n",
    "    genotype = sam.split('_')[0]\n",
    "    adata.obs['genotype'] = genotype\n",
    "    print(adata.shape)\n",
    "    adata.var_names_make_unique()\n",
    "    adatas.append(adata)\n"
   ]
  },
  {
   "cell_type": "markdown",
   "id": "2a74ebe1-2201-4d6f-b29d-34fbce72c5e4",
   "metadata": {},
   "source": [
    "# QC"
   ]
  },
  {
   "cell_type": "code",
   "execution_count": null,
   "id": "36b570b7-5dfb-4b22-86f0-0165b6ea6df1",
   "metadata": {},
   "outputs": [],
   "source": [
    " for adata in adatas:\n",
    "    adata.var['mt'] = adata.var_names.str.startswith('mt-')\n",
    "    sc.pp.calculate_qc_metrics(adata, qc_vars=['mt'], percent_top=None, log1p=False, inplace=True)\n",
    "    adata.var['Rp'] = adata.var_names.str.startswith('Rp') \n",
    "    sc.pp.calculate_qc_metrics(adata, qc_vars=['Rp'], percent_top=None, log1p=False, inplace=True)"
   ]
  },
  {
   "cell_type": "code",
   "execution_count": null,
   "id": "62735ede-741b-4588-ba78-68e6036d95ee",
   "metadata": {},
   "outputs": [],
   "source": [
    " for adata, name in zip(adatas, samples):\n",
    "    print(name)\n",
    "    sc.pl.violin(adata, ['n_genes_by_counts', 'total_counts', 'pct_counts_mt', 'pct_counts_Rp'],\n",
    "             jitter=0.4, multi_panel=True, save = f\"{name}.png\" if save_figure else None)"
   ]
  },
  {
   "cell_type": "code",
   "execution_count": null,
   "id": "c52d0eae-3a76-48c4-9dbe-0d7338e67c9f",
   "metadata": {},
   "outputs": [],
   "source": [
    "for adata in adatas:\n",
    "    sc.pl.scatter(adata, x='total_counts', y='pct_counts_mt', color= 'n_genes_by_counts')\n",
    "    sc.pl.scatter(adata, x='total_counts', y='n_genes_by_counts', color = \"pct_counts_mt\")\n",
    "    sc.pl.scatter(adata, x='pct_counts_mt', y='pct_counts_Rp', color = 'n_genes_by_counts')"
   ]
  },
  {
   "cell_type": "code",
   "execution_count": null,
   "id": "51d459f3-077d-4d46-8e4f-ae7ff490411e",
   "metadata": {},
   "outputs": [],
   "source": [
    "min_numof_genes = 200\n",
    "max_numof_genes = 8000#7000\n",
    "for adata, name in zip(adatas, samples):\n",
    "    fig, axs = plt.subplots(1, 4, figsize=(12, 3))\n",
    "    fig.suptitle(f\"Covariates for filtering: {name}\")\n",
    "\n",
    "    sns.histplot(adata.obs[\"total_counts\"], kde=False, ax=axs[0])\n",
    "    sns.histplot(\n",
    "        adata.obs[\"total_counts\"][adata.obs[\"total_counts\"] < 40000],\n",
    "        kde=False,\n",
    "        bins=40,\n",
    "        ax=axs[1],\n",
    "    )\n",
    "    plot = sns.histplot(adata.obs[\"n_genes_by_counts\"], kde=False, bins=60, ax=axs[2])\n",
    "    plot.axvline(x = min_numof_genes, color = 'red')\n",
    "    plot.axvline(x = max_numof_genes, color = 'red')\n",
    "    sns.histplot(\n",
    "        adata.obs[\"n_genes_by_counts\"][adata.obs[\"n_genes_by_counts\"] < min_numof_genes + 1000],\n",
    "        kde=False,\n",
    "        bins=60,\n",
    "        ax=axs[3],\n",
    "    )\n",
    "    plt.axvline(x = min_numof_genes, color = 'red')"
   ]
  },
  {
   "cell_type": "markdown",
   "id": "a3c0b438-1f2b-4e14-94cd-b7114337fd3f",
   "metadata": {},
   "source": [
    "# Filtering"
   ]
  },
  {
   "cell_type": "code",
   "execution_count": null,
   "id": "5cca172d-8d27-4d18-9336-53f46bfdaa54",
   "metadata": {},
   "outputs": [],
   "source": [
    "max_pct_mt = 5\n",
    "for idx, adata in enumerate(adatas):\n",
    "    adatas[idx] = adata[adata.obs['pct_counts_mt'] < max_pct_mt , :]\n",
    "    #helpers.assert_all_finite(adata.X)"
   ]
  },
  {
   "cell_type": "code",
   "execution_count": null,
   "id": "e46f2b86-f620-482f-b1d4-b7b178dcb9c6",
   "metadata": {},
   "outputs": [],
   "source": [
    " for adata in adatas:\n",
    "    sc.pp.filter_cells(adata, min_genes = min_numof_genes)\n",
    "    sc.pp.filter_cells(adata, max_genes = max_numof_genes)\n",
    "    sc.pp.filter_genes(adata, min_cells = 1)\n",
    "    print(adata.shape)"
   ]
  },
  {
   "cell_type": "markdown",
   "id": "0efe1334-28f6-4929-b52e-fe39a67b88c7",
   "metadata": {},
   "source": [
    "# QC after filtering"
   ]
  },
  {
   "cell_type": "code",
   "execution_count": null,
   "id": "5756cfab-5bdc-4dce-b643-13c06d3d110f",
   "metadata": {},
   "outputs": [],
   "source": [
    "for adata, name in zip(adatas, samples):\n",
    "    sc.pl.violin(adata, ['n_genes_by_counts', 'total_counts', 'pct_counts_mt', 'pct_counts_Rp'],\n",
    "             jitter=0.4, multi_panel=True, save = f\"{name}_filtered.png\" if save_figure else None)"
   ]
  },
  {
   "cell_type": "code",
   "execution_count": null,
   "id": "5e9ed64b-2380-4885-a3cb-1945662fdd7c",
   "metadata": {},
   "outputs": [],
   "source": [
    "for idx, adata in enumerate(adatas):\n",
    "    adatas[idx].layers['counts'] = adata.X"
   ]
  },
  {
   "cell_type": "code",
   "execution_count": null,
   "id": "bd46d860-c081-4797-8eb5-84f5bf9dccd3",
   "metadata": {},
   "outputs": [],
   "source": [
    "samples"
   ]
  },
  {
   "cell_type": "markdown",
   "id": "eef8cc99-10bf-4b00-a9bf-601554d84822",
   "metadata": {},
   "source": [
    "# Concatenate samples"
   ]
  },
  {
   "cell_type": "code",
   "execution_count": null,
   "id": "46675878-c88d-49fb-b284-94b569e25ca0",
   "metadata": {},
   "outputs": [],
   "source": [
    "adata = anndata.concat(adatas, join = \"outer\", fill_value=0)\n",
    "adata.obs_names_make_unique()"
   ]
  },
  {
   "cell_type": "markdown",
   "id": "5f3ea472-3fa7-448e-9188-0499a9d2cae0",
   "metadata": {},
   "source": [
    "# Normalization, transformation and PCA"
   ]
  },
  {
   "cell_type": "markdown",
   "id": "292f6603-f816-4682-a631-40884206cabe",
   "metadata": {},
   "source": [
    "sc.pp.normalize_total(adata)\n",
    "sc.pp.log1p(adata)"
   ]
  },
  {
   "cell_type": "markdown",
   "id": "7183edef-7526-475d-b1f8-0a633ff5a8b4",
   "metadata": {},
   "source": [
    "scaled_counts = sc.pp.normalize_total(adata, target_sum=None, inplace=False)\n",
    "adata.layers[\"concat_log1p_norm\"] = sc.pp.log1p(scaled_counts[\"X\"], copy=True)"
   ]
  },
  {
   "cell_type": "code",
   "execution_count": null,
   "id": "95923a9e-ed22-45b6-b8f9-70693493fa17",
   "metadata": {},
   "outputs": [],
   "source": [
    "sc.pp.normalize_total(adata, target_sum = None)\n",
    "sc.pp.log1p(adata)"
   ]
  },
  {
   "cell_type": "markdown",
   "id": "7de3dcb2-34ca-4746-a610-33fd43d0643f",
   "metadata": {},
   "source": [
    "sc.pp.highly_variable_genes(adata, layer = 'concat_log1p_norm')"
   ]
  },
  {
   "cell_type": "code",
   "execution_count": null,
   "id": "34abcb87-0d2b-427f-8178-b6c087a4f610",
   "metadata": {},
   "outputs": [],
   "source": [
    "sc.pp.highly_variable_genes(adata)"
   ]
  },
  {
   "cell_type": "markdown",
   "id": "070d75ce-d765-453d-85dd-44da366b9643",
   "metadata": {},
   "source": [
    "adata.X = adata.layers['concat_log1p_norm']\n",
    "sc.pp.pca(adata, n_comps = 20, use_highly_variable=True)"
   ]
  },
  {
   "cell_type": "code",
   "execution_count": null,
   "id": "70521b3a-9a60-4bca-89f1-d79561cc9596",
   "metadata": {},
   "outputs": [],
   "source": [
    "sc.pp.pca(adata, n_comps = 20, use_highly_variable=True)"
   ]
  },
  {
   "cell_type": "code",
   "execution_count": null,
   "id": "de71314d-f20d-4531-af3f-29d3e64ec47a",
   "metadata": {},
   "outputs": [],
   "source": [
    "sc.pp.neighbors(adata)"
   ]
  },
  {
   "cell_type": "code",
   "execution_count": null,
   "id": "f11fa0ab-979d-4c70-b4d3-c28f4d528bcc",
   "metadata": {},
   "outputs": [],
   "source": [
    "sc.tl.umap(adata)"
   ]
  },
  {
   "cell_type": "code",
   "execution_count": null,
   "id": "cfe5ed8f-a845-4451-b2c1-6f9910d9c6f1",
   "metadata": {},
   "outputs": [],
   "source": [
    "sc.tl.leiden(adata, resolution=0.8)"
   ]
  },
  {
   "cell_type": "code",
   "execution_count": null,
   "id": "1120dbe1-d7be-4ef3-8031-c320fc67c1e4",
   "metadata": {},
   "outputs": [],
   "source": [
    "for obs_key in ['sample', 'leiden', 'genotype']:\n",
    "    fig, (ax1) = plt.subplots(1,1)\n",
    "    ax1.set_aspect('equal')\n",
    "    sc.pl.umap(adata, color = obs_key, layer = 'concat_log1p_norm', size=umap_point_size, alpha = umap_transparency, ax = ax1, save = '_{}.png'.format(obs_key))"
   ]
  },
  {
   "cell_type": "code",
   "execution_count": null,
   "id": "0fc0d856-f2ef-49b5-b5ef-c9ef228e2a3b",
   "metadata": {},
   "outputs": [],
   "source": [
    "sc.tl.embedding_density(adata, groupby='sample')"
   ]
  },
  {
   "cell_type": "code",
   "execution_count": null,
   "id": "10ce4dd7-7ee8-4dce-aaed-fa1b2eb4a6a8",
   "metadata": {},
   "outputs": [],
   "source": [
    "for sam in adata.obs['sample'].cat.categories:\n",
    "    fig = sc.pl.embedding_density(adata, groupby='sample', group = sam, return_fig=True)\n",
    "    fig.savefig(path_to_results / 'umap_density_sample_{}.png'.format(sam), transparent = True)"
   ]
  },
  {
   "cell_type": "markdown",
   "id": "1aa0e371-597d-4506-9d43-3a9b5d5b4bd2",
   "metadata": {},
   "source": [
    "# Cell type annotation"
   ]
  },
  {
   "cell_type": "code",
   "execution_count": null,
   "id": "1681fc0f-fa5f-4ab4-a452-598e3ade01fe",
   "metadata": {},
   "outputs": [],
   "source": [
    "cell_type_marker_genes = { #'Leukocytes' : ['Ptprc'],\n",
    "                 'Neutrophils': ['S100a8', 'S100a9', 'Csf3r'],\n",
    "                 'Macrophages': ['Cd68', 'Csf1r', 'Adgre1'],#, 'Fcgr2b'],\n",
    "                 'DC': ['Batf3', 'Zbtb46', 'Ccr7'],\n",
    "                 'T-cells': ['Cd8a', 'Cd4', 'Cd3d'],\n",
    "                 'NK-cells': ['Gzmb', 'Gzma', 'Klrk1'],\n",
    "                 'B-cells': ['Cd19', 'Ms4a1'],\n",
    "                 'Epithelial cells': ['Krt19'],\n",
    "                 'Endothelial cells': ['Epcam'],\n",
    "                 'Tumor cells': ['Twist1', 'Tead1'],\n",
    "                 'CAF': ['Col1a1', 'Cxcl5', 'Mmp2', 'Fap']\n",
    "                }"
   ]
  },
  {
   "cell_type": "code",
   "execution_count": null,
   "id": "4a341779-27bd-4aaa-8c51-08c90b0804d2",
   "metadata": {},
   "outputs": [],
   "source": [
    "for cell_type in cell_type_marker_genes.keys():\n",
    "    print(cell_type)\n",
    "    for gene in cell_type_marker_genes[cell_type]:\n",
    "        fig, (ax1) = plt.subplots(1,1)\n",
    "        ax1.set_aspect('equal')\n",
    "        sc.pl.umap(adata, color = gene, size=umap_continuous_point_size, alpha = umap_continuous_transparency, ax = ax1, save = '_{}.png'.format(gene) if save_figure else None)"
   ]
  },
  {
   "cell_type": "code",
   "execution_count": null,
   "id": "950ad217-cf6e-499e-b535-97d8bea76148",
   "metadata": {},
   "outputs": [],
   "source": [
    "sc.tl.rank_genes_groups(adata, 'leiden', method='wilcoxon')\n",
    "sc.pl.rank_genes_groups(adata, n_genes=25, sharey=False)"
   ]
  },
  {
   "cell_type": "code",
   "execution_count": null,
   "id": "a0bc02b0-7a7b-4f20-8569-9b087e098bd3",
   "metadata": {},
   "outputs": [],
   "source": [
    "sc.pl.umap(adata, color = 'leiden')"
   ]
  },
  {
   "cell_type": "code",
   "execution_count": null,
   "id": "50368736-8cac-4d31-af47-94334757074e",
   "metadata": {},
   "outputs": [],
   "source": [
    "# create a dictionary to map cluster to annotation label\n",
    "cluster2celltype = {\n",
    "     '0': 'Macrophages',\n",
    "     '1': 'Macrophages',\n",
    "     '2': 'Macrophages',\n",
    "     '3': 'Macrophages',\n",
    "     '4': 'Macrophages',\n",
    "     '5': 'Macrophages',\n",
    "     '6': 'Macrophages',\n",
    "     '7': 'Macrophages',\n",
    "     '8': 'Macrophages',\n",
    "     '9': 'DC',\n",
    "     '10': 'Tumor cells',\n",
    "     '11': 'CAF',\n",
    "     '12': 'Macrophages',\n",
    "    '13': 'Neutrophils',\n",
    "    '14': 'NK cells'\n",
    "}\n",
    "\n",
    "# add a new `.obs` column called `cell type` by mapping clusters to annotation using pandas `map` function\n",
    "adata.obs['cell_type'] = adata.obs['leiden'].map(cluster2celltype).astype('category')"
   ]
  },
  {
   "cell_type": "code",
   "execution_count": null,
   "id": "8ea1bde9-80cb-4fc0-9bb7-41f50f52aaf9",
   "metadata": {},
   "outputs": [],
   "source": [
    "fig, (ax1) = plt.subplots(1,1)\n",
    "ax1.set_aspect('equal')\n",
    "sc.pl.umap(adata, color = 'cell_type', size=umap_point_size, alpha = umap_transparency, ax = ax1, save = '_cell_type.png' if save_figure else None)"
   ]
  },
  {
   "cell_type": "code",
   "execution_count": null,
   "id": "73782f7f-3397-4c7a-acee-d219baf9e6f3",
   "metadata": {},
   "outputs": [],
   "source": [
    "cell_type_colors = adata.uns['cell_type_colors']"
   ]
  },
  {
   "cell_type": "code",
   "execution_count": null,
   "id": "a350b029-b502-4671-9988-6a13394da274",
   "metadata": {},
   "outputs": [],
   "source": [
    "cell_type_colors"
   ]
  },
  {
   "cell_type": "code",
   "execution_count": null,
   "id": "ae28348f-23e6-49a4-bcff-e2d1e5858524",
   "metadata": {},
   "outputs": [],
   "source": [
    "cell_type_colors[4], cell_type_colors[2] = cell_type_colors[2], cell_type_colors[4]"
   ]
  },
  {
   "cell_type": "code",
   "execution_count": null,
   "id": "3b5238ff-be31-49c0-b140-90497965de5e",
   "metadata": {},
   "outputs": [],
   "source": [
    "cell_type_colors"
   ]
  },
  {
   "cell_type": "code",
   "execution_count": null,
   "id": "19f88874-dd7e-4d1d-a494-4d6c93189662",
   "metadata": {},
   "outputs": [],
   "source": [
    "adata.uns['cell_type_colors'] = cell_type_colors"
   ]
  },
  {
   "cell_type": "code",
   "execution_count": null,
   "id": "99e4f476-ed80-4ca9-bf38-728eabd3298c",
   "metadata": {},
   "outputs": [],
   "source": [
    "adata.uns['cell_type_colors']"
   ]
  },
  {
   "cell_type": "code",
   "execution_count": null,
   "id": "8cfffeff-7585-4a54-9590-fde6511c8f4c",
   "metadata": {},
   "outputs": [],
   "source": [
    "fig, (ax1) = plt.subplots(1,1)\n",
    "ax1.set_aspect('equal')\n",
    "sc.pl.umap(adata, color = 'cell_type', size=umap_point_size, alpha = umap_transparency, ax = ax1, save = '_cell_type.png' if save_figure else None)"
   ]
  },
  {
   "cell_type": "code",
   "execution_count": null,
   "id": "b9026071-2d0b-40fe-81ed-a2ba75a191b8",
   "metadata": {},
   "outputs": [],
   "source": [
    "adata_mac = adata[adata.obs.cell_type == 'Macrophages']"
   ]
  },
  {
   "cell_type": "markdown",
   "id": "5417cf3b-f031-47e9-96f3-e813dab4917b",
   "metadata": {},
   "source": [
    "# Cell function"
   ]
  },
  {
   "cell_type": "code",
   "execution_count": null,
   "id": "91d6b5d5-5727-4ed6-baf3-a8b8b297f63c",
   "metadata": {},
   "outputs": [],
   "source": [
    "marker_genes = ['Arg1', 'Spp1', 'Gsr', 'Gclm', 'Slc7a11', 'Mrc1', 'Ccl8', 'C1qa',\n",
    "'Stat1', 'H2-Ab1', 'H2-Eb1', 'Cd74', 'Chil3',\n",
    "               'Cd163', 'Marco', 'Cxcl9', 'Cxcl10', 'Cd5l', 'Retnla', 'Hmox1',\n",
    "               'Cd274', 'Cd86', 'Gclc']"
   ]
  },
  {
   "cell_type": "code",
   "execution_count": null,
   "id": "4f27611d-95fd-4fc5-9301-03bcbc2638b3",
   "metadata": {},
   "outputs": [],
   "source": [
    "for gene in marker_genes:\n",
    "    fig, (ax1) = plt.subplots(1,1)\n",
    "    ax1.set_aspect('equal')\n",
    "    sc.pl.umap(adata_mac, color = gene, size=umap_continuous_point_size, alpha= umap_continuous_transparency, ax = ax1, save = '_{}.png'.format(gene) if save_figure else None)\n",
    "    for genotype in adata.obs.genotype.cat.categories:\n",
    "        print(genotype)\n",
    "        fig, (ax1) = plt.subplots(1,1)\n",
    "        ax1.set_aspect('equal')\n",
    "        sc.pl.umap(adata_mac, ax = ax1, size = umap_continuous_point_size, show=False)\n",
    "        sc.pl.umap(adata_mac[adata_mac.obs.genotype.isin([genotype])], color = gene,\n",
    "              frameon = False,\n",
    "               ax = ax1,\n",
    "               size = umap_continuous_point_size,\n",
    "               alpha = umap_continuous_transparency,\n",
    "               vmin = adata_mac[:, gene].X.min(),\n",
    "               vmax = adata_mac[:, gene].X.max(),\n",
    "               legend_loc = 'right margin', save = '_{}_{}_score.png'.format(genotype, gene).replace(\" \",\"_\") if save_figure else None\n",
    "              )"
   ]
  },
  {
   "cell_type": "code",
   "execution_count": null,
   "id": "8b04a611-cd07-4879-81cd-c69717c4386f",
   "metadata": {},
   "outputs": [],
   "source": [
    "mac_function = decoupler_helpers.gmt_to_decoupler('../../shared/databases/macrophage_function.gmt')"
   ]
  },
  {
   "cell_type": "code",
   "execution_count": null,
   "id": "180e5efd-0ef9-4bcc-8d0d-9fb4909ed186",
   "metadata": {},
   "outputs": [],
   "source": [
    "important_terms = [#'Macrophage',\n",
    "             'Complement & Phagocytosis',\n",
    "             #'Antigen Presentation', part of 'Antigen Processing And Presentation'\n",
    "             'Oxidative Stress',\n",
    "             'Cycling',\n",
    "             #'Monocyte',\n",
    "             #'Phagocytosis',\n",
    "             #'Inflammatory Response',\n",
    "             'Antigen Processing And Presentation']"
   ]
  },
  {
   "cell_type": "code",
   "execution_count": null,
   "id": "cfc22d66-8013-4d9b-a84c-361ab1e177eb",
   "metadata": {},
   "outputs": [],
   "source": [
    "mac_function = mac_function[mac_function.geneset.isin(important_terms)]"
   ]
  },
  {
   "cell_type": "code",
   "execution_count": null,
   "id": "30dd6c3a-631c-42ee-8ce3-5e730366cadd",
   "metadata": {},
   "outputs": [],
   "source": [
    "mac_function = decoupler_helpers.prepare_db_for_gsea(mac_function, min_geneset_size=1)"
   ]
  },
  {
   "cell_type": "code",
   "execution_count": null,
   "id": "167f055e-4c51-48b2-a650-c1594f87b4b0",
   "metadata": {},
   "outputs": [],
   "source": [
    "dc.run_aucell(adata_mac, mac_function, source='geneset', target='genesymbol', use_raw=False)"
   ]
  },
  {
   "cell_type": "code",
   "execution_count": null,
   "id": "25861a6f-af71-4004-871d-6dfd9da01a62",
   "metadata": {},
   "outputs": [],
   "source": [
    "adata_mac.obs[important_terms] = adata_mac.obsm[\"aucell_estimate\"][important_terms]"
   ]
  },
  {
   "cell_type": "code",
   "execution_count": null,
   "id": "09fd88f2-7336-47e7-84a1-f2ef23d2a574",
   "metadata": {},
   "outputs": [],
   "source": [
    "for term in important_terms:\n",
    "    fig, (ax1) = plt.subplots(1,1)\n",
    "    ax1.set_aspect('equal')\n",
    "    sc.pl.umap(adata_mac, color = term,  size=umap_continuous_point_size, alpha= umap_continuous_transparency, color_map='magma', ax = ax1, save = '_{}.png'.format(term).replace(\" \",\"_\") if save_figure else None)\n",
    "    for genotype in adata.obs.genotype.cat.categories:\n",
    "        print(genotype)\n",
    "        fig, (ax1) = plt.subplots(1,1)\n",
    "        ax1.set_aspect('equal')\n",
    "        sc.pl.umap(adata_mac, ax = ax1, size = umap_continuous_point_size, show=False)\n",
    "        sc.pl.umap(adata_mac[adata_mac.obs.genotype.isin([genotype])], color = term,\n",
    "              frameon = False,\n",
    "               ax = ax1,\n",
    "               size = umap_continuous_point_size,\n",
    "               alpha = umap_continuous_transparency,\n",
    "               color_map='magma',\n",
    "               vmin = adata_mac.obs[term].min(),\n",
    "               vmax = adata_mac.obs[term].max(),\n",
    "               legend_loc = 'right margin', save = '_{}_{}_score.png'.format(genotype, term).replace(\" \",\"_\") if save_figure else None\n",
    "              )"
   ]
  },
  {
   "cell_type": "code",
   "execution_count": null,
   "id": "e8b6a02b-d157-4c82-b125-43a68de9a171",
   "metadata": {},
   "outputs": [],
   "source": [
    "adata_mac.write(path_to_results / 'analysed_macrophages.h5ad')"
   ]
  },
  {
   "cell_type": "code",
   "execution_count": null,
   "id": "62986639-39c6-41c2-9f5c-2632b797623f",
   "metadata": {},
   "outputs": [],
   "source": [
    "adata.write(path_to_results / 'analysed.h5ad')"
   ]
  },
  {
   "cell_type": "code",
   "execution_count": null,
   "id": "e1331c0e-d5e1-45e2-be7a-53137539c98d",
   "metadata": {},
   "outputs": [],
   "source": []
  }
 ],
 "metadata": {
  "language_info": {
   "name": "python",
   "pygments_lexer": "ipython3"
  }
 },
 "nbformat": 4,
 "nbformat_minor": 5
}
